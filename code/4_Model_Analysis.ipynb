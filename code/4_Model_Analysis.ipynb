{
 "cells": [
  {
   "cell_type": "code",
   "execution_count": 14,
   "metadata": {},
   "outputs": [],
   "source": [
    "import numpy as np\n",
    "import pandas as pd\n",
    "import pickle"
   ]
  },
  {
   "cell_type": "code",
   "execution_count": 4,
   "metadata": {},
   "outputs": [],
   "source": [
    "import re\n",
    "\n",
    "from nltk.stem.snowball import SnowballStemmer\n",
    "from nltk.tokenize import RegexpTokenizer\n",
    "from nltk.corpus import stopwords"
   ]
  },
  {
   "cell_type": "code",
   "execution_count": 6,
   "metadata": {},
   "outputs": [],
   "source": [
    "from sklearn.model_selection import train_test_split\n",
    "from sklearn.pipeline import Pipeline\n",
    "from sklearn.feature_extraction.text import CountVectorizer, TfidfVectorizer\n",
    "from sklearn.metrics import confusion_matrix, f1_score, precision_score, recall_score, accuracy_score\n",
    "from sklearn.naive_bayes import BernoulliNB"
   ]
  },
  {
   "cell_type": "code",
   "execution_count": 7,
   "metadata": {},
   "outputs": [],
   "source": [
    "import matplotlib.pyplot as plt\n",
    "import seaborn as sns"
   ]
  },
  {
   "cell_type": "code",
   "execution_count": 8,
   "metadata": {},
   "outputs": [],
   "source": [
    "snow=SnowballStemmer(\"english\")\n",
    "def snowball_tokens2(text):\n",
    "    text_processed = re.sub(r'[^A-Za-z]', ' ', text).split()\n",
    "    tokens = [snow.stem(word) for word in text_processed]\n",
    "    return tokens"
   ]
  },
  {
   "cell_type": "code",
   "execution_count": 9,
   "metadata": {},
   "outputs": [],
   "source": [
    "canada_df = pd.read_csv('..\\data\\canada_subreddit_comments.csv')"
   ]
  },
  {
   "cell_type": "code",
   "execution_count": 10,
   "metadata": {},
   "outputs": [],
   "source": [
    "custom_stopwords= stopwords.words('english')\n",
    "custom_stopwords.extend(['people', 'like', 'canada'])\n",
    "custom_stopwords = [snow.stem(word) for word in custom_stopwords]\n",
    "#I'm cheating and adding a few more stopwords here that I identfied as highly shared between both subreddits\n",
    "#that I didn't identify until after doing some more analysis on top tokens\n",
    "\n",
    "extra_stopwords=['get', 'would', 'gt', 'one', 'go', 'make', \n",
    "                 'actual', 'also', 'back', 'us', 'use', 'could', 'say', 'said', 'see', 'back', 'come',\n",
    "                'canadian', 'look']\n",
    "\n",
    "custom_stopwords.extend(extra_stopwords)"
   ]
  },
  {
   "cell_type": "code",
   "execution_count": 11,
   "metadata": {},
   "outputs": [],
   "source": [
    "X=canada_df['body_processed']\n",
    "y=canada_df['subreddit_bin']\n",
    "X_train, X_test, y_train, y_test = train_test_split(X, y, test_size=0.25, stratify=y, random_state=1920)"
   ]
  },
  {
   "cell_type": "code",
   "execution_count": 12,
   "metadata": {},
   "outputs": [],
   "source": [
    "bnb_final= Pipeline([('cv', CountVectorizer(tokenizer=snowball_tokens2,\n",
    "                                            max_features=4000,\n",
    "                                            stop_words=custom_stopwords,\n",
    "                                            binary=True)), \n",
    "                     ('bnb', BernoulliNB())])"
   ]
  },
  {
   "cell_type": "code",
   "execution_count": 13,
   "metadata": {
    "scrolled": true
   },
   "outputs": [
    {
     "name": "stderr",
     "output_type": "stream",
     "text": [
      "D:\\Applications\\Anaconda3\\lib\\site-packages\\sklearn\\feature_extraction\\text.py:383: UserWarning: Your stop_words may be inconsistent with your preprocessing. Tokenizing the stop words generated tokens ['r', 'v'] not in stop_words.\n",
      "  warnings.warn('Your stop_words may be inconsistent with '\n"
     ]
    }
   ],
   "source": [
    "bnb_final.fit(X_train, y_train);"
   ]
  },
  {
   "cell_type": "code",
   "execution_count": 15,
   "metadata": {},
   "outputs": [],
   "source": [
    "# pickle export\n",
    "\n",
    "pickle.dump(bnb_final, open(\"final_model.p\", \"wb\"))\n"
   ]
  },
  {
   "cell_type": "markdown",
   "metadata": {},
   "source": [
    "# Final Model Analysis"
   ]
  },
  {
   "cell_type": "markdown",
   "metadata": {},
   "source": [
    "Recall that by grid search, we identified a final model to be a Binomial Naive Bayes classifier, with the binary  CountVectorizer taking 4000 features, stopwords removed and a stemming tokenizer. Let's also recall that a positive result corresponds to a comment being classified in r\\OnGuardForThee, and a negative result corresponds to being classified in r\\Canada."
   ]
  },
  {
   "cell_type": "code",
   "execution_count": 11,
   "metadata": {},
   "outputs": [
    {
     "data": {
      "text/plain": [
       "0.6841337224728045"
      ]
     },
     "execution_count": 11,
     "metadata": {},
     "output_type": "execute_result"
    }
   ],
   "source": [
    "bnb_final.score(X_train, y_train)"
   ]
  },
  {
   "cell_type": "code",
   "execution_count": 12,
   "metadata": {
    "scrolled": true
   },
   "outputs": [
    {
     "data": {
      "text/plain": [
       "0.6146040588937525"
      ]
     },
     "execution_count": 12,
     "metadata": {},
     "output_type": "execute_result"
    }
   ],
   "source": [
    "bnb_final.score(X_test, y_test)"
   ]
  },
  {
   "cell_type": "markdown",
   "metadata": {},
   "source": [
    "Also recall that we like analyzing longer comments."
   ]
  },
  {
   "cell_type": "code",
   "execution_count": 13,
   "metadata": {},
   "outputs": [],
   "source": [
    "X_test_long = X_test[X_test.str.split().str.len() > 50]\n",
    "y_test_long = y_test[X_test.str.split().str.len() > 50]"
   ]
  },
  {
   "cell_type": "code",
   "execution_count": 14,
   "metadata": {},
   "outputs": [
    {
     "data": {
      "text/plain": [
       "0.6319444444444444"
      ]
     },
     "execution_count": 14,
     "metadata": {},
     "output_type": "execute_result"
    }
   ],
   "source": [
    "bnb_final.score(X_test_long, y_test_long)"
   ]
  },
  {
   "cell_type": "markdown",
   "metadata": {},
   "source": [
    "And let's keep our baseline here for reference."
   ]
  },
  {
   "cell_type": "code",
   "execution_count": 15,
   "metadata": {},
   "outputs": [
    {
     "data": {
      "text/plain": [
       "1    0.503979\n",
       "0    0.496021\n",
       "Name: subreddit_bin, dtype: float64"
      ]
     },
     "execution_count": 15,
     "metadata": {},
     "output_type": "execute_result"
    }
   ],
   "source": [
    "y_test.value_counts(normalize=True)"
   ]
  },
  {
   "cell_type": "code",
   "execution_count": 207,
   "metadata": {},
   "outputs": [
    {
     "data": {
      "text/plain": [
       "1    2533\n",
       "0    2493\n",
       "Name: subreddit_bin, dtype: int64"
      ]
     },
     "execution_count": 207,
     "metadata": {},
     "output_type": "execute_result"
    }
   ],
   "source": [
    "y_test.value_counts()"
   ]
  },
  {
   "cell_type": "code",
   "execution_count": 16,
   "metadata": {},
   "outputs": [
    {
     "data": {
      "text/plain": [
       "(5026,)"
      ]
     },
     "execution_count": 16,
     "metadata": {},
     "output_type": "execute_result"
    }
   ],
   "source": [
    "y_test.shape"
   ]
  },
  {
   "cell_type": "markdown",
   "metadata": {},
   "source": [
    "## Classification Metrics"
   ]
  },
  {
   "cell_type": "markdown",
   "metadata": {},
   "source": [
    "Let's build a confusion matrix and take a look at our metrics."
   ]
  },
  {
   "cell_type": "code",
   "execution_count": 17,
   "metadata": {},
   "outputs": [],
   "source": [
    "preds=bnb_final.predict(X_test)"
   ]
  },
  {
   "cell_type": "code",
   "execution_count": 18,
   "metadata": {},
   "outputs": [],
   "source": [
    "final_cm=confusion_matrix(y_test, preds)\n",
    "tn, fp, fn, tp = final_cm.ravel()"
   ]
  },
  {
   "cell_type": "code",
   "execution_count": 19,
   "metadata": {},
   "outputs": [
    {
     "data": {
      "text/plain": [
       "array([[1782,  711],\n",
       "       [1226, 1307]], dtype=int64)"
      ]
     },
     "execution_count": 19,
     "metadata": {},
     "output_type": "execute_result"
    }
   ],
   "source": [
    "final_cm"
   ]
  },
  {
   "cell_type": "code",
   "execution_count": 20,
   "metadata": {
    "scrolled": true
   },
   "outputs": [
    {
     "data": {
      "text/plain": [
       "3008"
      ]
     },
     "execution_count": 20,
     "metadata": {},
     "output_type": "execute_result"
    }
   ],
   "source": [
    "tn+fn"
   ]
  },
  {
   "cell_type": "code",
   "execution_count": 21,
   "metadata": {},
   "outputs": [
    {
     "data": {
      "text/plain": [
       "2018"
      ]
     },
     "execution_count": 21,
     "metadata": {},
     "output_type": "execute_result"
    }
   ],
   "source": [
    "tp + fp"
   ]
  },
  {
   "cell_type": "markdown",
   "metadata": {},
   "source": [
    "Despite that the data is split about 50/50 between OGFT and Canada comments, it's guessing about 60% of the comments are from r/Canada, and 40% of the comments are from OGFT."
   ]
  },
  {
   "cell_type": "markdown",
   "metadata": {},
   "source": [
    "### Accuracy"
   ]
  },
  {
   "cell_type": "code",
   "execution_count": 22,
   "metadata": {},
   "outputs": [
    {
     "data": {
      "text/plain": [
       "0.6146040588937525"
      ]
     },
     "execution_count": 22,
     "metadata": {},
     "output_type": "execute_result"
    }
   ],
   "source": [
    "accuracy_score(y_test, preds)"
   ]
  },
  {
   "cell_type": "markdown",
   "metadata": {},
   "source": [
    "### Recall/Sensitivity"
   ]
  },
  {
   "cell_type": "code",
   "execution_count": 23,
   "metadata": {},
   "outputs": [
    {
     "data": {
      "text/plain": [
       "0.5159889459139361"
      ]
     },
     "execution_count": 23,
     "metadata": {},
     "output_type": "execute_result"
    }
   ],
   "source": [
    "recall_score(y_test, preds)"
   ]
  },
  {
   "cell_type": "markdown",
   "metadata": {},
   "source": [
    "We're correctly identifying 51% the OGFT posts. This isn't great!"
   ]
  },
  {
   "cell_type": "markdown",
   "metadata": {},
   "source": [
    "### Specificity"
   ]
  },
  {
   "cell_type": "code",
   "execution_count": 24,
   "metadata": {
    "scrolled": true
   },
   "outputs": [
    {
     "data": {
      "text/plain": [
       "0.7148014440433214"
      ]
     },
     "execution_count": 24,
     "metadata": {},
     "output_type": "execute_result"
    }
   ],
   "source": [
    "tn/(tn + fp)"
   ]
  },
  {
   "cell_type": "markdown",
   "metadata": {},
   "source": [
    "Specificity is doing better: we're hitting 71% of the Canada posts."
   ]
  },
  {
   "cell_type": "markdown",
   "metadata": {},
   "source": [
    "### Precision"
   ]
  },
  {
   "cell_type": "code",
   "execution_count": 25,
   "metadata": {},
   "outputs": [
    {
     "data": {
      "text/plain": [
       "0.6476709613478692"
      ]
     },
     "execution_count": 25,
     "metadata": {},
     "output_type": "execute_result"
    }
   ],
   "source": [
    "precision_score(y_test, preds)"
   ]
  },
  {
   "cell_type": "markdown",
   "metadata": {},
   "source": [
    "Our model is 64.8% precise at identifying r/OnGuardForThee posts."
   ]
  },
  {
   "cell_type": "code",
   "execution_count": 26,
   "metadata": {},
   "outputs": [
    {
     "data": {
      "text/plain": [
       "0.5924202127659575"
      ]
     },
     "execution_count": 26,
     "metadata": {},
     "output_type": "execute_result"
    }
   ],
   "source": [
    "(tn)/(tn+fn)"
   ]
  },
  {
   "cell_type": "markdown",
   "metadata": {},
   "source": [
    "It's 59% precise at identifying r/Canada posts."
   ]
  },
  {
   "cell_type": "markdown",
   "metadata": {},
   "source": [
    "### F1 Score"
   ]
  },
  {
   "cell_type": "code",
   "execution_count": 27,
   "metadata": {
    "scrolled": true
   },
   "outputs": [
    {
     "data": {
      "text/plain": [
       "0.5743792573060865"
      ]
     },
     "execution_count": 27,
     "metadata": {},
     "output_type": "execute_result"
    }
   ],
   "source": [
    "f1_score(y_test, preds)"
   ]
  },
  {
   "cell_type": "markdown",
   "metadata": {},
   "source": [
    "These aren't great results, but they are consistently above the baseline. They also confirm some of the things that we observed in the data exploration. Overall, it seems that the model is much better at identifying r/Canada posts than r/OnGuardForThee\n",
    " \n",
    "Though the results aren't necessarily great, given the wide overlap in subject matter and consistently above baseline performance, I think that our model is grabbing onto something interesting here."
   ]
  },
  {
   "cell_type": "markdown",
   "metadata": {},
   "source": [
    "## Classification metrics for long comments\n",
    "\n",
    "Is there a length threshold for comments that gives us better accuracy? We previously showed that the model is more accurate on comments of >50 words. Let's see if we can identify a word length cutoff that maximizes accuracy."
   ]
  },
  {
   "cell_type": "code",
   "execution_count": null,
   "metadata": {},
   "outputs": [],
   "source": [
    "X_test_long = X_test[X_test.str.split().str.len() > 50]\n",
    "y_test_long = y_test[X_test.str.split().str.len() > 50]"
   ]
  },
  {
   "cell_type": "code",
   "execution_count": 145,
   "metadata": {
    "scrolled": false
   },
   "outputs": [
    {
     "name": "stdout",
     "output_type": "stream",
     "text": [
      "0\n",
      "1\n",
      "2\n",
      "3\n",
      "4\n",
      "5\n",
      "6\n",
      "7\n",
      "8\n",
      "9\n",
      "10\n",
      "11\n",
      "12\n",
      "13\n",
      "14\n",
      "15\n",
      "16\n",
      "17\n",
      "18\n",
      "19\n",
      "20\n",
      "21\n",
      "22\n",
      "23\n",
      "24\n",
      "25\n",
      "26\n",
      "27\n",
      "28\n",
      "29\n",
      "30\n",
      "31\n",
      "32\n",
      "33\n",
      "34\n",
      "35\n",
      "36\n",
      "37\n",
      "38\n",
      "39\n",
      "40\n",
      "41\n",
      "42\n",
      "43\n",
      "44\n",
      "45\n",
      "46\n",
      "47\n",
      "48\n",
      "49\n",
      "50\n",
      "51\n",
      "52\n",
      "53\n",
      "54\n",
      "55\n",
      "56\n",
      "57\n",
      "58\n",
      "59\n",
      "60\n",
      "61\n",
      "62\n",
      "63\n",
      "64\n",
      "65\n",
      "66\n",
      "67\n",
      "68\n",
      "69\n",
      "70\n",
      "71\n",
      "72\n",
      "73\n",
      "74\n",
      "75\n",
      "76\n",
      "77\n",
      "78\n",
      "79\n",
      "80\n",
      "81\n",
      "82\n",
      "83\n",
      "84\n",
      "85\n",
      "86\n",
      "87\n",
      "88\n",
      "89\n",
      "90\n",
      "91\n",
      "92\n",
      "93\n",
      "94\n",
      "95\n",
      "96\n",
      "97\n",
      "98\n",
      "99\n",
      "100\n",
      "101\n",
      "102\n",
      "103\n",
      "104\n",
      "105\n",
      "106\n",
      "107\n",
      "108\n",
      "109\n",
      "110\n",
      "111\n",
      "112\n",
      "113\n",
      "114\n",
      "115\n",
      "116\n",
      "117\n",
      "118\n",
      "119\n",
      "120\n",
      "121\n",
      "122\n",
      "123\n",
      "124\n",
      "125\n",
      "126\n",
      "127\n",
      "128\n",
      "129\n",
      "130\n",
      "131\n",
      "132\n",
      "133\n",
      "134\n",
      "135\n",
      "136\n",
      "137\n",
      "138\n",
      "139\n",
      "140\n",
      "141\n",
      "142\n",
      "143\n",
      "144\n",
      "145\n",
      "146\n",
      "147\n",
      "148\n",
      "149\n",
      "150\n",
      "151\n",
      "152\n",
      "153\n",
      "154\n",
      "155\n",
      "156\n",
      "157\n",
      "158\n",
      "159\n",
      "160\n",
      "161\n",
      "162\n",
      "163\n",
      "164\n",
      "165\n",
      "166\n",
      "167\n",
      "168\n",
      "169\n",
      "170\n",
      "171\n",
      "172\n",
      "173\n",
      "174\n",
      "175\n",
      "176\n",
      "177\n",
      "178\n",
      "179\n",
      "180\n",
      "181\n",
      "182\n",
      "183\n",
      "184\n",
      "185\n",
      "186\n",
      "187\n",
      "188\n",
      "189\n",
      "190\n",
      "191\n",
      "192\n",
      "193\n",
      "194\n",
      "195\n",
      "196\n",
      "197\n",
      "198\n",
      "199\n",
      "200\n",
      "201\n",
      "202\n",
      "203\n",
      "204\n",
      "205\n",
      "206\n",
      "207\n",
      "208\n",
      "209\n",
      "210\n",
      "211\n",
      "212\n",
      "213\n",
      "214\n",
      "215\n",
      "216\n",
      "217\n",
      "218\n",
      "219\n",
      "220\n",
      "221\n",
      "222\n",
      "223\n",
      "224\n",
      "225\n",
      "226\n",
      "227\n",
      "228\n",
      "229\n",
      "230\n",
      "231\n",
      "232\n",
      "233\n",
      "234\n",
      "235\n",
      "236\n",
      "237\n",
      "238\n",
      "239\n",
      "240\n",
      "241\n",
      "242\n",
      "243\n",
      "244\n",
      "245\n",
      "246\n",
      "247\n",
      "248\n",
      "249\n",
      "Best accuracy of 0.6389085754783841 is achieved predicting comments of length 20 words or greater\n"
     ]
    }
   ],
   "source": [
    "acc_score=0\n",
    "threshold=0\n",
    "for i in range(0,250):\n",
    "    print(i)\n",
    "    X_test_l=X_test[X_test.str.split().str.len() > i]\n",
    "    y_test_l = y_test[X_test.str.split().str.len() > i]\n",
    "    i_acc=bnb_final.score(X_test_l, y_test_l)\n",
    "    if i_acc > acc_score:\n",
    "        acc_score=i_acc\n",
    "        threshold = i\n",
    "\n",
    "print(f\"Best accuracy of {acc_score} is achieved predicting comments of length {threshold} words or greater\")"
   ]
  },
  {
   "cell_type": "markdown",
   "metadata": {},
   "source": [
    "So we get a an accuracy improvement of up to 0.639% (from 0.614) if we restrict to comments that have more than 20 words. Let's rerun our classification metrics for just this subset."
   ]
  },
  {
   "cell_type": "code",
   "execution_count": 161,
   "metadata": {},
   "outputs": [],
   "source": [
    "X_test_long = X_test[X_test.str.split().str.len() > 20]\n",
    "y_test_long = y_test[X_test.str.split().str.len() > 20]"
   ]
  },
  {
   "cell_type": "code",
   "execution_count": 167,
   "metadata": {
    "scrolled": true
   },
   "outputs": [
    {
     "data": {
      "text/plain": [
       "(2822,)"
      ]
     },
     "execution_count": 167,
     "metadata": {},
     "output_type": "execute_result"
    }
   ],
   "source": [
    "X_test_long.shape"
   ]
  },
  {
   "cell_type": "code",
   "execution_count": 181,
   "metadata": {},
   "outputs": [
    {
     "data": {
      "text/plain": [
       "1    0.515946\n",
       "0    0.484054\n",
       "Name: subreddit_bin, dtype: float64"
      ]
     },
     "execution_count": 181,
     "metadata": {},
     "output_type": "execute_result"
    }
   ],
   "source": [
    "y_test_long.value_counts(normalize=True)"
   ]
  },
  {
   "cell_type": "code",
   "execution_count": 209,
   "metadata": {},
   "outputs": [
    {
     "data": {
      "text/plain": [
       "1    1456\n",
       "0    1366\n",
       "Name: subreddit_bin, dtype: int64"
      ]
     },
     "execution_count": 209,
     "metadata": {},
     "output_type": "execute_result"
    }
   ],
   "source": [
    "y_test_long.value_counts()"
   ]
  },
  {
   "cell_type": "markdown",
   "metadata": {},
   "source": [
    "This is a sample test set with near 3000 values, and close to 50% balance between classes. So our stratification isn't too skewed by the wordcount restriction."
   ]
  },
  {
   "cell_type": "code",
   "execution_count": 168,
   "metadata": {},
   "outputs": [],
   "source": [
    "preds_long=bnb_final.predict(X_test_long)"
   ]
  },
  {
   "cell_type": "code",
   "execution_count": 183,
   "metadata": {},
   "outputs": [],
   "source": [
    "cm_long=confusion_matrix(y_test_long, preds_long)\n",
    "tn_l, fp_l, fn_l, tp_l = cm_long.ravel()"
   ]
  },
  {
   "cell_type": "code",
   "execution_count": 176,
   "metadata": {},
   "outputs": [
    {
     "data": {
      "text/plain": [
       "array([[863, 503],\n",
       "       [516, 940]], dtype=int64)"
      ]
     },
     "execution_count": 176,
     "metadata": {},
     "output_type": "execute_result"
    }
   ],
   "source": [
    "cm_long"
   ]
  },
  {
   "cell_type": "code",
   "execution_count": 184,
   "metadata": {},
   "outputs": [
    {
     "data": {
      "text/plain": [
       "1379"
      ]
     },
     "execution_count": 184,
     "metadata": {},
     "output_type": "execute_result"
    }
   ],
   "source": [
    "tn_l + fn_l"
   ]
  },
  {
   "cell_type": "code",
   "execution_count": 185,
   "metadata": {},
   "outputs": [
    {
     "data": {
      "text/plain": [
       "1443"
      ]
     },
     "execution_count": 185,
     "metadata": {},
     "output_type": "execute_result"
    }
   ],
   "source": [
    "tp_l + fp_l"
   ]
  },
  {
   "cell_type": "markdown",
   "metadata": {},
   "source": [
    "The predictions for this test set are much more balanced -- it's guessing categories much closer to their actual proportions."
   ]
  },
  {
   "cell_type": "markdown",
   "metadata": {},
   "source": [
    "### Accuracy"
   ]
  },
  {
   "cell_type": "code",
   "execution_count": 170,
   "metadata": {},
   "outputs": [
    {
     "data": {
      "text/plain": [
       "0.6389085754783841"
      ]
     },
     "execution_count": 170,
     "metadata": {},
     "output_type": "execute_result"
    }
   ],
   "source": [
    "accuracy_score(y_test_long, preds_long)"
   ]
  },
  {
   "cell_type": "markdown",
   "metadata": {},
   "source": [
    "### Recall"
   ]
  },
  {
   "cell_type": "code",
   "execution_count": 177,
   "metadata": {},
   "outputs": [
    {
     "data": {
      "text/plain": [
       "0.6456043956043956"
      ]
     },
     "execution_count": 177,
     "metadata": {},
     "output_type": "execute_result"
    }
   ],
   "source": [
    "recall_score(y_test_long, preds_long)"
   ]
  },
  {
   "cell_type": "markdown",
   "metadata": {},
   "source": [
    "### Specificity"
   ]
  },
  {
   "cell_type": "code",
   "execution_count": 186,
   "metadata": {},
   "outputs": [
    {
     "data": {
      "text/plain": [
       "0.6317715959004392"
      ]
     },
     "execution_count": 186,
     "metadata": {},
     "output_type": "execute_result"
    }
   ],
   "source": [
    "tn_l/(tn_l + fp_l)"
   ]
  },
  {
   "cell_type": "markdown",
   "metadata": {},
   "source": [
    "### Precision"
   ]
  },
  {
   "cell_type": "code",
   "execution_count": 179,
   "metadata": {},
   "outputs": [
    {
     "data": {
      "text/plain": [
       "0.6514206514206514"
      ]
     },
     "execution_count": 179,
     "metadata": {},
     "output_type": "execute_result"
    }
   ],
   "source": [
    "precision_score(y_test_long, preds_long)"
   ]
  },
  {
   "cell_type": "markdown",
   "metadata": {},
   "source": [
    "The model is 65% precise at identifying long comments to be in r/OnGuardForThee."
   ]
  },
  {
   "cell_type": "code",
   "execution_count": 187,
   "metadata": {},
   "outputs": [
    {
     "data": {
      "text/plain": [
       "0.6258158085569253"
      ]
     },
     "execution_count": 187,
     "metadata": {},
     "output_type": "execute_result"
    }
   ],
   "source": [
    "tn_l/(tn_l+fn_l)"
   ]
  },
  {
   "cell_type": "markdown",
   "metadata": {},
   "source": [
    "It's 63% precise at identifying r/Canada posts."
   ]
  },
  {
   "cell_type": "markdown",
   "metadata": {},
   "source": [
    "### F1 Score"
   ]
  },
  {
   "cell_type": "code",
   "execution_count": 188,
   "metadata": {},
   "outputs": [
    {
     "data": {
      "text/plain": [
       "0.6484994825802001"
      ]
     },
     "execution_count": 188,
     "metadata": {},
     "output_type": "execute_result"
    }
   ],
   "source": [
    "f1_score(y_test_long, preds_long)"
   ]
  },
  {
   "cell_type": "markdown",
   "metadata": {},
   "source": [
    "It seems that restricting our test set to comments of greater than 20 words significantly improves performance. All metrics except specificity show improvement, some significantly. This seems to imply that the model was disproportionately guessing comments of 20 words or under to be in r/Canada, increasing specificity at the expense of everything else.\n",
    "\n",
    "Though not included here, training our model (in it's current form) on exclusively long comments actually slightly reduces performance. It seems like the model is \"learning\" something useful from smaller comments that's useful for predicting larger ones."
   ]
  },
  {
   "cell_type": "markdown",
   "metadata": {},
   "source": [
    "## A Quick Analysis of Short Comments"
   ]
  },
  {
   "cell_type": "code",
   "execution_count": 189,
   "metadata": {},
   "outputs": [],
   "source": [
    "X_test_short = X_test[X_test.str.split().str.len() <= 20]\n",
    "y_test_short = y_test[X_test.str.split().str.len() <= 20]"
   ]
  },
  {
   "cell_type": "code",
   "execution_count": 191,
   "metadata": {},
   "outputs": [
    {
     "data": {
      "text/plain": [
       "(2204,)"
      ]
     },
     "execution_count": 191,
     "metadata": {},
     "output_type": "execute_result"
    }
   ],
   "source": [
    "X_test_short.shape"
   ]
  },
  {
   "cell_type": "code",
   "execution_count": 192,
   "metadata": {},
   "outputs": [
    {
     "data": {
      "text/plain": [
       "0    0.511343\n",
       "1    0.488657\n",
       "Name: subreddit_bin, dtype: float64"
      ]
     },
     "execution_count": 192,
     "metadata": {},
     "output_type": "execute_result"
    }
   ],
   "source": [
    "y_test_short.value_counts(normalize=True)"
   ]
  },
  {
   "cell_type": "code",
   "execution_count": 210,
   "metadata": {},
   "outputs": [
    {
     "data": {
      "text/plain": [
       "0    1127\n",
       "1    1077\n",
       "Name: subreddit_bin, dtype: int64"
      ]
     },
     "execution_count": 210,
     "metadata": {},
     "output_type": "execute_result"
    }
   ],
   "source": [
    "y_test_short.value_counts()"
   ]
  },
  {
   "cell_type": "code",
   "execution_count": 193,
   "metadata": {},
   "outputs": [],
   "source": [
    "preds_short=bnb_final.predict(X_test_short)"
   ]
  },
  {
   "cell_type": "code",
   "execution_count": 196,
   "metadata": {},
   "outputs": [],
   "source": [
    "cm_short=confusion_matrix(y_test_short, preds_short)\n",
    "tn_s, fp_s, fn_s, tp_s = cm_short.ravel()"
   ]
  },
  {
   "cell_type": "code",
   "execution_count": 195,
   "metadata": {},
   "outputs": [
    {
     "data": {
      "text/plain": [
       "array([[919, 208],\n",
       "       [710, 367]], dtype=int64)"
      ]
     },
     "execution_count": 195,
     "metadata": {},
     "output_type": "execute_result"
    }
   ],
   "source": [
    "cm_short"
   ]
  },
  {
   "cell_type": "code",
   "execution_count": 197,
   "metadata": {},
   "outputs": [
    {
     "data": {
      "text/plain": [
       "575"
      ]
     },
     "execution_count": 197,
     "metadata": {},
     "output_type": "execute_result"
    }
   ],
   "source": [
    "tp_s + fp_s"
   ]
  },
  {
   "cell_type": "code",
   "execution_count": 198,
   "metadata": {},
   "outputs": [
    {
     "data": {
      "text/plain": [
       "1629"
      ]
     },
     "execution_count": 198,
     "metadata": {},
     "output_type": "execute_result"
    }
   ],
   "source": [
    "tn_s + fn_s"
   ]
  },
  {
   "cell_type": "markdown",
   "metadata": {},
   "source": [
    "As predicted, the model is significantly skewed towards guessing that short comments are from r/Canada, despite them being near balanced classes."
   ]
  },
  {
   "cell_type": "code",
   "execution_count": 199,
   "metadata": {},
   "outputs": [
    {
     "data": {
      "text/plain": [
       "0.5834845735027223"
      ]
     },
     "execution_count": 199,
     "metadata": {},
     "output_type": "execute_result"
    }
   ],
   "source": [
    "accuracy_score(y_test_short, preds_short)"
   ]
  },
  {
   "cell_type": "code",
   "execution_count": 200,
   "metadata": {},
   "outputs": [
    {
     "data": {
      "text/plain": [
       "0.34076137418755803"
      ]
     },
     "execution_count": 200,
     "metadata": {},
     "output_type": "execute_result"
    }
   ],
   "source": [
    "recall_score(y_test_short, preds_short)"
   ]
  },
  {
   "cell_type": "markdown",
   "metadata": {},
   "source": [
    "**Specificity**"
   ]
  },
  {
   "cell_type": "code",
   "execution_count": 201,
   "metadata": {},
   "outputs": [
    {
     "data": {
      "text/plain": [
       "0.8154392191659272"
      ]
     },
     "execution_count": 201,
     "metadata": {},
     "output_type": "execute_result"
    }
   ],
   "source": [
    "tn_s/(tn_s+fp_s)"
   ]
  },
  {
   "cell_type": "code",
   "execution_count": 202,
   "metadata": {},
   "outputs": [
    {
     "data": {
      "text/plain": [
       "0.6382608695652174"
      ]
     },
     "execution_count": 202,
     "metadata": {},
     "output_type": "execute_result"
    }
   ],
   "source": [
    "precision_score(y_test_short, preds_short)"
   ]
  },
  {
   "cell_type": "markdown",
   "metadata": {},
   "source": [
    "**Canada precision**"
   ]
  },
  {
   "cell_type": "code",
   "execution_count": 203,
   "metadata": {},
   "outputs": [
    {
     "data": {
      "text/plain": [
       "0.5641497851442603"
      ]
     },
     "execution_count": 203,
     "metadata": {},
     "output_type": "execute_result"
    }
   ],
   "source": [
    "tn_s/(tn_s+fn_s)"
   ]
  },
  {
   "cell_type": "code",
   "execution_count": 205,
   "metadata": {},
   "outputs": [
    {
     "data": {
      "text/plain": [
       "0.44430992736077485"
      ]
     },
     "execution_count": 205,
     "metadata": {},
     "output_type": "execute_result"
    }
   ],
   "source": [
    "f1_score(y_test_short, preds_short)"
   ]
  },
  {
   "cell_type": "markdown",
   "metadata": {},
   "source": [
    "## Analysis/Exploration"
   ]
  },
  {
   "cell_type": "markdown",
   "metadata": {},
   "source": [
    "I'm particularly interested in comments that our model assigned high probabilities to. Let's investigate some such comments."
   ]
  },
  {
   "cell_type": "code",
   "execution_count": 28,
   "metadata": {},
   "outputs": [],
   "source": [
    "predict_probs=bnb_final.predict_proba(X_test)"
   ]
  },
  {
   "cell_type": "code",
   "execution_count": 29,
   "metadata": {},
   "outputs": [
    {
     "data": {
      "text/plain": [
       "(5026, 2)"
      ]
     },
     "execution_count": 29,
     "metadata": {},
     "output_type": "execute_result"
    }
   ],
   "source": [
    "predict_probs.shape"
   ]
  },
  {
   "cell_type": "code",
   "execution_count": 30,
   "metadata": {},
   "outputs": [
    {
     "data": {
      "text/plain": [
       "array([0.89153374, 0.77489858, 0.69960435, ..., 0.35682451, 0.79064755,\n",
       "       0.73541651])"
      ]
     },
     "execution_count": 30,
     "metadata": {},
     "output_type": "execute_result"
    }
   ],
   "source": [
    "predict_probs[:,0]"
   ]
  },
  {
   "cell_type": "code",
   "execution_count": 31,
   "metadata": {},
   "outputs": [],
   "source": [
    "comment_probs=pd.DataFrame(X_test)"
   ]
  },
  {
   "cell_type": "code",
   "execution_count": 32,
   "metadata": {},
   "outputs": [],
   "source": [
    "comment_probs['canada_prob']=predict_probs[:,0]\n",
    "comment_probs['ogft_prob']=predict_probs[:,1]\n",
    "comment_probs['subreddit']=y_test.map({0:'r/canada', 1:'r/onguardforthee'})\n",
    "comment_probs['y_pred']=preds\n",
    "comment_probs['y_true']=y_test\n",
    "comment_probs['correct']= comment_probs['y_pred']==comment_probs['y_true']"
   ]
  },
  {
   "cell_type": "code",
   "execution_count": 33,
   "metadata": {},
   "outputs": [
    {
     "data": {
      "text/html": [
       "<div>\n",
       "<style scoped>\n",
       "    .dataframe tbody tr th:only-of-type {\n",
       "        vertical-align: middle;\n",
       "    }\n",
       "\n",
       "    .dataframe tbody tr th {\n",
       "        vertical-align: top;\n",
       "    }\n",
       "\n",
       "    .dataframe thead th {\n",
       "        text-align: right;\n",
       "    }\n",
       "</style>\n",
       "<table border=\"1\" class=\"dataframe\">\n",
       "  <thead>\n",
       "    <tr style=\"text-align: right;\">\n",
       "      <th></th>\n",
       "      <th>body_processed</th>\n",
       "      <th>canada_prob</th>\n",
       "      <th>ogft_prob</th>\n",
       "      <th>subreddit</th>\n",
       "      <th>y_pred</th>\n",
       "      <th>y_true</th>\n",
       "      <th>correct</th>\n",
       "    </tr>\n",
       "  </thead>\n",
       "  <tbody>\n",
       "    <tr>\n",
       "      <th>2494</th>\n",
       "      <td>Hah, so damn sensitive. Where have I insulted ...</td>\n",
       "      <td>0.891534</td>\n",
       "      <td>0.108466</td>\n",
       "      <td>r/onguardforthee</td>\n",
       "      <td>0</td>\n",
       "      <td>1</td>\n",
       "      <td>False</td>\n",
       "    </tr>\n",
       "    <tr>\n",
       "      <th>4753</th>\n",
       "      <td>I'm glad she is at least free of that pain and...</td>\n",
       "      <td>0.774899</td>\n",
       "      <td>0.225101</td>\n",
       "      <td>r/onguardforthee</td>\n",
       "      <td>0</td>\n",
       "      <td>1</td>\n",
       "      <td>False</td>\n",
       "    </tr>\n",
       "    <tr>\n",
       "      <th>12281</th>\n",
       "      <td>I got an idea, lets ban murder all together. T...</td>\n",
       "      <td>0.699604</td>\n",
       "      <td>0.300396</td>\n",
       "      <td>r/canada</td>\n",
       "      <td>0</td>\n",
       "      <td>0</td>\n",
       "      <td>True</td>\n",
       "    </tr>\n",
       "    <tr>\n",
       "      <th>10206</th>\n",
       "      <td>The flu causes all those things too. So does e...</td>\n",
       "      <td>0.981876</td>\n",
       "      <td>0.018124</td>\n",
       "      <td>r/canada</td>\n",
       "      <td>0</td>\n",
       "      <td>0</td>\n",
       "      <td>True</td>\n",
       "    </tr>\n",
       "    <tr>\n",
       "      <th>5494</th>\n",
       "      <td>yeah, you're right. Canadians who were born he...</td>\n",
       "      <td>0.393335</td>\n",
       "      <td>0.606665</td>\n",
       "      <td>r/onguardforthee</td>\n",
       "      <td>1</td>\n",
       "      <td>1</td>\n",
       "      <td>True</td>\n",
       "    </tr>\n",
       "    <tr>\n",
       "      <th>...</th>\n",
       "      <td>...</td>\n",
       "      <td>...</td>\n",
       "      <td>...</td>\n",
       "      <td>...</td>\n",
       "      <td>...</td>\n",
       "      <td>...</td>\n",
       "      <td>...</td>\n",
       "    </tr>\n",
       "    <tr>\n",
       "      <th>17690</th>\n",
       "      <td>I never want to deal with US style Healthcare,...</td>\n",
       "      <td>0.245613</td>\n",
       "      <td>0.754387</td>\n",
       "      <td>r/canada</td>\n",
       "      <td>1</td>\n",
       "      <td>0</td>\n",
       "      <td>False</td>\n",
       "    </tr>\n",
       "    <tr>\n",
       "      <th>5629</th>\n",
       "      <td>Sooooo CBC?</td>\n",
       "      <td>0.710833</td>\n",
       "      <td>0.289167</td>\n",
       "      <td>r/onguardforthee</td>\n",
       "      <td>0</td>\n",
       "      <td>1</td>\n",
       "      <td>False</td>\n",
       "    </tr>\n",
       "    <tr>\n",
       "      <th>6099</th>\n",
       "      <td>Source: http://projects.thestar.com/canadas-co...</td>\n",
       "      <td>0.356825</td>\n",
       "      <td>0.643175</td>\n",
       "      <td>r/onguardforthee</td>\n",
       "      <td>1</td>\n",
       "      <td>1</td>\n",
       "      <td>True</td>\n",
       "    </tr>\n",
       "    <tr>\n",
       "      <th>11159</th>\n",
       "      <td>It seems like a radical idea to decriminalize ...</td>\n",
       "      <td>0.790648</td>\n",
       "      <td>0.209352</td>\n",
       "      <td>r/canada</td>\n",
       "      <td>0</td>\n",
       "      <td>0</td>\n",
       "      <td>True</td>\n",
       "    </tr>\n",
       "    <tr>\n",
       "      <th>5072</th>\n",
       "      <td>Exactly, you lease it as a business expense fo...</td>\n",
       "      <td>0.735417</td>\n",
       "      <td>0.264583</td>\n",
       "      <td>r/onguardforthee</td>\n",
       "      <td>0</td>\n",
       "      <td>1</td>\n",
       "      <td>False</td>\n",
       "    </tr>\n",
       "  </tbody>\n",
       "</table>\n",
       "<p>5026 rows × 7 columns</p>\n",
       "</div>"
      ],
      "text/plain": [
       "                                          body_processed  canada_prob  \\\n",
       "2494   Hah, so damn sensitive. Where have I insulted ...     0.891534   \n",
       "4753   I'm glad she is at least free of that pain and...     0.774899   \n",
       "12281  I got an idea, lets ban murder all together. T...     0.699604   \n",
       "10206  The flu causes all those things too. So does e...     0.981876   \n",
       "5494   yeah, you're right. Canadians who were born he...     0.393335   \n",
       "...                                                  ...          ...   \n",
       "17690  I never want to deal with US style Healthcare,...     0.245613   \n",
       "5629                                         Sooooo CBC?     0.710833   \n",
       "6099   Source: http://projects.thestar.com/canadas-co...     0.356825   \n",
       "11159  It seems like a radical idea to decriminalize ...     0.790648   \n",
       "5072   Exactly, you lease it as a business expense fo...     0.735417   \n",
       "\n",
       "       ogft_prob         subreddit  y_pred  y_true  correct  \n",
       "2494    0.108466  r/onguardforthee       0       1    False  \n",
       "4753    0.225101  r/onguardforthee       0       1    False  \n",
       "12281   0.300396          r/canada       0       0     True  \n",
       "10206   0.018124          r/canada       0       0     True  \n",
       "5494    0.606665  r/onguardforthee       1       1     True  \n",
       "...          ...               ...     ...     ...      ...  \n",
       "17690   0.754387          r/canada       1       0    False  \n",
       "5629    0.289167  r/onguardforthee       0       1    False  \n",
       "6099    0.643175  r/onguardforthee       1       1     True  \n",
       "11159   0.209352          r/canada       0       0     True  \n",
       "5072    0.264583  r/onguardforthee       0       1    False  \n",
       "\n",
       "[5026 rows x 7 columns]"
      ]
     },
     "execution_count": 33,
     "metadata": {},
     "output_type": "execute_result"
    }
   ],
   "source": [
    "comment_probs"
   ]
  },
  {
   "cell_type": "markdown",
   "metadata": {},
   "source": [
    "Let's look at comments that the model was very certain about. Let's see what was above a 95% probability threshold."
   ]
  },
  {
   "cell_type": "code",
   "execution_count": 34,
   "metadata": {
    "scrolled": false
   },
   "outputs": [
    {
     "data": {
      "text/html": [
       "<div>\n",
       "<style scoped>\n",
       "    .dataframe tbody tr th:only-of-type {\n",
       "        vertical-align: middle;\n",
       "    }\n",
       "\n",
       "    .dataframe tbody tr th {\n",
       "        vertical-align: top;\n",
       "    }\n",
       "\n",
       "    .dataframe thead th {\n",
       "        text-align: right;\n",
       "    }\n",
       "</style>\n",
       "<table border=\"1\" class=\"dataframe\">\n",
       "  <thead>\n",
       "    <tr style=\"text-align: right;\">\n",
       "      <th></th>\n",
       "      <th>body_processed</th>\n",
       "      <th>canada_prob</th>\n",
       "      <th>ogft_prob</th>\n",
       "      <th>subreddit</th>\n",
       "      <th>y_pred</th>\n",
       "      <th>y_true</th>\n",
       "      <th>correct</th>\n",
       "    </tr>\n",
       "  </thead>\n",
       "  <tbody>\n",
       "    <tr>\n",
       "      <th>8775</th>\n",
       "      <td>I absolutely agree with you on all points. Tru...</td>\n",
       "      <td>7.777650e-09</td>\n",
       "      <td>1.0</td>\n",
       "      <td>r/onguardforthee</td>\n",
       "      <td>1</td>\n",
       "      <td>1</td>\n",
       "      <td>True</td>\n",
       "    </tr>\n",
       "    <tr>\n",
       "      <th>1946</th>\n",
       "      <td>&amp;gt; Maybe it's because everyone is cooped up ...</td>\n",
       "      <td>5.241745e-09</td>\n",
       "      <td>1.0</td>\n",
       "      <td>r/onguardforthee</td>\n",
       "      <td>1</td>\n",
       "      <td>1</td>\n",
       "      <td>True</td>\n",
       "    </tr>\n",
       "    <tr>\n",
       "      <th>10980</th>\n",
       "      <td>&amp;gt; The mayor of Summerland, B.C., is declini...</td>\n",
       "      <td>4.363294e-09</td>\n",
       "      <td>1.0</td>\n",
       "      <td>r/canada</td>\n",
       "      <td>1</td>\n",
       "      <td>0</td>\n",
       "      <td>False</td>\n",
       "    </tr>\n",
       "    <tr>\n",
       "      <th>5536</th>\n",
       "      <td>You are right about the attitude towards addic...</td>\n",
       "      <td>3.440726e-09</td>\n",
       "      <td>1.0</td>\n",
       "      <td>r/onguardforthee</td>\n",
       "      <td>1</td>\n",
       "      <td>1</td>\n",
       "      <td>True</td>\n",
       "    </tr>\n",
       "    <tr>\n",
       "      <th>7273</th>\n",
       "      <td>I was one of the founding mods of /canada- I d...</td>\n",
       "      <td>1.339018e-09</td>\n",
       "      <td>1.0</td>\n",
       "      <td>r/onguardforthee</td>\n",
       "      <td>1</td>\n",
       "      <td>1</td>\n",
       "      <td>True</td>\n",
       "    </tr>\n",
       "    <tr>\n",
       "      <th>7930</th>\n",
       "      <td>\" Dude wore MAGA hats and worshipped Trump.  \"...</td>\n",
       "      <td>5.718436e-11</td>\n",
       "      <td>1.0</td>\n",
       "      <td>r/onguardforthee</td>\n",
       "      <td>1</td>\n",
       "      <td>1</td>\n",
       "      <td>True</td>\n",
       "    </tr>\n",
       "    <tr>\n",
       "      <th>1638</th>\n",
       "      <td>yeah i know, theyve done that to me countless ...</td>\n",
       "      <td>1.718890e-11</td>\n",
       "      <td>1.0</td>\n",
       "      <td>r/onguardforthee</td>\n",
       "      <td>1</td>\n",
       "      <td>1</td>\n",
       "      <td>True</td>\n",
       "    </tr>\n",
       "    <tr>\n",
       "      <th>15081</th>\n",
       "      <td>&amp;gt;your conflating a deference in politics wi...</td>\n",
       "      <td>4.287370e-13</td>\n",
       "      <td>1.0</td>\n",
       "      <td>r/canada</td>\n",
       "      <td>1</td>\n",
       "      <td>0</td>\n",
       "      <td>False</td>\n",
       "    </tr>\n",
       "    <tr>\n",
       "      <th>7466</th>\n",
       "      <td>If the UCP/right wing/alt-right think we're go...</td>\n",
       "      <td>9.248932e-15</td>\n",
       "      <td>1.0</td>\n",
       "      <td>r/onguardforthee</td>\n",
       "      <td>1</td>\n",
       "      <td>1</td>\n",
       "      <td>True</td>\n",
       "    </tr>\n",
       "    <tr>\n",
       "      <th>4926</th>\n",
       "      <td>The only way to effectively stop divisive dirt...</td>\n",
       "      <td>3.152664e-15</td>\n",
       "      <td>1.0</td>\n",
       "      <td>r/onguardforthee</td>\n",
       "      <td>1</td>\n",
       "      <td>1</td>\n",
       "      <td>True</td>\n",
       "    </tr>\n",
       "  </tbody>\n",
       "</table>\n",
       "</div>"
      ],
      "text/plain": [
       "                                          body_processed   canada_prob  \\\n",
       "8775   I absolutely agree with you on all points. Tru...  7.777650e-09   \n",
       "1946   &gt; Maybe it's because everyone is cooped up ...  5.241745e-09   \n",
       "10980  &gt; The mayor of Summerland, B.C., is declini...  4.363294e-09   \n",
       "5536   You are right about the attitude towards addic...  3.440726e-09   \n",
       "7273   I was one of the founding mods of /canada- I d...  1.339018e-09   \n",
       "7930   \" Dude wore MAGA hats and worshipped Trump.  \"...  5.718436e-11   \n",
       "1638   yeah i know, theyve done that to me countless ...  1.718890e-11   \n",
       "15081  &gt;your conflating a deference in politics wi...  4.287370e-13   \n",
       "7466   If the UCP/right wing/alt-right think we're go...  9.248932e-15   \n",
       "4926   The only way to effectively stop divisive dirt...  3.152664e-15   \n",
       "\n",
       "       ogft_prob         subreddit  y_pred  y_true  correct  \n",
       "8775         1.0  r/onguardforthee       1       1     True  \n",
       "1946         1.0  r/onguardforthee       1       1     True  \n",
       "10980        1.0          r/canada       1       0    False  \n",
       "5536         1.0  r/onguardforthee       1       1     True  \n",
       "7273         1.0  r/onguardforthee       1       1     True  \n",
       "7930         1.0  r/onguardforthee       1       1     True  \n",
       "1638         1.0  r/onguardforthee       1       1     True  \n",
       "15081        1.0          r/canada       1       0    False  \n",
       "7466         1.0  r/onguardforthee       1       1     True  \n",
       "4926         1.0  r/onguardforthee       1       1     True  "
      ]
     },
     "execution_count": 34,
     "metadata": {},
     "output_type": "execute_result"
    }
   ],
   "source": [
    "comment_probs[comment_probs['ogft_prob'] >=0.95].sort_values('ogft_prob').tail(10)"
   ]
  },
  {
   "cell_type": "code",
   "execution_count": 35,
   "metadata": {},
   "outputs": [
    {
     "data": {
      "text/plain": [
       "True     0.745098\n",
       "False    0.254902\n",
       "Name: correct, dtype: float64"
      ]
     },
     "execution_count": 35,
     "metadata": {},
     "output_type": "execute_result"
    }
   ],
   "source": [
    "comment_probs[comment_probs['ogft_prob'] >=0.95]['correct'].value_counts(normalize=True)"
   ]
  },
  {
   "cell_type": "code",
   "execution_count": 36,
   "metadata": {
    "scrolled": true
   },
   "outputs": [
    {
     "data": {
      "text/html": [
       "<div>\n",
       "<style scoped>\n",
       "    .dataframe tbody tr th:only-of-type {\n",
       "        vertical-align: middle;\n",
       "    }\n",
       "\n",
       "    .dataframe tbody tr th {\n",
       "        vertical-align: top;\n",
       "    }\n",
       "\n",
       "    .dataframe thead th {\n",
       "        text-align: right;\n",
       "    }\n",
       "</style>\n",
       "<table border=\"1\" class=\"dataframe\">\n",
       "  <thead>\n",
       "    <tr style=\"text-align: right;\">\n",
       "      <th></th>\n",
       "      <th>body_processed</th>\n",
       "      <th>canada_prob</th>\n",
       "      <th>ogft_prob</th>\n",
       "      <th>subreddit</th>\n",
       "      <th>y_pred</th>\n",
       "      <th>y_true</th>\n",
       "      <th>correct</th>\n",
       "    </tr>\n",
       "  </thead>\n",
       "  <tbody>\n",
       "    <tr>\n",
       "      <th>10206</th>\n",
       "      <td>The flu causes all those things too. So does e...</td>\n",
       "      <td>0.981876</td>\n",
       "      <td>0.018124</td>\n",
       "      <td>r/canada</td>\n",
       "      <td>0</td>\n",
       "      <td>0</td>\n",
       "      <td>True</td>\n",
       "    </tr>\n",
       "    <tr>\n",
       "      <th>19690</th>\n",
       "      <td>Unless I'm getting table service or I'm waited...</td>\n",
       "      <td>0.978532</td>\n",
       "      <td>0.021468</td>\n",
       "      <td>r/canada</td>\n",
       "      <td>0</td>\n",
       "      <td>0</td>\n",
       "      <td>True</td>\n",
       "    </tr>\n",
       "    <tr>\n",
       "      <th>16462</th>\n",
       "      <td>This is what happens when you have wolves in c...</td>\n",
       "      <td>0.980541</td>\n",
       "      <td>0.019459</td>\n",
       "      <td>r/canada</td>\n",
       "      <td>0</td>\n",
       "      <td>0</td>\n",
       "      <td>True</td>\n",
       "    </tr>\n",
       "    <tr>\n",
       "      <th>20023</th>\n",
       "      <td>A friend of mine just told me that if you show...</td>\n",
       "      <td>0.985260</td>\n",
       "      <td>0.014740</td>\n",
       "      <td>r/canada</td>\n",
       "      <td>0</td>\n",
       "      <td>0</td>\n",
       "      <td>True</td>\n",
       "    </tr>\n",
       "    <tr>\n",
       "      <th>17290</th>\n",
       "      <td>&amp;gt;The CRTC has sided with Canada’s largest w...</td>\n",
       "      <td>0.991513</td>\n",
       "      <td>0.008487</td>\n",
       "      <td>r/canada</td>\n",
       "      <td>0</td>\n",
       "      <td>0</td>\n",
       "      <td>True</td>\n",
       "    </tr>\n",
       "    <tr>\n",
       "      <th>...</th>\n",
       "      <td>...</td>\n",
       "      <td>...</td>\n",
       "      <td>...</td>\n",
       "      <td>...</td>\n",
       "      <td>...</td>\n",
       "      <td>...</td>\n",
       "      <td>...</td>\n",
       "    </tr>\n",
       "    <tr>\n",
       "      <th>17433</th>\n",
       "      <td>So tangentially, is there data on people who o...</td>\n",
       "      <td>0.958211</td>\n",
       "      <td>0.041789</td>\n",
       "      <td>r/canada</td>\n",
       "      <td>0</td>\n",
       "      <td>0</td>\n",
       "      <td>True</td>\n",
       "    </tr>\n",
       "    <tr>\n",
       "      <th>16626</th>\n",
       "      <td>let them use their cell phone profits to pay f...</td>\n",
       "      <td>0.963772</td>\n",
       "      <td>0.036228</td>\n",
       "      <td>r/canada</td>\n",
       "      <td>0</td>\n",
       "      <td>0</td>\n",
       "      <td>True</td>\n",
       "    </tr>\n",
       "    <tr>\n",
       "      <th>1659</th>\n",
       "      <td>&amp;gt;Diversify Yo Bonds\\n\\n- Wu-Tang Financial</td>\n",
       "      <td>0.958520</td>\n",
       "      <td>0.041480</td>\n",
       "      <td>r/onguardforthee</td>\n",
       "      <td>0</td>\n",
       "      <td>1</td>\n",
       "      <td>False</td>\n",
       "    </tr>\n",
       "    <tr>\n",
       "      <th>15006</th>\n",
       "      <td>I totally agree with you that we’ve become nor...</td>\n",
       "      <td>0.999865</td>\n",
       "      <td>0.000135</td>\n",
       "      <td>r/canada</td>\n",
       "      <td>0</td>\n",
       "      <td>0</td>\n",
       "      <td>True</td>\n",
       "    </tr>\n",
       "    <tr>\n",
       "      <th>17506</th>\n",
       "      <td>Holy MadLad! Doing this outside the HoC means ...</td>\n",
       "      <td>0.958315</td>\n",
       "      <td>0.041685</td>\n",
       "      <td>r/canada</td>\n",
       "      <td>0</td>\n",
       "      <td>0</td>\n",
       "      <td>True</td>\n",
       "    </tr>\n",
       "  </tbody>\n",
       "</table>\n",
       "<p>339 rows × 7 columns</p>\n",
       "</div>"
      ],
      "text/plain": [
       "                                          body_processed  canada_prob  \\\n",
       "10206  The flu causes all those things too. So does e...     0.981876   \n",
       "19690  Unless I'm getting table service or I'm waited...     0.978532   \n",
       "16462  This is what happens when you have wolves in c...     0.980541   \n",
       "20023  A friend of mine just told me that if you show...     0.985260   \n",
       "17290  &gt;The CRTC has sided with Canada’s largest w...     0.991513   \n",
       "...                                                  ...          ...   \n",
       "17433  So tangentially, is there data on people who o...     0.958211   \n",
       "16626  let them use their cell phone profits to pay f...     0.963772   \n",
       "1659       &gt;Diversify Yo Bonds\\n\\n- Wu-Tang Financial     0.958520   \n",
       "15006  I totally agree with you that we’ve become nor...     0.999865   \n",
       "17506  Holy MadLad! Doing this outside the HoC means ...     0.958315   \n",
       "\n",
       "       ogft_prob         subreddit  y_pred  y_true  correct  \n",
       "10206   0.018124          r/canada       0       0     True  \n",
       "19690   0.021468          r/canada       0       0     True  \n",
       "16462   0.019459          r/canada       0       0     True  \n",
       "20023   0.014740          r/canada       0       0     True  \n",
       "17290   0.008487          r/canada       0       0     True  \n",
       "...          ...               ...     ...     ...      ...  \n",
       "17433   0.041789          r/canada       0       0     True  \n",
       "16626   0.036228          r/canada       0       0     True  \n",
       "1659    0.041480  r/onguardforthee       0       1    False  \n",
       "15006   0.000135          r/canada       0       0     True  \n",
       "17506   0.041685          r/canada       0       0     True  \n",
       "\n",
       "[339 rows x 7 columns]"
      ]
     },
     "execution_count": 36,
     "metadata": {},
     "output_type": "execute_result"
    }
   ],
   "source": [
    "comment_probs[comment_probs['canada_prob'] >=0.95]"
   ]
  },
  {
   "cell_type": "code",
   "execution_count": 37,
   "metadata": {},
   "outputs": [
    {
     "data": {
      "text/plain": [
       "True     0.731563\n",
       "False    0.268437\n",
       "Name: correct, dtype: float64"
      ]
     },
     "execution_count": 37,
     "metadata": {},
     "output_type": "execute_result"
    }
   ],
   "source": [
    "comment_probs[comment_probs['canada_prob'] >=0.95]['correct'].value_counts(normalize=True)"
   ]
  },
  {
   "cell_type": "markdown",
   "metadata": {},
   "source": [
    "Of the 5030 test values, about 850 were classified as having a 95% probability of belonging to a given category.\n",
    "- For r/onguardforthee, 74% of these predictions were correct.\n",
    "- For r/canada, 73% of these predictions were correct."
   ]
  },
  {
   "cell_type": "markdown",
   "metadata": {},
   "source": [
    "Let's crank the threshold up even further."
   ]
  },
  {
   "cell_type": "code",
   "execution_count": 133,
   "metadata": {
    "scrolled": true
   },
   "outputs": [
    {
     "data": {
      "text/html": [
       "<div>\n",
       "<style scoped>\n",
       "    .dataframe tbody tr th:only-of-type {\n",
       "        vertical-align: middle;\n",
       "    }\n",
       "\n",
       "    .dataframe tbody tr th {\n",
       "        vertical-align: top;\n",
       "    }\n",
       "\n",
       "    .dataframe thead th {\n",
       "        text-align: right;\n",
       "    }\n",
       "</style>\n",
       "<table border=\"1\" class=\"dataframe\">\n",
       "  <thead>\n",
       "    <tr style=\"text-align: right;\">\n",
       "      <th></th>\n",
       "      <th>body_processed</th>\n",
       "      <th>canada_prob</th>\n",
       "      <th>ogft_prob</th>\n",
       "      <th>subreddit</th>\n",
       "      <th>y_pred</th>\n",
       "      <th>y_true</th>\n",
       "      <th>correct</th>\n",
       "    </tr>\n",
       "  </thead>\n",
       "  <tbody>\n",
       "    <tr>\n",
       "      <th>437</th>\n",
       "      <td>\"Fiscally Conservative\" is a myth and a fairly...</td>\n",
       "      <td>6.117520e-07</td>\n",
       "      <td>0.999999</td>\n",
       "      <td>r/onguardforthee</td>\n",
       "      <td>1</td>\n",
       "      <td>1</td>\n",
       "      <td>True</td>\n",
       "    </tr>\n",
       "    <tr>\n",
       "      <th>4926</th>\n",
       "      <td>The only way to effectively stop divisive dirt...</td>\n",
       "      <td>3.152664e-15</td>\n",
       "      <td>1.000000</td>\n",
       "      <td>r/onguardforthee</td>\n",
       "      <td>1</td>\n",
       "      <td>1</td>\n",
       "      <td>True</td>\n",
       "    </tr>\n",
       "    <tr>\n",
       "      <th>15081</th>\n",
       "      <td>&amp;gt;your conflating a deference in politics wi...</td>\n",
       "      <td>4.287370e-13</td>\n",
       "      <td>1.000000</td>\n",
       "      <td>r/canada</td>\n",
       "      <td>1</td>\n",
       "      <td>0</td>\n",
       "      <td>False</td>\n",
       "    </tr>\n",
       "    <tr>\n",
       "      <th>5189</th>\n",
       "      <td>Are the pollsters not calling them? I'm so sic...</td>\n",
       "      <td>7.321075e-07</td>\n",
       "      <td>0.999999</td>\n",
       "      <td>r/onguardforthee</td>\n",
       "      <td>1</td>\n",
       "      <td>1</td>\n",
       "      <td>True</td>\n",
       "    </tr>\n",
       "    <tr>\n",
       "      <th>8281</th>\n",
       "      <td>And see this is where we differ ; you are scar...</td>\n",
       "      <td>1.168728e-07</td>\n",
       "      <td>1.000000</td>\n",
       "      <td>r/onguardforthee</td>\n",
       "      <td>1</td>\n",
       "      <td>1</td>\n",
       "      <td>True</td>\n",
       "    </tr>\n",
       "    <tr>\n",
       "      <th>4659</th>\n",
       "      <td>No kidding. r/Canada is still going strong, to...</td>\n",
       "      <td>3.349545e-08</td>\n",
       "      <td>1.000000</td>\n",
       "      <td>r/onguardforthee</td>\n",
       "      <td>1</td>\n",
       "      <td>1</td>\n",
       "      <td>True</td>\n",
       "    </tr>\n",
       "    <tr>\n",
       "      <th>9115</th>\n",
       "      <td>Antifa is the propaganda boogeyman of the alt ...</td>\n",
       "      <td>5.771782e-07</td>\n",
       "      <td>0.999999</td>\n",
       "      <td>r/onguardforthee</td>\n",
       "      <td>1</td>\n",
       "      <td>1</td>\n",
       "      <td>True</td>\n",
       "    </tr>\n",
       "    <tr>\n",
       "      <th>7273</th>\n",
       "      <td>I was one of the founding mods of /canada- I d...</td>\n",
       "      <td>1.339018e-09</td>\n",
       "      <td>1.000000</td>\n",
       "      <td>r/onguardforthee</td>\n",
       "      <td>1</td>\n",
       "      <td>1</td>\n",
       "      <td>True</td>\n",
       "    </tr>\n",
       "    <tr>\n",
       "      <th>7184</th>\n",
       "      <td>I don't know what it's like to raise a child, ...</td>\n",
       "      <td>4.249685e-08</td>\n",
       "      <td>1.000000</td>\n",
       "      <td>r/onguardforthee</td>\n",
       "      <td>1</td>\n",
       "      <td>1</td>\n",
       "      <td>True</td>\n",
       "    </tr>\n",
       "    <tr>\n",
       "      <th>6875</th>\n",
       "      <td>&amp;gt;Premier Ford has a net favourability ratin...</td>\n",
       "      <td>1.448484e-07</td>\n",
       "      <td>1.000000</td>\n",
       "      <td>r/onguardforthee</td>\n",
       "      <td>1</td>\n",
       "      <td>1</td>\n",
       "      <td>True</td>\n",
       "    </tr>\n",
       "    <tr>\n",
       "      <th>9283</th>\n",
       "      <td>As an Albertan who has volunteered for the Alb...</td>\n",
       "      <td>8.509606e-07</td>\n",
       "      <td>0.999999</td>\n",
       "      <td>r/onguardforthee</td>\n",
       "      <td>1</td>\n",
       "      <td>1</td>\n",
       "      <td>True</td>\n",
       "    </tr>\n",
       "    <tr>\n",
       "      <th>7742</th>\n",
       "      <td>Watched this video yesterday and thought it wa...</td>\n",
       "      <td>1.346310e-07</td>\n",
       "      <td>1.000000</td>\n",
       "      <td>r/onguardforthee</td>\n",
       "      <td>1</td>\n",
       "      <td>1</td>\n",
       "      <td>True</td>\n",
       "    </tr>\n",
       "    <tr>\n",
       "      <th>8775</th>\n",
       "      <td>I absolutely agree with you on all points. Tru...</td>\n",
       "      <td>7.777650e-09</td>\n",
       "      <td>1.000000</td>\n",
       "      <td>r/onguardforthee</td>\n",
       "      <td>1</td>\n",
       "      <td>1</td>\n",
       "      <td>True</td>\n",
       "    </tr>\n",
       "    <tr>\n",
       "      <th>6052</th>\n",
       "      <td>This is one of the most downvoted communities ...</td>\n",
       "      <td>3.135151e-08</td>\n",
       "      <td>1.000000</td>\n",
       "      <td>r/onguardforthee</td>\n",
       "      <td>1</td>\n",
       "      <td>1</td>\n",
       "      <td>True</td>\n",
       "    </tr>\n",
       "    <tr>\n",
       "      <th>1946</th>\n",
       "      <td>&amp;gt; Maybe it's because everyone is cooped up ...</td>\n",
       "      <td>5.241745e-09</td>\n",
       "      <td>1.000000</td>\n",
       "      <td>r/onguardforthee</td>\n",
       "      <td>1</td>\n",
       "      <td>1</td>\n",
       "      <td>True</td>\n",
       "    </tr>\n",
       "    <tr>\n",
       "      <th>1414</th>\n",
       "      <td>If I can explain myself: this is the only subr...</td>\n",
       "      <td>4.364840e-07</td>\n",
       "      <td>1.000000</td>\n",
       "      <td>r/onguardforthee</td>\n",
       "      <td>1</td>\n",
       "      <td>1</td>\n",
       "      <td>True</td>\n",
       "    </tr>\n",
       "    <tr>\n",
       "      <th>1638</th>\n",
       "      <td>yeah i know, theyve done that to me countless ...</td>\n",
       "      <td>1.718890e-11</td>\n",
       "      <td>1.000000</td>\n",
       "      <td>r/onguardforthee</td>\n",
       "      <td>1</td>\n",
       "      <td>1</td>\n",
       "      <td>True</td>\n",
       "    </tr>\n",
       "    <tr>\n",
       "      <th>13057</th>\n",
       "      <td>I just want to clarify that Liberals no longer...</td>\n",
       "      <td>8.602960e-07</td>\n",
       "      <td>0.999999</td>\n",
       "      <td>r/canada</td>\n",
       "      <td>1</td>\n",
       "      <td>0</td>\n",
       "      <td>False</td>\n",
       "    </tr>\n",
       "    <tr>\n",
       "      <th>9462</th>\n",
       "      <td>What a fucking disgrace. Ford is just going to...</td>\n",
       "      <td>7.361917e-07</td>\n",
       "      <td>0.999999</td>\n",
       "      <td>r/onguardforthee</td>\n",
       "      <td>1</td>\n",
       "      <td>1</td>\n",
       "      <td>True</td>\n",
       "    </tr>\n",
       "    <tr>\n",
       "      <th>6809</th>\n",
       "      <td>&amp;gt; Why are we constantly being told that we ...</td>\n",
       "      <td>7.038222e-07</td>\n",
       "      <td>0.999999</td>\n",
       "      <td>r/onguardforthee</td>\n",
       "      <td>1</td>\n",
       "      <td>1</td>\n",
       "      <td>True</td>\n",
       "    </tr>\n",
       "    <tr>\n",
       "      <th>7466</th>\n",
       "      <td>If the UCP/right wing/alt-right think we're go...</td>\n",
       "      <td>9.248932e-15</td>\n",
       "      <td>1.000000</td>\n",
       "      <td>r/onguardforthee</td>\n",
       "      <td>1</td>\n",
       "      <td>1</td>\n",
       "      <td>True</td>\n",
       "    </tr>\n",
       "    <tr>\n",
       "      <th>7231</th>\n",
       "      <td>This is a very unpopular opinion,  especially ...</td>\n",
       "      <td>1.935284e-07</td>\n",
       "      <td>1.000000</td>\n",
       "      <td>r/onguardforthee</td>\n",
       "      <td>1</td>\n",
       "      <td>1</td>\n",
       "      <td>True</td>\n",
       "    </tr>\n",
       "    <tr>\n",
       "      <th>5853</th>\n",
       "      <td>&amp;gt; There is a difference between sex and gen...</td>\n",
       "      <td>1.844250e-08</td>\n",
       "      <td>1.000000</td>\n",
       "      <td>r/onguardforthee</td>\n",
       "      <td>1</td>\n",
       "      <td>1</td>\n",
       "      <td>True</td>\n",
       "    </tr>\n",
       "    <tr>\n",
       "      <th>9420</th>\n",
       "      <td>&amp;gt; McInnes, a Vice co-founder who left the m...</td>\n",
       "      <td>1.366492e-07</td>\n",
       "      <td>1.000000</td>\n",
       "      <td>r/onguardforthee</td>\n",
       "      <td>1</td>\n",
       "      <td>1</td>\n",
       "      <td>True</td>\n",
       "    </tr>\n",
       "    <tr>\n",
       "      <th>4202</th>\n",
       "      <td>Citations Needed is beast.  Everyone should jo...</td>\n",
       "      <td>8.909457e-07</td>\n",
       "      <td>0.999999</td>\n",
       "      <td>r/onguardforthee</td>\n",
       "      <td>1</td>\n",
       "      <td>1</td>\n",
       "      <td>True</td>\n",
       "    </tr>\n",
       "    <tr>\n",
       "      <th>5536</th>\n",
       "      <td>You are right about the attitude towards addic...</td>\n",
       "      <td>3.440726e-09</td>\n",
       "      <td>1.000000</td>\n",
       "      <td>r/onguardforthee</td>\n",
       "      <td>1</td>\n",
       "      <td>1</td>\n",
       "      <td>True</td>\n",
       "    </tr>\n",
       "    <tr>\n",
       "      <th>8300</th>\n",
       "      <td>Is it silly? Yes. Petty, sure, but I and the l...</td>\n",
       "      <td>4.413697e-08</td>\n",
       "      <td>1.000000</td>\n",
       "      <td>r/onguardforthee</td>\n",
       "      <td>1</td>\n",
       "      <td>1</td>\n",
       "      <td>True</td>\n",
       "    </tr>\n",
       "    <tr>\n",
       "      <th>8925</th>\n",
       "      <td>The Youtube comments makes a good point: the p...</td>\n",
       "      <td>1.229601e-08</td>\n",
       "      <td>1.000000</td>\n",
       "      <td>r/onguardforthee</td>\n",
       "      <td>1</td>\n",
       "      <td>1</td>\n",
       "      <td>True</td>\n",
       "    </tr>\n",
       "    <tr>\n",
       "      <th>9696</th>\n",
       "      <td>You don't have to dig too deeply to realize th...</td>\n",
       "      <td>2.360783e-07</td>\n",
       "      <td>1.000000</td>\n",
       "      <td>r/onguardforthee</td>\n",
       "      <td>1</td>\n",
       "      <td>1</td>\n",
       "      <td>True</td>\n",
       "    </tr>\n",
       "    <tr>\n",
       "      <th>7930</th>\n",
       "      <td>\" Dude wore MAGA hats and worshipped Trump.  \"...</td>\n",
       "      <td>5.718436e-11</td>\n",
       "      <td>1.000000</td>\n",
       "      <td>r/onguardforthee</td>\n",
       "      <td>1</td>\n",
       "      <td>1</td>\n",
       "      <td>True</td>\n",
       "    </tr>\n",
       "    <tr>\n",
       "      <th>10980</th>\n",
       "      <td>&amp;gt; The mayor of Summerland, B.C., is declini...</td>\n",
       "      <td>4.363294e-09</td>\n",
       "      <td>1.000000</td>\n",
       "      <td>r/canada</td>\n",
       "      <td>1</td>\n",
       "      <td>0</td>\n",
       "      <td>False</td>\n",
       "    </tr>\n",
       "  </tbody>\n",
       "</table>\n",
       "</div>"
      ],
      "text/plain": [
       "                                          body_processed   canada_prob  \\\n",
       "437    \"Fiscally Conservative\" is a myth and a fairly...  6.117520e-07   \n",
       "4926   The only way to effectively stop divisive dirt...  3.152664e-15   \n",
       "15081  &gt;your conflating a deference in politics wi...  4.287370e-13   \n",
       "5189   Are the pollsters not calling them? I'm so sic...  7.321075e-07   \n",
       "8281   And see this is where we differ ; you are scar...  1.168728e-07   \n",
       "4659   No kidding. r/Canada is still going strong, to...  3.349545e-08   \n",
       "9115   Antifa is the propaganda boogeyman of the alt ...  5.771782e-07   \n",
       "7273   I was one of the founding mods of /canada- I d...  1.339018e-09   \n",
       "7184   I don't know what it's like to raise a child, ...  4.249685e-08   \n",
       "6875   &gt;Premier Ford has a net favourability ratin...  1.448484e-07   \n",
       "9283   As an Albertan who has volunteered for the Alb...  8.509606e-07   \n",
       "7742   Watched this video yesterday and thought it wa...  1.346310e-07   \n",
       "8775   I absolutely agree with you on all points. Tru...  7.777650e-09   \n",
       "6052   This is one of the most downvoted communities ...  3.135151e-08   \n",
       "1946   &gt; Maybe it's because everyone is cooped up ...  5.241745e-09   \n",
       "1414   If I can explain myself: this is the only subr...  4.364840e-07   \n",
       "1638   yeah i know, theyve done that to me countless ...  1.718890e-11   \n",
       "13057  I just want to clarify that Liberals no longer...  8.602960e-07   \n",
       "9462   What a fucking disgrace. Ford is just going to...  7.361917e-07   \n",
       "6809   &gt; Why are we constantly being told that we ...  7.038222e-07   \n",
       "7466   If the UCP/right wing/alt-right think we're go...  9.248932e-15   \n",
       "7231   This is a very unpopular opinion,  especially ...  1.935284e-07   \n",
       "5853   &gt; There is a difference between sex and gen...  1.844250e-08   \n",
       "9420   &gt; McInnes, a Vice co-founder who left the m...  1.366492e-07   \n",
       "4202   Citations Needed is beast.  Everyone should jo...  8.909457e-07   \n",
       "5536   You are right about the attitude towards addic...  3.440726e-09   \n",
       "8300   Is it silly? Yes. Petty, sure, but I and the l...  4.413697e-08   \n",
       "8925   The Youtube comments makes a good point: the p...  1.229601e-08   \n",
       "9696   You don't have to dig too deeply to realize th...  2.360783e-07   \n",
       "7930   \" Dude wore MAGA hats and worshipped Trump.  \"...  5.718436e-11   \n",
       "10980  &gt; The mayor of Summerland, B.C., is declini...  4.363294e-09   \n",
       "\n",
       "       ogft_prob         subreddit  y_pred  y_true  correct  \n",
       "437     0.999999  r/onguardforthee       1       1     True  \n",
       "4926    1.000000  r/onguardforthee       1       1     True  \n",
       "15081   1.000000          r/canada       1       0    False  \n",
       "5189    0.999999  r/onguardforthee       1       1     True  \n",
       "8281    1.000000  r/onguardforthee       1       1     True  \n",
       "4659    1.000000  r/onguardforthee       1       1     True  \n",
       "9115    0.999999  r/onguardforthee       1       1     True  \n",
       "7273    1.000000  r/onguardforthee       1       1     True  \n",
       "7184    1.000000  r/onguardforthee       1       1     True  \n",
       "6875    1.000000  r/onguardforthee       1       1     True  \n",
       "9283    0.999999  r/onguardforthee       1       1     True  \n",
       "7742    1.000000  r/onguardforthee       1       1     True  \n",
       "8775    1.000000  r/onguardforthee       1       1     True  \n",
       "6052    1.000000  r/onguardforthee       1       1     True  \n",
       "1946    1.000000  r/onguardforthee       1       1     True  \n",
       "1414    1.000000  r/onguardforthee       1       1     True  \n",
       "1638    1.000000  r/onguardforthee       1       1     True  \n",
       "13057   0.999999          r/canada       1       0    False  \n",
       "9462    0.999999  r/onguardforthee       1       1     True  \n",
       "6809    0.999999  r/onguardforthee       1       1     True  \n",
       "7466    1.000000  r/onguardforthee       1       1     True  \n",
       "7231    1.000000  r/onguardforthee       1       1     True  \n",
       "5853    1.000000  r/onguardforthee       1       1     True  \n",
       "9420    1.000000  r/onguardforthee       1       1     True  \n",
       "4202    0.999999  r/onguardforthee       1       1     True  \n",
       "5536    1.000000  r/onguardforthee       1       1     True  \n",
       "8300    1.000000  r/onguardforthee       1       1     True  \n",
       "8925    1.000000  r/onguardforthee       1       1     True  \n",
       "9696    1.000000  r/onguardforthee       1       1     True  \n",
       "7930    1.000000  r/onguardforthee       1       1     True  \n",
       "10980   1.000000          r/canada       1       0    False  "
      ]
     },
     "execution_count": 133,
     "metadata": {},
     "output_type": "execute_result"
    }
   ],
   "source": [
    "comment_probs[comment_probs['ogft_prob'] >=0.999999]"
   ]
  },
  {
   "cell_type": "code",
   "execution_count": 135,
   "metadata": {},
   "outputs": [
    {
     "data": {
      "text/plain": [
       "(31, 7)"
      ]
     },
     "execution_count": 135,
     "metadata": {},
     "output_type": "execute_result"
    }
   ],
   "source": [
    "comment_probs[comment_probs['ogft_prob'] >=0.999999].shape"
   ]
  },
  {
   "cell_type": "code",
   "execution_count": 134,
   "metadata": {},
   "outputs": [
    {
     "data": {
      "text/plain": [
       "True     0.903226\n",
       "False    0.096774\n",
       "Name: correct, dtype: float64"
      ]
     },
     "execution_count": 134,
     "metadata": {},
     "output_type": "execute_result"
    }
   ],
   "source": [
    "comment_probs[comment_probs['ogft_prob'] >=0.999999]['correct'].value_counts(normalize=True)"
   ]
  },
  {
   "cell_type": "code",
   "execution_count": 136,
   "metadata": {
    "scrolled": false
   },
   "outputs": [
    {
     "data": {
      "text/html": [
       "<div>\n",
       "<style scoped>\n",
       "    .dataframe tbody tr th:only-of-type {\n",
       "        vertical-align: middle;\n",
       "    }\n",
       "\n",
       "    .dataframe tbody tr th {\n",
       "        vertical-align: top;\n",
       "    }\n",
       "\n",
       "    .dataframe thead th {\n",
       "        text-align: right;\n",
       "    }\n",
       "</style>\n",
       "<table border=\"1\" class=\"dataframe\">\n",
       "  <thead>\n",
       "    <tr style=\"text-align: right;\">\n",
       "      <th></th>\n",
       "      <th>body_processed</th>\n",
       "      <th>canada_prob</th>\n",
       "      <th>ogft_prob</th>\n",
       "      <th>subreddit</th>\n",
       "      <th>y_pred</th>\n",
       "      <th>y_true</th>\n",
       "      <th>correct</th>\n",
       "    </tr>\n",
       "  </thead>\n",
       "  <tbody>\n",
       "    <tr>\n",
       "      <th>19058</th>\n",
       "      <td>Serious answer? \\n\\n1. Huawei is the only vend...</td>\n",
       "      <td>1.0</td>\n",
       "      <td>4.785689e-08</td>\n",
       "      <td>r/canada</td>\n",
       "      <td>0</td>\n",
       "      <td>0</td>\n",
       "      <td>True</td>\n",
       "    </tr>\n",
       "  </tbody>\n",
       "</table>\n",
       "</div>"
      ],
      "text/plain": [
       "                                          body_processed  canada_prob  \\\n",
       "19058  Serious answer? \\n\\n1. Huawei is the only vend...          1.0   \n",
       "\n",
       "          ogft_prob subreddit  y_pred  y_true  correct  \n",
       "19058  4.785689e-08  r/canada       0       0     True  "
      ]
     },
     "execution_count": 136,
     "metadata": {},
     "output_type": "execute_result"
    }
   ],
   "source": [
    "comment_probs[comment_probs['canada_prob'] >=0.999999]"
   ]
  },
  {
   "cell_type": "code",
   "execution_count": 137,
   "metadata": {},
   "outputs": [
    {
     "data": {
      "text/plain": [
       "(1, 7)"
      ]
     },
     "execution_count": 137,
     "metadata": {},
     "output_type": "execute_result"
    }
   ],
   "source": [
    "comment_probs[comment_probs['canada_prob'] >=0.999999].shape"
   ]
  },
  {
   "cell_type": "code",
   "execution_count": 138,
   "metadata": {
    "scrolled": true
   },
   "outputs": [
    {
     "data": {
      "text/plain": [
       "True    1.0\n",
       "Name: correct, dtype: float64"
      ]
     },
     "execution_count": 138,
     "metadata": {},
     "output_type": "execute_result"
    }
   ],
   "source": [
    "comment_probs[comment_probs['canada_prob'] >=0.999999]['correct'].value_counts(normalize=True)"
   ]
  },
  {
   "cell_type": "markdown",
   "metadata": {},
   "source": [
    "22+1= comments were predicted as having almost near certainty to belong in a given category (>0.999999 chance) - 22 in OnGuardForThee, 1 in Cananada. This is interesting, given that the model is much better at predicting if a post is in r/Canada.\n",
    "\n",
    "## Representative comments\n",
    "\n",
    "Let's take a look at the high certainty comments that were predicted correctly."
   ]
  },
  {
   "cell_type": "code",
   "execution_count": 70,
   "metadata": {},
   "outputs": [],
   "source": [
    "top_can=comment_probs[(comment_probs['canada_prob'] >=0.999999 ) &(comment_probs['correct']==1)]['body_processed']\n",
    "top_ogft=comment_probs[(comment_probs['ogft_prob'] >=0.999999) & (comment_probs['correct']==1)]['body_processed']"
   ]
  },
  {
   "cell_type": "code",
   "execution_count": 72,
   "metadata": {},
   "outputs": [
    {
     "data": {
      "text/plain": [
       "465.0"
      ]
     },
     "execution_count": 72,
     "metadata": {},
     "output_type": "execute_result"
    }
   ],
   "source": [
    "top_can.str.split().str.len().mean()"
   ]
  },
  {
   "cell_type": "code",
   "execution_count": 73,
   "metadata": {
    "scrolled": true
   },
   "outputs": [
    {
     "data": {
      "text/plain": [
       "193.17857142857142"
      ]
     },
     "execution_count": 73,
     "metadata": {},
     "output_type": "execute_result"
    }
   ],
   "source": [
    "top_ogft.str.split().str.len().mean()"
   ]
  },
  {
   "cell_type": "code",
   "execution_count": 74,
   "metadata": {},
   "outputs": [
    {
     "data": {
      "text/plain": [
       "(1,)"
      ]
     },
     "execution_count": 74,
     "metadata": {},
     "output_type": "execute_result"
    }
   ],
   "source": [
    "top_can.shape"
   ]
  },
  {
   "cell_type": "code",
   "execution_count": 75,
   "metadata": {},
   "outputs": [
    {
     "data": {
      "text/plain": [
       "(28,)"
      ]
     },
     "execution_count": 75,
     "metadata": {},
     "output_type": "execute_result"
    }
   ],
   "source": [
    "top_ogft.shape"
   ]
  },
  {
   "cell_type": "markdown",
   "metadata": {},
   "source": [
    "Recall that our average wordcount was around 44 words, while these comments have an average wordcount of over 250. So it seems that longer comments have a higher chance of being properly classified, or at least our model weights wordcount when assigning a category."
   ]
  },
  {
   "cell_type": "markdown",
   "metadata": {},
   "source": [
    "Let's also look at comments that the model foud extremely difficult to predict, where the probability of them being in a given subreddit was assigned to be $50 \\pm 0.001\\%$."
   ]
  },
  {
   "cell_type": "code",
   "execution_count": 78,
   "metadata": {},
   "outputs": [],
   "source": [
    "uncertain_comments =comment_probs[(comment_probs['canada_prob'] >=0.499)& (comment_probs['ogft_prob'] >=0.499)]"
   ]
  },
  {
   "cell_type": "code",
   "execution_count": 81,
   "metadata": {},
   "outputs": [
    {
     "data": {
      "text/plain": [
       "(9, 7)"
      ]
     },
     "execution_count": 81,
     "metadata": {},
     "output_type": "execute_result"
    }
   ],
   "source": [
    "uncertain_comments.shape"
   ]
  },
  {
   "cell_type": "code",
   "execution_count": 79,
   "metadata": {},
   "outputs": [
    {
     "data": {
      "text/plain": [
       "27.11111111111111"
      ]
     },
     "execution_count": 79,
     "metadata": {},
     "output_type": "execute_result"
    }
   ],
   "source": [
    "uncertain_comments['body_processed'].str.split().str.len().mean()"
   ]
  },
  {
   "cell_type": "markdown",
   "metadata": {},
   "source": [
    "We have nine such comments. On average, they each contain 27 words. Seven of these were actually identified correctly, but that's mostly luck."
   ]
  },
  {
   "cell_type": "markdown",
   "metadata": {},
   "source": [
    "### Highest Probability r/OnGuardForThee Comments"
   ]
  },
  {
   "cell_type": "code",
   "execution_count": 71,
   "metadata": {
    "scrolled": false
   },
   "outputs": [
    {
     "name": "stdout",
     "output_type": "stream",
     "text": [
      "\"Fiscally Conservative\" is a myth and a fairly new concept perpetuated by the right in an attempt to garner socially liberal votes and make people think they're doing something positive.\n",
      "\n",
      "A government either knows how to handle money responsibly, or they don't. Funding social programs is a fiscally responsible initiative. It brings economic prosperity by boosting up marginalized populations so that they're contributing to a local and national economy. It's been proven by economic theory countless times.\n",
      "\n",
      "Tax breaks for no reason to profitable corporations who hoard money in tax havens is not fiscally responsible. It's corporate welfare. Neither is cutting funding to education and other necessary items for a society to function. Austerity measures are a proven failure time and time again, but historically, Conservatives view it as an economic plan to recovery in recession (or any time for that matter).\n",
      "\n",
      "\"Fiscally Conservative\" is almost becoming a slur to describe the \"I got mine, now you can get fucked\" mentality of far-right Conservative voters. Trust me. I live in Alberta where this thought process reigns supreme.\n",
      "\n",
      "Also, unrelated to your comment, I must say...Ed the Sock is a Canadian nuisance. I wish he would get lost in a dryer somewhere.\n",
      " ---------------------------\n",
      "The only way to effectively stop divisive dirty politics like this where they seek increase voter apathy, disenfranchisement, and straight up use voter suppression through misinformation and gerrymandering is to stop using a voting system that encourages it.\n",
      "\n",
      "FPTP encourages these toxic anti-democratic political manipulations through a simple mathematical reality of the system of First Past The Post: It is designed to give minority voting blocks in a riding the choice of who represents them, leaving the other voting blocks that voted against that result out in the disenfranchised cold to be called split, protest, and wasted votes.\n",
      "\n",
      "Here’s the cold hard math of FPTP: Minimum Thresholds To Win (MT).\n",
      "\n",
      "A) 2 candidates on a riding’s ballot. MT = 50.1% of the votes. This the only time a majority of the votes is the minimum to win.\n",
      "\n",
      "B) 3 candidates on a riding’s ballot. MT = 33.4% of the votes. It doesn’t take much to have a majority upwards of 66.6% not be a part of who isn’t voted in.\n",
      "\n",
      "C) 4 candidates on a riding’s ballot. MT = 25.1% of the votes. Up to 74.9% of us potentially have our political voice ignored.\n",
      "\n",
      "D) 5 candidates on a riding’s ballot. MT = 20.1% of the votes. Up to 79.9% of us considered protest votes of the winner.\n",
      "\n",
      "E) 6 candidates on a riding’s ballot. MT = 16.7% of the votes. Up to 83.3% of us could have our votes called split.\n",
      "\n",
      "F) 7 candidates on a riding’s ballot. MT = 14.4% of the votes. Up to 85.6% of us told we wasted our votes not picking second place.\n",
      "\n",
      "G) Etc...\n",
      "\n",
      "Canada has a lot of political candidates on our ballots, we currently have what I would consider 5 major parties (they’ve successfully convinced a riding to elect their candidate to a MP seat under FPTP) running candidates in as many ridings as they can, not even accounting for the independents and smaller party’s candidates each taking a piece of the pie of votes in their riding’s ballots.\n",
      "\n",
      "This is why political parties in Canada realize they don’t need to appeal to as many of us as possible, they only need to have a loyal and dedicated voting block that meets the MT or better in your riding, everything after that is just convincing the others to not bother showing up. The lower the voter turnout is, the better loyalists do, so how do you get your opponents to not bother showing up? Apathy - convince your opponent’s supporters that either:\n",
      "\n",
      "A) their choice doesn’t matter or worse gives them the opposite result, like Liberal supporters like to tell NDP supporters. Or...\n",
      "\n",
      "B) turn up the toxic rhetoric like the Conservative supporters do. Nothing is too low to sink to, especially projecting that all politicians are just as bad as each other. Or...\n",
      "\n",
      "C) Release polls claiming your side already has the biggest voting block and if you want to conform, you better pay attention to which way the wind is blowing. Chances are pretty good under FPTP as demonstrated above that you’re in the majority that doesn’t win the seat, so if you don’t want to go through the stress of being an outcast...\n",
      "\n",
      "But there is hope, you’re not alone in realizing that FPTP is being gamed and incentivizing bad politics to win the seat. Canadians know this isn’t fair and over 130 000 of us courageously signed a e-petition on our official government site, calling for electoral reform to stop using FPTP.  We know we need a voting system that does more to bring us together rather than divide us into Us vs Them camps. And currently one party is asking us permission to enact real change to our voting system - the NDP has Mixed Member Proportional (MMP) with a sunset clause to have a referendum after trying it, so we all know exactly in real terms we experienced the exact details of, so we can all be informed voters when we pick to keep MMP or go back to the FPTP discussed above.\n",
      "\n",
      "A courageous vote for the NDP is a vote to move away from American style of political discourse and voter suppression that comes from using FPTP in Canada.\n",
      "\n",
      "Edit: Oops, typed up the wrong number, sorry.\n",
      " ---------------------------\n",
      "Are the pollsters not calling them? I'm so sick of polls and bubble coverage moulding public opinion.\n",
      "\n",
      "He fucked up. He acknowledged as such and apologized. He even broke down and cried. Judge him on his policy record since, FFS. The man is NOT RACIST.\n",
      "\n",
      "I really fail to see how people supporting the party of unapologetic racists are doing their part to show that racism is bad. For the love of god, he personally welcomed refugee children with coats and blankets at Pearson Airport. He *saved lives*. He's been viciously attacked for it by rancid bigots and Islamophobes accusing him of pushing for Sharia Law. Including Scheer himself who proudly voted against M103 to appease his Rebel scum base.\n",
      "\n",
      "Yet the finger-pointers want to crucify Trudeau and negate all the good he's done over a stupid mistake TWO DECADES AGO???\n",
      " ---------------------------\n",
      "And see this is where we differ ; you are scared for who really are because of the implications, I’m angry because I have to explain to everybody why there should be none. I work with immigrants all day, it’s easy to be open about your gender in liberal places, but try being liberal amongst religious immigrants, it’s fucking tough.\n",
      "\n",
      "For example -\n",
      "\n",
      "Older man doesn’t understand why there is an assortment of gender classifications, guess who knows.\n",
      "\n",
      "Young guy hates black people and immigrants, guess who talks  him through why he hates black people and immigrants , making him realize he just says that stuff for shock value.\n",
      "\n",
      "Older woman thinks women taking over the economy to empower other women is feminism, guess who has to contrast what her perception of feminism with what misogyny is defined as.\n",
      "\n",
      "It becomes exhausting to talk people through concepts they picked up passively over social media and completely misunderstand, leading to cultural misunderstandings.\n",
      "\n",
      "Like a parent who scoffs at another persons child for something their parents made the child do(like myself growing up, had to stay seated during the national anthem).\n",
      "\n",
      "Lots of folks in Ontario with the “lack of energy” to engage. Too many people have their egos attached to their opinion, incapable of feeling like they may not have it right.\n",
      "I love being wrong, It makes me a better person has irritating as it is.\n",
      " ---------------------------\n",
      "No kidding. r/Canada is still going strong, too.\n",
      "\n",
      "&amp;#x200B;\n",
      "\n",
      "I was just perma-banned for calling out a user on referring to a George Soros/Jewish conspiracy theory. They said *I* was being racist! [ \n",
      "People on that sub are posting that shit everywhere: \"The Tides Foundation \\[doesn't exist in Canada as Tides Foundation\\] is interfering in Canadian elections!\"\n",
      "\n",
      "Those metacanada mods are in retaliation mode, it seems.\n",
      " ---------------------------\n",
      "Antifa is the propaganda boogeyman of the alt Reich. In any other political climate they'd be considered a fringe group not worth much notice, but in this era they're a useful substitute for hating black/gay/Jewish/trans/Muslim people and therefore get a lot of their social media propaganda directed at them, because they can hate them without being ostracized and pretend like they're doing something positive instead of being the racist shit stains that alt white actually are. It's just their version of being politically correct.\n",
      " ---------------------------\n",
      "I was one of the founding mods of /canada- I did it for about 13 years. I'd say for 8 or 9 years it was just what most people would want in a canada subreddit.  Interesting articles, not too partisan, not a huge amount of moderation involved. \n",
      "\n",
      "And then metacanada started up- at first we thought it was a joke.  At that point I think that we only banned overtly racist or hate posts.  A few /canada mods joined /metacanada without my knowledge, and then shit started going downhill and beyond the resources that mods had to try to contain it.  And one mod that I'd approved and given full permissions to allied with metacanada for a while before I knew it, and by the time I'd banned that person, the damage was done. \n",
      "\n",
      "I do actually blame myself for the shitshow that /canada has become.  There are a lot of people here who care deeply about their country and want to display it and help to make it healthy, but the trolls always get an audience.  Reddit users seem incapable of just ignoring trolls, which means that they get a voice. I'm not a mod of Canada any more, but now I wish that I'd taken the step to be reinstuted.  \n",
      "\n",
      "\n",
      "People can help to reorient the subreddit by posting things about Canada, and refusing to interact with trolls. r/onguardforthee is a great Canadian subreddit- positive and negative posts, with moderated discussions that keep trolls in hand.\n",
      " ---------------------------\n",
      "I don't know what it's like to raise a child, feel an emotional connection to him or her, and see them go down a dark path in life. I have little to no sympathy for people who commit crimes where others are physically harmed, but I'm not someone who can judge a parent for still loving their child after they committed a terrible crime. I recall reading an open letter from the Québec City mosque terrorist's parents and it was quite sad as they explained the intense emotional pain caused by what their son did.\n",
      "\n",
      "With that said, we should never be using double standards when it comes to referring to perpetrators of violence who were politically motivated as \"terrorists\".\n",
      "\n",
      "The Québec City mosque shooter is a terrorist inspired by the alt-right, the 2014 Parliament shooter was a terrorist inspired by radical Islam, the 2014 Moncton shooter who killed RCMP officers is a terrorist inspired by anti-government extremism, the 1989 Polytechnique shooter was a terrorist inspired by misogyny, the Front de libération du Québec (FLQ) were a terrorist group in the 1960s and 1970s who used violence to promote Québec as a socialist state separate of Canada. Full stop.\n",
      " ---------------------------\n",
      "&gt;Premier Ford has a net favourability rating of -53.5%. By comparison, Wynne’s net favourability rating stood at -35.3% on April 30th, 2018.\n",
      "\n",
      "Wow...\n",
      "\n",
      "I know it can be depressing as a progressive voter to see province after province elect a conservative government, but it was always my opinion that Canada tends to swing back and forth between electing liberals and conservatives, with the latter being over-represented due to our archaic first-past-the-post voting system where the centre to left vote is split.\n",
      "\n",
      "It hurts to say it, but Ontario is getting what it deserves for voting for a former drug distributor who enabled his brother's hard drug addiction while running his sign company into the ground. It just seemed like so much of the Wynne hatred was just a \"gut feeling\" as opposed to actual criticisms of her policies. The next three years will remind voters that voting out of spite has consequences as I expect further cuts into much needed public programs.\n",
      " ---------------------------\n",
      "As an Albertan who has volunteered for the Alberta Liberals and NDP over the years and the Federal Liberal Party as well- Please stop being an asshole.\n",
      "\n",
      "That constant shitting on Alberta by other Canadians as if everyone is some Redneck American Republican, including millions of people who have voted left wing in the past and probably will in the future, simply makes the Conservative parties that prey on ROC-vs-Alberta conflict more appealing.\n",
      "\n",
      "The same goes for snide remarks about Quebec.\n",
      "\n",
      "**That attitude is not wanted, helpful, or needed. It helps the right-wingers that you seem to hate so much.**\n",
      "\n",
      "Seriously, what compels you to make such remarks? What do you get out of it?\n",
      " ---------------------------\n",
      "Watched this video yesterday and thought it was quite good. This young guy explains what attracted him to the alt-right, and how he managed to finally break free of the brainwashing.\n",
      "\n",
      "The Canadian connection here is that he was first introduced to fascist ideology, like many others, through Stefan Molyneux videos on YouTube. His description of the alt-right as a \"cult\" is dead on, considering that Molyneux is literally a cult leader, [one who enlisted the help of his therapist wife]( to brainwash unsuspecting clients and extract money from them:\n",
      "\n",
      "&gt;The College of Psychologists of Ontario found Ms. Papadopoulos guilty of professional misconduct in November, 2012, faulting her for adopting Mr. Molyneux's views and using the Internet to counsel people to sever ties with their families.\n",
      "\n",
      "&gt;A civil court complaint filed on Oct. 24 in California says Mr. Molyneux boasted in a 2006 podcast that he would listen while his wife talked with her patients, even interjecting and suggesting they sign up with his website.\n",
      "\n",
      "His organization uses [tactics similar to the Church of Scientology]( where followers are encouraged to cut all ties with their non-believer friends and family:\n",
      "\n",
      "&gt;Members also talk about FOO (family of origin) and deFOO (leaving the family of origin). For example, Laura's husband, Stephen, shared news of his breakup with his family in a posting titled: \"DeFoo letter to my father .\"\n",
      " ---------------------------\n",
      "I absolutely agree with you on all points. Trump being elected should be a wake up call as to the dangers of populism and the deep wells of prejudice that still exist in our society - it's become (debatably) less socially acceptable to be outright hateful but that doesn't mean the bigotry has gone away. Heck, it was a wake up call for me and I am a queer woman who suffered from homophobia in a very conservative community growing up and did an anthropology degree that focused to a large extent on the treatment, historically and presently, of indigenous peoples in Canada. To continue to ignore the warning signs of underlying prejudices and how politicians like Trump (and Hitler... not to make comparisons...) take advantage of it to promote their extremist agendas is perilous. There's a lot of anger directed at marginalized people for the perceived disadvantages any progress in favour of a more equitable world has caused. People feel entitled to their privilege, and giving any ground to people who suffer systemic marginalization become interpreted as oppression, and then anger over this perceived injury just boils over. It's dangerous to underestimate it.\n",
      " ---------------------------\n",
      "This is one of the most downvoted communities of all time and there is transparent vote manipulation and downvote attempts that aim to suppress unwelcome opinions. It's patently obvious the sub doesn't represent the full range of Canadian experiences when people like Doug Ford are praised and critical comments of him are aggressively attacked and down-voted - when polls show that the majority of Ontarians dislike his government.\n",
      "\n",
      "I don't necessarily subscribe to the Russians are behind this narrative, but rather to personal and professional actors with vested agendas alike are active on that sub, and use it as an oppourtunity to push and frame narratives.\n",
      "\n",
      "This is unfortunate because it reduces the Canadian identity and presence on reddit to a confrontational style arena where the objective is to ideologically destroy opponents, limiting the space for conciliation, discussion, and frankly a celebration of the Canadian identity.\n",
      "\n",
      "It hurts to see my country portrayed in this way.\n",
      " ---------------------------\n",
      "&gt; Maybe it's because everyone is cooped up indoors and getting restless, anxious, etc., but it feels like there's a significant portion of Reddit that has straight up devolved to parroting propaganda, trolling, bigotry.\n",
      "\n",
      "Perhaps part of it is that there isn't external agency pushback to the user's held belief, due to lockdown. Take, for instance, the work-at-home users right now. Left or right, many work in multi-spectrum workplaces, where a held belief is both confirmed and challenged during the social times in the workplace.\n",
      "\n",
      "Removed from that scene, a held belief isn't going to receive the same challenge, because the belief holder (left wing for example) isn't going to search out right wing news / opinion sites, nor will the opposite. Without the real-life challenges to our beliefs, we become more susceptible to the oft-used 'echo chamber'.\n",
      "\n",
      "While I don't suggest venturing into shit holes like metacanada to look for an opposing opinion, I strongly recommend finding someone who can be dispassionate and play the teapot's advocate to challenge one's own beliefs, if for nothing else, than to keep yourself from falling victim to echo chamberitis.\n",
      " ---------------------------\n",
      "If I can explain myself: this is the only subreddit of those mentioned that claim to not allow bigotry or hate and to also claim by their action having the moral high ground and  allow themselves to call out other Canadian sub on their racism and bigotry (which is something I agree on, we definitely should call out bigotry and racism)\n",
      "\n",
      "Therefore, I expected this sub and the people on it to uphold themselves to respect this standard. Yet scrolling through these comments, I saw a lot of hate, miss information, bigotry and assumption on what happened and not searching further than the headline. Witch  disappointed me as I expected better from this sub.\n",
      "\n",
      "  \n",
      "So yeah, it's the mix of blatant hate, bigotry and of my expectation of this sub that made me feel more disgusted than I've felt scrolling through any post on [r/canada]( or [r/metacanada]( \n",
      "TL:DR : My bad, shouldn've had high expectation from a subreddit.\n",
      " ---------------------------\n",
      "yeah i know, theyve done that to me countless times til i got banned. its a specific cultivation of opinions they want to see and hear.\n",
      "\n",
      "what im trying to say is the /canada mods are in support of this, all of them. they let /medym in and he took over. now the default canadian sub is run by racist rightwing assholes that think skinny white boys in the STEM fields are the only real oppressed minority. basically the worst kind of reddit user is now the only person whos likely to be heard out on that shit hole.\n",
      "\n",
      " /torontos not much better: a pack of police-bootlicking, rich-developer-ass-kissing, \"blackface is just personal expression\" trolls and contrarians who exemplify torontos stereotype of \"the screwface capital\" by acting as if anyone that cares about anything is just trying too hard.\n",
      "\n",
      "theres this bitter little core of people that influences all of reddit: \n",
      "\n",
      "the sort of person that got their beliefs from south park,\n",
      "\n",
      "the sort of person that uses \"tryhard\" or \"cringe\" as if they were grievous insults, \n",
      "\n",
      "the sort of person for whom memes and racist jokes are the highest form of expression.\n",
      "\n",
      "the sort of person that shows disgust towards any belief that isnt wrapped in jaded centrism and mean jokes\n",
      "\n",
      "the sort of person for whom free speech means a bunch of bigoted jokes that need to be told lest the communists censor us all!\n",
      "\n",
      "fucking useless libertarian centrist nazi-enabling twats refuse to listen to anyone that isnt constantly stroking their egos.\n",
      "\n",
      "if you cant tell, im a bit annoyed by the whole thing\n",
      " ---------------------------\n",
      "What a fucking disgrace. Ford is just going to parrot whatever the Fascist Mango does, isn't he?\n",
      "\n",
      "That they ACTUALLY stood up and called gender identity a \"liberal ideology\" shows just how deeply the language of the alt-right is leeching into our politics. These clowns sound like a /r/metacanada user posting a hot take to rationalize their bigotry while they wait for their mom to bring fresh chicken tendies to the basement, not functional adults who have the capacity to lead a province.\n",
      " ---------------------------\n",
      "&gt; Why are we constantly being told that we are supposed to ignore the stated personal beliefs of right-wing politicians and the people they choose to work with and for? \n",
      "\n",
      "Because, silly. If we ignore them, they can follow through with them and claim \"well, nobody objected!\"\n",
      "\n",
      "If ANYONE thinks far-right zealotry is confined to the USA or that it will stop at attacking reproductive rights, they're incredibly wrong.\n",
      "\n",
      "The far right has a long list of enemies. They've not forgotten about \"the gays\" either. Jason Kenney is happily attacking them in Alberta as we speak.\n",
      "\n",
      "Social conservatism is cancer and needs to be irradiated quickly before it spreads.\n",
      " ---------------------------\n",
      "If the UCP/right wing/alt-right think we're going away,  *I have bad news for them*.  \n",
      "\n",
      "I want everyone to have quality health care,  education and reasonable taxation.   I loathe and despise bigotry towards gay, lesbian and transgendered albertans.\n",
      "\n",
      "I will not accept hatred of minorities because they have a different skin color,  nor will I blame our issues on immigrants. \n",
      "\n",
      "I will not accept candidates (or now MP's) who have been caught parroting white supremacist talking points.   They are just as illegitimate as the people who are now being investigated by the RCMP for voter fraud.   \n",
      "\n",
      "Climate change is real and this election doesn't change that.    \n",
      "\n",
      "This isn't about my side winning or in this case losing tonight,  this about the long game,  fighting for rights that we should all enjoy and respect.\n",
      "\n",
      "The pseudo-libertarian ideology that Kenney and co. have is dangerous and will not address the innumerable market externalities that we now collectively face.\n",
      "\n",
      "And finally,  the PC's ruled this province for 40 years,  with literally zero competition.  It was never close until 2015,  but thanks to Kenney's bigotry (GSA's,  abortion comments,  tacit support of white supremist MLA's) we now have a *very strong progressive movement in this province* that isn't in the shadows any longer.   Consider the political and historical context of the last 40 years,  and the NDP numbers are far, far more impressive that it may appear tonight.\n",
      " ---------------------------\n",
      "This is a very unpopular opinion,  especially amongst progressives,  but in my view,  **we need to unify the left**.\n",
      "\n",
      "The days of socially liberal(ish) conservatives like Kim Campbell, Mulroney etc  are **long, long gone**.  \n",
      "We now have shitstains like Bobandy in Alberta and Sheerer kissing Faith Goldy's rotten ass.   The literal head\n",
      "of the conservatives was making nice nice with a fucking white supremacist. \n",
      "\n",
      "So,  we could talk about how we don't want a two party system like the US.  We could talk about how we all have choices.\n",
      "We could make a million fucking reasons about why we should have two or three fucking center / center-left parties.  \n",
      "\n",
      "But in the end,  if we keep that up,   we will fuck ourselves when Sheerer gets 8 or 12 years of running this country.\n",
      "\n",
      "Alberta only elected the NDP **because the right was fractured**.   They figured that shit out real quick didn't they?\n",
      "\n",
      "Politics is often about choosing the lesser evil,  and right now we can either suck it up or get literal fascists running our country like the US.\n",
      " ---------------------------\n",
      "&gt; There is a difference between sex and gender, which is what makes us trans women actually women\n",
      "\n",
      "Nah, this is merely a function of left-leaning bias in Universities, it's not truth, it's just the contemporary left-wing dogma, a sort of social constructionist viewpoint.\n",
      "\n",
      "Everyone has a mental conception of what they are, that can align with physical reality or not.  Sex is a physical reality, from macroscopic organs to microscopic chromosomes.  There are a finite number of chromosomal mutations that produce intersexed offspring that survive to full term and get born.  This is all well-settled science.\n",
      "\n",
      "So, I might think that I am an elm tree, but this does not mean that even though I am physioloigcally a human, I am ideologically an elm tree and that ideology should prevail. If I think I am an elm tree, obviously I am not perceiving reality correctly.  Now, some things are going to be subjective, like \"is that a beautiful painting?\" then we do have disagreement amongst art critics, and, in the end, an individual who says \"yes\" and one who says \"no,\" neither one is wrong, because beauty is not a physical thing like sex.  Gender is not like some artistic criticism of a body, and this \"gender is not sex\" is a thing rooted in queer theory, designed to \"disrupt the binary,\" that's all it is.\n",
      "\n",
      "So, no, you're not actually women any more than I am actually an elm tree because I feel myself to be one.  You're a man who may enjoy wearing dresses, taking hormones, doing whatever, I don't care, but this doesn't change your ontological status: being is defined by physics, not by your own personal ideology.\n",
      " ---------------------------\n",
      "&gt; McInnes, a Vice co-founder who left the magazine in 2008, created the Proud Boys, their rules and membership tiers, including a fourth degree reserved for Proud Boys who get in a fight “for the cause.” But McInnes, who regularly appears at Proud Boy events and initiations, claimed in the new video that he was never the group’s leader.\n",
      "\n",
      "\"I'm creator, founder, director, president, CEO, COO, CFO, DDS, ABC, and MSG. I wrote all the rules and created the membership levels and even give the golden buttplug to the level 4 incels, but I am *not* the leader. Dave. Dave over there? Yeah, he's the leader.\"\n",
      "\n",
      "These fucking people. It's all hate and hate games until the FBI classifies you as a hate group.\n",
      " ---------------------------\n",
      "Citations Needed is beast.  Everyone should join  /r/CitationsNeeded\n",
      "\n",
      "[The myth of the middleclass]( like most mythology, only serves to obscure power relations and serve those in power.  If you fear falling into the lower class, you are more obedient at work.  If you have anxiety over not having the lifestyle of the upper class,  you will have insecurities that lead you to be a proper consumer.  \n",
      "\n",
      "Within the modern secular conception of virtue and vice, we can see wealth as heaven and poverty as hell.  Those who have succeeded and those that are failing each of their own devices detached from history or social context.  Residual Christian ontology still serves as the ideological rationalization for class stratification.   \n",
      " No one wants to consider themselves a secular sinner so the concept of middleclass serves as a kind of purgatory where the mediocrity imposed by austerity politics traps people.  \n",
      "\n",
      "Unless you can pay the indulgences and get into heaven hastily.  Capital Reformation when?\n",
      " ---------------------------\n",
      "You are right about the attitude towards addiction but you are wrong about it being a core of conservatism. \n",
      "\n",
      "I was raised by parents who voted conservative most of their life, they didn’t do it to screw over others. They were and still are poor but that never stopped them from helping others in need or distress. They would help in their communities, often through church organizations, despite the wealthier and more influential people there shunning them. Painting all conservatives as heartless does a disservice to convincing those who do have good hearts that by voting for how they remember how the conservatives used to be means they are working counter to their charitable, community driven efforts by who the conservatives are currently whose strict adherence to ideology based policies hurts the side of Canadians conservatism that cares about their communities.\n",
      "\n",
      "That is to say in summing this up, I am not saying “not all conservatives”, I am saying that as someone who used to vote conservative, as they currently have constituted themselves in words and in deeds, I can not in good conscience vote for the conservatives as they existed under Harper, Scheer, and especially not Bernier. Your saying conservatives lack compassion as a core value would put conservative voters, who have yet to come to the same position as I find myself, on the defensive because they understandably would see your comment as attacking a part of their identity, which our psyche can’t help but double down on. Please try to find a better way to express that conservative policies are harmful than telling someone else what their core is, it may not have the outcomes that actually help us.\n",
      " ---------------------------\n",
      "Is it silly? Yes. Petty, sure, but I and the left have been called communist by the right for decades despite the fact that nether I nor the left in general are any such thing. \n",
      "\n",
      "The right, on the other hand have regularly called for policies that could rightly be called fascist. I remember when AIDS was first discovered, many on the right called for all gays people to be shipped away to quarantine camps or just killed outright. The right regularly call the CBC the Communist Broadcasting Corporation. There is a growing alt right/neo-Nazi presence in Canada openly calling for the expulsion of anyone not white. The right *actually* has a fascism problem. The left does *not* have a totalitarianism problem. And before you claim that antifa is somehow totalitarian, it is literally anti-fascist, not pro anything. It exists only to fight fascism. Conservatives could join it if they were serious about fighting that problem. But instead of fighting it, people like Jordan Peterson actually soften the ground for fascists with his \"cultural marxism\" conspiracy rhetoric and his outright, alarmist lies about the left and the law in Canada.\n",
      " ---------------------------\n",
      "The Youtube comments makes a good point: the people within the Canadian Yellow Vests movement that aren't in it for immigration or mostly for pipelines, etc. haven't done much to speak out against these Nazis within their movement.  In fact, I would argue they are enabling them: I have seen posts about how free speech is being labeled as \"hate speech\", etc.  I have also seen the same Sikh yellow vester getting re-posted over and over on their Facebook group, almost as if they have to assure themselves there is no racism within the movement.  \n",
      "\n",
      "I have heard anecdotes of open white nationalists at the Edmonton rally, I think anyone non-white should be wary about Yellow Vest movement in Canada, even if you are in it for economic reasons, etc.  \n",
      " ---------------------------\n",
      "You don't have to dig too deeply to realize that **'It's Okay To Be White' actually means 'THEY think it's NOT okay to be white'.**\n",
      "\n",
      "It's part of the ongoing effort to increase sectarianism and anti-Democratic othering and I wouldn't be shocked to discover that this another one of those examples of the Russians whipping up their useful idiots into a frenzy without the locals realizing that they're being coopted into a foreign anti-Democracy PsyOps campaign.\n",
      "\n",
      "\\_\\_\\_\\_\\_\\_\\_\\_\\_\\_\\_\\_\n",
      "\n",
      "EDIT: A guy doubted me and then deleted his comment... so I'll just post the 'evidence' part of my response to him here\n",
      "\n",
      "[Russia organized 2 sides of a Texas protest and encouraged 'both sides to battle in the streets']( \n",
      "[Russian trolls orchestrated divisive protests in the US about Trump — here are 9 that we know about](https://www.businessinsider.com/russians-organized-pro-anti-trump-rallies-to-sow-discord-2018-2/)\n",
      " ---------------------------\n",
      "\" Dude wore MAGA hats and worshipped Trump.  \"\n",
      "\n",
      "&amp;#x200B;\n",
      "\n",
      "Bernie supporters voted for Trump over Hillary.  What part of this scares and confuses you?\n",
      "\n",
      "&amp;#x200B;\n",
      "\n",
      " Bissonnette  's facebook page was super leftist, Google: \"Alexandre Bissonnette ndp\" if you can muster the brain power to use Google.\n",
      "\n",
      "&amp;#x200B;\n",
      "\n",
      "NDP is a far left wannabe-communist party that varies greatly on stances province to province and Federally in the nation of Canada.\n",
      "\n",
      "&amp;#x200B;\n",
      "\n",
      "He supported them his whole life and even today he still does... that makes him a leftist.  Case closed.  \n",
      "\n",
      "&amp;#x200B;\n",
      "\n",
      "Trump is the most left elected Republican President since Reagan... you might even say that the Republican party was hijacked by Reagan and Trump.\n",
      "\n",
      "&amp;#x200B;\n",
      "\n",
      "Even the \"Make America Great Again\" slogan is from Reagan for fucks sake, all you dumb millennials and teenagers didn't get that. because you are too stupid to use Google to learn.\n",
      "\n",
      "&amp;#x200B;\n",
      "\n",
      "&amp;#x200B;\n",
      " ---------------------------\n"
     ]
    }
   ],
   "source": [
    "for comment in top_ogft:\n",
    "    print(comment + \"\\n ---------------------------\")"
   ]
  },
  {
   "cell_type": "markdown",
   "metadata": {},
   "source": [
    "### Highest Probability r/Canada Comments"
   ]
  },
  {
   "cell_type": "code",
   "execution_count": 76,
   "metadata": {
    "scrolled": false
   },
   "outputs": [
    {
     "name": "stdout",
     "output_type": "stream",
     "text": [
      "Serious answer? \n",
      "\n",
      "1. Huawei is the only vendor that is currently able to roll out 5G tech on a commercial scale and at a much cheaper price than its competitors. You can blame tech stealing or whatever, but those are the facts. Banning Huawei would essentially give the rest of the world a head start in the 5G game. \n",
      "\n",
      "2. Huawei is already being used extensively in 4G networks by Telus and Bell. So if we ban Huawei entirely, we would have to rip out a lot of the current mobile infrastructure as well.\n",
      "\n",
      "3. There is currently no evidence of any backdoors to Huawei equipment. Of course this doesn't mean that they can't do it later on, but everything so far including the Nortel case and the microchip case by bloomberg have basically all been based on hearsay. \n",
      "\n",
      "4. Huawei has multi-million dollar research agreements with UT and UBC. \n",
      "\n",
      "Or if you're r/Canada:\n",
      "\n",
      "1. Trudeau has been bought by the Chinese. \n",
      "\n",
      "What are the security risks:\n",
      "\n",
      "1. Huawei has a history of cyber-industrial espionage. I personally *believe* the Nortel case to be true because from my perspective it would be stupid for Huawei not to have donen it. When Nortel went under, a lot of engineers and techies would have been looking for new sources of income. After all, they just lost their jobs. It wouldn't have been very difficult for Huawei to simply hire them afterwards and then who knows what information they shared. That doesn't mean there is \"proof\". I've seen a lot of the several year old Nortel article being spread around, but everybody seems to ignore the fact that it literally says that there is no proof right in the middle of the article. I doubt anybody even read it. \n",
      "\n",
      "2. China has a law that says Chinese companies must share security information with the government if requested. So legally speaking, if China hypothetically asked Huawei to provide information, they would have to. \n",
      "\n",
      "3. Huawei users will be dependent on Chinese equipment. We already are, but even more so. \n",
      "\n",
      "4. According to the Snowden leaks, the US hacked Huawei servers and intended on using Huawei hardware to spy on targets such as Iran, Afghanistan, Pakistan, Kenya, Cuba. Since Huawei is being banned in the Five Eyes, this might indicate that recent US operations have not been so successful, but you can't rule out that the US isn't spying on you with Huawei products either. So you'll likely have both China and the US monitoring you at the same time. \n",
      "\n",
      "EDIT: I would like to say that I don't disagree that Huawei is a security risk. This is simply pointing out why Canada would hesitate to just say \"hey we don't want you hear anymore, get lost\" on a moment's notice. \n",
      " ---------------------------\n"
     ]
    }
   ],
   "source": [
    "for comment in top_can:\n",
    "    print(comment + \"\\n ---------------------------\")"
   ]
  },
  {
   "cell_type": "markdown",
   "metadata": {},
   "source": [
    "### Uncertainly classified comments"
   ]
  },
  {
   "cell_type": "code",
   "execution_count": 88,
   "metadata": {},
   "outputs": [
    {
     "name": "stdout",
     "output_type": "stream",
     "text": [
      "It's there for people on the fence thinking about the value of their savings and feeling any guilt for not donating. They actually have donated via the method I mentioned above so there should be no guilt for refusing to donate. That also allows them to complain about the situation regardless of not fitting OP's definition of what a donation is.\n",
      " ---------------------------\n",
      "Once again. You said that for the past 60 days, give or take, Trudeau has been failing. 10 days ago the WHO praised the response. You're an idiot.\n",
      " ---------------------------\n",
      "I've never seen Cortland over here, but I'll keep the name in mind.  Thanks!\n",
      " ---------------------------\n",
      "That's like saying \"Let's steal all the stop signs at this intersection and see how long it takes before people don't stop there.\"\n",
      "\n",
      "You can't trick people into thinking you've done a thing by actually doing the thing. That's not a trick. It's just you doing the thing.\n",
      " ---------------------------\n",
      "It's worth noting that UBC only allowed the hosting of the speaker by a campus group. They did not invite them or endorse them. So apparently if you don't actively suppress ideological opponents you're an enemy of the cause.\n",
      " ---------------------------\n",
      "Shocked the only got 49 Mil tbh\n",
      " ---------------------------\n",
      "Zero tolerance unless it affects us. Now I understand.\n",
      " ---------------------------\n",
      "Also [McMaster students and former post-doctoral fellow killed on Flight PS752](https://www.thespec.com/news-story/9801071-update-former-mcmaster-post-doctoral-fellow-two-students-confirmed-killed-in-tehran-plane-crash/)\n",
      " ---------------------------\n",
      "In fairness we might not see the effects for a few weeks, because it only just started. It might still not do anything though, I don't know.\n",
      " ---------------------------\n"
     ]
    }
   ],
   "source": [
    "for comment in uncertain_comments['body_processed']:\n",
    "    print(comment + \"\\n ---------------------------\")"
   ]
  },
  {
   "cell_type": "markdown",
   "metadata": {},
   "source": [
    "## Token Analysis (By Model Probability)"
   ]
  },
  {
   "cell_type": "code",
   "execution_count": 52,
   "metadata": {},
   "outputs": [],
   "source": [
    "ogft_log_probs=bnb_final[1].feature_log_prob_[1]\n",
    "canada_log_probs=bnb_final[1].feature_log_prob_[0]"
   ]
  },
  {
   "cell_type": "code",
   "execution_count": 53,
   "metadata": {},
   "outputs": [
    {
     "data": {
      "text/plain": [
       "array([11., 12.,  7., ...,  6., 48., 10.])"
      ]
     },
     "execution_count": 53,
     "metadata": {},
     "output_type": "execute_result"
    }
   ],
   "source": [
    "bnb_final[1].feature_count_[1]"
   ]
  },
  {
   "cell_type": "code",
   "execution_count": 54,
   "metadata": {},
   "outputs": [],
   "source": [
    "token_probs = pd.DataFrame(bnb_final[0].get_feature_names())"
   ]
  },
  {
   "cell_type": "code",
   "execution_count": 55,
   "metadata": {},
   "outputs": [],
   "source": [
    "token_probs['ogft_log_prob']= ogft_log_probs.transpose()\n",
    "token_probs['canada_log_prob']= canada_log_probs.transpose()"
   ]
  },
  {
   "cell_type": "code",
   "execution_count": 56,
   "metadata": {},
   "outputs": [],
   "source": [
    "token_probs.columns = ['token', \"ogft_log_prob\", \"canada_log_prob\"]"
   ]
  },
  {
   "cell_type": "code",
   "execution_count": 57,
   "metadata": {},
   "outputs": [],
   "source": [
    "token_probs['odds_gap'] = np.abs(token_probs['ogft_log_prob']-token_probs['canada_log_prob'])"
   ]
  },
  {
   "cell_type": "code",
   "execution_count": 58,
   "metadata": {},
   "outputs": [],
   "source": [
    "token_probs['favoured']=token_probs.apply(lambda x: \"r/OnGuardForThee\" if x['ogft_log_prob'] > x['canada_log_prob'] else \"r/Canada\", axis=1)"
   ]
  },
  {
   "cell_type": "code",
   "execution_count": 59,
   "metadata": {},
   "outputs": [],
   "source": [
    "token_probs['ogft_count']=bnb_final[1].feature_count_[1]\n",
    "token_probs['canada_count']=bnb_final[1].feature_count_[0]"
   ]
  },
  {
   "cell_type": "code",
   "execution_count": 60,
   "metadata": {},
   "outputs": [],
   "source": [
    "token_probs.set_index('token', inplace=True)"
   ]
  },
  {
   "cell_type": "code",
   "execution_count": 61,
   "metadata": {},
   "outputs": [],
   "source": [
    "token_probs= token_probs[['ogft_count', 'canada_count', 'ogft_log_prob', \"canada_log_prob\", \"odds_gap\", \"favoured\"]]"
   ]
  },
  {
   "cell_type": "markdown",
   "metadata": {},
   "source": [
    "## Unique/strongly favoured tokens"
   ]
  },
  {
   "cell_type": "markdown",
   "metadata": {},
   "source": [
    "**Idea**: Let's look at tokens that were modeled to strongly favour one subreddit over the other by looking by the gap in odds between them."
   ]
  },
  {
   "cell_type": "markdown",
   "metadata": {},
   "source": [
    "### r/Canada "
   ]
  },
  {
   "cell_type": "code",
   "execution_count": 62,
   "metadata": {
    "scrolled": false
   },
   "outputs": [
    {
     "data": {
      "text/html": [
       "<div>\n",
       "<style scoped>\n",
       "    .dataframe tbody tr th:only-of-type {\n",
       "        vertical-align: middle;\n",
       "    }\n",
       "\n",
       "    .dataframe tbody tr th {\n",
       "        vertical-align: top;\n",
       "    }\n",
       "\n",
       "    .dataframe thead th {\n",
       "        text-align: right;\n",
       "    }\n",
       "</style>\n",
       "<table border=\"1\" class=\"dataframe\">\n",
       "  <thead>\n",
       "    <tr style=\"text-align: right;\">\n",
       "      <th></th>\n",
       "      <th>ogft_count</th>\n",
       "      <th>canada_count</th>\n",
       "      <th>ogft_log_prob</th>\n",
       "      <th>canada_log_prob</th>\n",
       "      <th>odds_gap</th>\n",
       "      <th>favoured</th>\n",
       "    </tr>\n",
       "    <tr>\n",
       "      <th>token</th>\n",
       "      <th></th>\n",
       "      <th></th>\n",
       "      <th></th>\n",
       "      <th></th>\n",
       "      <th></th>\n",
       "      <th></th>\n",
       "    </tr>\n",
       "  </thead>\n",
       "  <tbody>\n",
       "    <tr>\n",
       "      <th>impair</th>\n",
       "      <td>0.0</td>\n",
       "      <td>16.0</td>\n",
       "      <td>-8.935640</td>\n",
       "      <td>-6.087042</td>\n",
       "      <td>2.848598</td>\n",
       "      <td>r/Canada</td>\n",
       "    </tr>\n",
       "    <tr>\n",
       "      <th>meng</th>\n",
       "      <td>0.0</td>\n",
       "      <td>13.0</td>\n",
       "      <td>-8.935640</td>\n",
       "      <td>-6.281198</td>\n",
       "      <td>2.654442</td>\n",
       "      <td>r/Canada</td>\n",
       "    </tr>\n",
       "    <tr>\n",
       "      <th>marineland</th>\n",
       "      <td>0.0</td>\n",
       "      <td>10.0</td>\n",
       "      <td>-8.935640</td>\n",
       "      <td>-6.522360</td>\n",
       "      <td>2.413280</td>\n",
       "      <td>r/Canada</td>\n",
       "    </tr>\n",
       "    <tr>\n",
       "      <th>burger</th>\n",
       "      <td>1.0</td>\n",
       "      <td>21.0</td>\n",
       "      <td>-8.242493</td>\n",
       "      <td>-5.829213</td>\n",
       "      <td>2.413280</td>\n",
       "      <td>r/Canada</td>\n",
       "    </tr>\n",
       "    <tr>\n",
       "      <th>disciplin</th>\n",
       "      <td>0.0</td>\n",
       "      <td>9.0</td>\n",
       "      <td>-8.935640</td>\n",
       "      <td>-6.617670</td>\n",
       "      <td>2.317970</td>\n",
       "      <td>r/Canada</td>\n",
       "    </tr>\n",
       "    <tr>\n",
       "      <th>naturopath</th>\n",
       "      <td>0.0</td>\n",
       "      <td>8.0</td>\n",
       "      <td>-8.935640</td>\n",
       "      <td>-6.723031</td>\n",
       "      <td>2.212609</td>\n",
       "      <td>r/Canada</td>\n",
       "    </tr>\n",
       "    <tr>\n",
       "      <th>telecommun</th>\n",
       "      <td>0.0</td>\n",
       "      <td>8.0</td>\n",
       "      <td>-8.935640</td>\n",
       "      <td>-6.723031</td>\n",
       "      <td>2.212609</td>\n",
       "      <td>r/Canada</td>\n",
       "    </tr>\n",
       "    <tr>\n",
       "      <th>brazilian</th>\n",
       "      <td>0.0</td>\n",
       "      <td>8.0</td>\n",
       "      <td>-8.935640</td>\n",
       "      <td>-6.723031</td>\n",
       "      <td>2.212609</td>\n",
       "      <td>r/Canada</td>\n",
       "    </tr>\n",
       "    <tr>\n",
       "      <th>taxi</th>\n",
       "      <td>0.0</td>\n",
       "      <td>8.0</td>\n",
       "      <td>-8.935640</td>\n",
       "      <td>-6.723031</td>\n",
       "      <td>2.212609</td>\n",
       "      <td>r/Canada</td>\n",
       "    </tr>\n",
       "    <tr>\n",
       "      <th>xi</th>\n",
       "      <td>0.0</td>\n",
       "      <td>8.0</td>\n",
       "      <td>-8.935640</td>\n",
       "      <td>-6.723031</td>\n",
       "      <td>2.212609</td>\n",
       "      <td>r/Canada</td>\n",
       "    </tr>\n",
       "    <tr>\n",
       "      <th>egg</th>\n",
       "      <td>1.0</td>\n",
       "      <td>17.0</td>\n",
       "      <td>-8.242493</td>\n",
       "      <td>-6.029884</td>\n",
       "      <td>2.212609</td>\n",
       "      <td>r/Canada</td>\n",
       "    </tr>\n",
       "    <tr>\n",
       "      <th>taiwan</th>\n",
       "      <td>1.0</td>\n",
       "      <td>16.0</td>\n",
       "      <td>-8.242493</td>\n",
       "      <td>-6.087042</td>\n",
       "      <td>2.155451</td>\n",
       "      <td>r/Canada</td>\n",
       "    </tr>\n",
       "    <tr>\n",
       "      <th>huawei</th>\n",
       "      <td>5.0</td>\n",
       "      <td>48.0</td>\n",
       "      <td>-7.143881</td>\n",
       "      <td>-5.028435</td>\n",
       "      <td>2.115446</td>\n",
       "      <td>r/Canada</td>\n",
       "    </tr>\n",
       "    <tr>\n",
       "      <th>dst</th>\n",
       "      <td>0.0</td>\n",
       "      <td>7.0</td>\n",
       "      <td>-8.935640</td>\n",
       "      <td>-6.840814</td>\n",
       "      <td>2.094826</td>\n",
       "      <td>r/Canada</td>\n",
       "    </tr>\n",
       "    <tr>\n",
       "      <th>bond</th>\n",
       "      <td>0.0</td>\n",
       "      <td>7.0</td>\n",
       "      <td>-8.935640</td>\n",
       "      <td>-6.840814</td>\n",
       "      <td>2.094826</td>\n",
       "      <td>r/Canada</td>\n",
       "    </tr>\n",
       "    <tr>\n",
       "      <th>aquarium</th>\n",
       "      <td>0.0</td>\n",
       "      <td>7.0</td>\n",
       "      <td>-8.935640</td>\n",
       "      <td>-6.840814</td>\n",
       "      <td>2.094826</td>\n",
       "      <td>r/Canada</td>\n",
       "    </tr>\n",
       "    <tr>\n",
       "      <th>gb</th>\n",
       "      <td>1.0</td>\n",
       "      <td>15.0</td>\n",
       "      <td>-8.242493</td>\n",
       "      <td>-6.147667</td>\n",
       "      <td>2.094826</td>\n",
       "      <td>r/Canada</td>\n",
       "    </tr>\n",
       "    <tr>\n",
       "      <th>escal</th>\n",
       "      <td>0.0</td>\n",
       "      <td>6.0</td>\n",
       "      <td>-8.935640</td>\n",
       "      <td>-6.974345</td>\n",
       "      <td>1.961295</td>\n",
       "      <td>r/Canada</td>\n",
       "    </tr>\n",
       "    <tr>\n",
       "      <th>captiv</th>\n",
       "      <td>0.0</td>\n",
       "      <td>6.0</td>\n",
       "      <td>-8.935640</td>\n",
       "      <td>-6.974345</td>\n",
       "      <td>1.961295</td>\n",
       "      <td>r/Canada</td>\n",
       "    </tr>\n",
       "    <tr>\n",
       "      <th>realtor</th>\n",
       "      <td>0.0</td>\n",
       "      <td>6.0</td>\n",
       "      <td>-8.935640</td>\n",
       "      <td>-6.974345</td>\n",
       "      <td>1.961295</td>\n",
       "      <td>r/Canada</td>\n",
       "    </tr>\n",
       "    <tr>\n",
       "      <th>launder</th>\n",
       "      <td>2.0</td>\n",
       "      <td>20.0</td>\n",
       "      <td>-7.837028</td>\n",
       "      <td>-5.875733</td>\n",
       "      <td>1.961295</td>\n",
       "      <td>r/Canada</td>\n",
       "    </tr>\n",
       "    <tr>\n",
       "      <th>discount</th>\n",
       "      <td>1.0</td>\n",
       "      <td>12.0</td>\n",
       "      <td>-8.242493</td>\n",
       "      <td>-6.355306</td>\n",
       "      <td>1.887187</td>\n",
       "      <td>r/Canada</td>\n",
       "    </tr>\n",
       "    <tr>\n",
       "      <th>wireless</th>\n",
       "      <td>0.0</td>\n",
       "      <td>5.0</td>\n",
       "      <td>-8.935640</td>\n",
       "      <td>-7.128496</td>\n",
       "      <td>1.807144</td>\n",
       "      <td>r/Canada</td>\n",
       "    </tr>\n",
       "    <tr>\n",
       "      <th>nortel</th>\n",
       "      <td>0.0</td>\n",
       "      <td>5.0</td>\n",
       "      <td>-8.935640</td>\n",
       "      <td>-7.128496</td>\n",
       "      <td>1.807144</td>\n",
       "      <td>r/Canada</td>\n",
       "    </tr>\n",
       "    <tr>\n",
       "      <th>transact</th>\n",
       "      <td>1.0</td>\n",
       "      <td>10.0</td>\n",
       "      <td>-8.242493</td>\n",
       "      <td>-6.522360</td>\n",
       "      <td>1.720133</td>\n",
       "      <td>r/Canada</td>\n",
       "    </tr>\n",
       "    <tr>\n",
       "      <th>condo</th>\n",
       "      <td>3.0</td>\n",
       "      <td>21.0</td>\n",
       "      <td>-7.549346</td>\n",
       "      <td>-5.829213</td>\n",
       "      <td>1.720133</td>\n",
       "      <td>r/Canada</td>\n",
       "    </tr>\n",
       "    <tr>\n",
       "      <th>tick</th>\n",
       "      <td>1.0</td>\n",
       "      <td>9.0</td>\n",
       "      <td>-8.242493</td>\n",
       "      <td>-6.617670</td>\n",
       "      <td>1.624823</td>\n",
       "      <td>r/Canada</td>\n",
       "    </tr>\n",
       "    <tr>\n",
       "      <th>seal</th>\n",
       "      <td>1.0</td>\n",
       "      <td>9.0</td>\n",
       "      <td>-8.242493</td>\n",
       "      <td>-6.617670</td>\n",
       "      <td>1.624823</td>\n",
       "      <td>r/Canada</td>\n",
       "    </tr>\n",
       "    <tr>\n",
       "      <th>beaver</th>\n",
       "      <td>1.0</td>\n",
       "      <td>9.0</td>\n",
       "      <td>-8.242493</td>\n",
       "      <td>-6.617670</td>\n",
       "      <td>1.624823</td>\n",
       "      <td>r/Canada</td>\n",
       "    </tr>\n",
       "    <tr>\n",
       "      <th>monopoli</th>\n",
       "      <td>2.0</td>\n",
       "      <td>14.0</td>\n",
       "      <td>-7.837028</td>\n",
       "      <td>-6.212205</td>\n",
       "      <td>1.624823</td>\n",
       "      <td>r/Canada</td>\n",
       "    </tr>\n",
       "    <tr>\n",
       "      <th>grad</th>\n",
       "      <td>1.0</td>\n",
       "      <td>9.0</td>\n",
       "      <td>-8.242493</td>\n",
       "      <td>-6.617670</td>\n",
       "      <td>1.624823</td>\n",
       "      <td>r/Canada</td>\n",
       "    </tr>\n",
       "    <tr>\n",
       "      <th>gdp</th>\n",
       "      <td>3.0</td>\n",
       "      <td>19.0</td>\n",
       "      <td>-7.549346</td>\n",
       "      <td>-5.924523</td>\n",
       "      <td>1.624823</td>\n",
       "      <td>r/Canada</td>\n",
       "    </tr>\n",
       "    <tr>\n",
       "      <th>unlimit</th>\n",
       "      <td>2.0</td>\n",
       "      <td>13.0</td>\n",
       "      <td>-7.837028</td>\n",
       "      <td>-6.281198</td>\n",
       "      <td>1.555830</td>\n",
       "      <td>r/Canada</td>\n",
       "    </tr>\n",
       "    <tr>\n",
       "      <th>netflix</th>\n",
       "      <td>2.0</td>\n",
       "      <td>13.0</td>\n",
       "      <td>-7.837028</td>\n",
       "      <td>-6.281198</td>\n",
       "      <td>1.555830</td>\n",
       "      <td>r/Canada</td>\n",
       "    </tr>\n",
       "    <tr>\n",
       "      <th>fentanyl</th>\n",
       "      <td>2.0</td>\n",
       "      <td>13.0</td>\n",
       "      <td>-7.837028</td>\n",
       "      <td>-6.281198</td>\n",
       "      <td>1.555830</td>\n",
       "      <td>r/Canada</td>\n",
       "    </tr>\n",
       "    <tr>\n",
       "      <th>bridg</th>\n",
       "      <td>1.0</td>\n",
       "      <td>8.0</td>\n",
       "      <td>-8.242493</td>\n",
       "      <td>-6.723031</td>\n",
       "      <td>1.519462</td>\n",
       "      <td>r/Canada</td>\n",
       "    </tr>\n",
       "    <tr>\n",
       "      <th>alaska</th>\n",
       "      <td>1.0</td>\n",
       "      <td>8.0</td>\n",
       "      <td>-8.242493</td>\n",
       "      <td>-6.723031</td>\n",
       "      <td>1.519462</td>\n",
       "      <td>r/Canada</td>\n",
       "    </tr>\n",
       "    <tr>\n",
       "      <th>porn</th>\n",
       "      <td>1.0</td>\n",
       "      <td>8.0</td>\n",
       "      <td>-8.242493</td>\n",
       "      <td>-6.723031</td>\n",
       "      <td>1.519462</td>\n",
       "      <td>r/Canada</td>\n",
       "    </tr>\n",
       "    <tr>\n",
       "      <th>obstruct</th>\n",
       "      <td>1.0</td>\n",
       "      <td>8.0</td>\n",
       "      <td>-8.242493</td>\n",
       "      <td>-6.723031</td>\n",
       "      <td>1.519462</td>\n",
       "      <td>r/Canada</td>\n",
       "    </tr>\n",
       "    <tr>\n",
       "      <th>tangibl</th>\n",
       "      <td>1.0</td>\n",
       "      <td>8.0</td>\n",
       "      <td>-8.242493</td>\n",
       "      <td>-6.723031</td>\n",
       "      <td>1.519462</td>\n",
       "      <td>r/Canada</td>\n",
       "    </tr>\n",
       "    <tr>\n",
       "      <th>dairi</th>\n",
       "      <td>1.0</td>\n",
       "      <td>8.0</td>\n",
       "      <td>-8.242493</td>\n",
       "      <td>-6.723031</td>\n",
       "      <td>1.519462</td>\n",
       "      <td>r/Canada</td>\n",
       "    </tr>\n",
       "    <tr>\n",
       "      <th>starter</th>\n",
       "      <td>1.0</td>\n",
       "      <td>8.0</td>\n",
       "      <td>-8.242493</td>\n",
       "      <td>-6.723031</td>\n",
       "      <td>1.519462</td>\n",
       "      <td>r/Canada</td>\n",
       "    </tr>\n",
       "    <tr>\n",
       "      <th>retain</th>\n",
       "      <td>1.0</td>\n",
       "      <td>8.0</td>\n",
       "      <td>-8.242493</td>\n",
       "      <td>-6.723031</td>\n",
       "      <td>1.519462</td>\n",
       "      <td>r/Canada</td>\n",
       "    </tr>\n",
       "    <tr>\n",
       "      <th>lte</th>\n",
       "      <td>1.0</td>\n",
       "      <td>8.0</td>\n",
       "      <td>-8.242493</td>\n",
       "      <td>-6.723031</td>\n",
       "      <td>1.519462</td>\n",
       "      <td>r/Canada</td>\n",
       "    </tr>\n",
       "    <tr>\n",
       "      <th>oligopoli</th>\n",
       "      <td>1.0</td>\n",
       "      <td>8.0</td>\n",
       "      <td>-8.242493</td>\n",
       "      <td>-6.723031</td>\n",
       "      <td>1.519462</td>\n",
       "      <td>r/Canada</td>\n",
       "    </tr>\n",
       "    <tr>\n",
       "      <th>hydro</th>\n",
       "      <td>3.0</td>\n",
       "      <td>16.0</td>\n",
       "      <td>-7.549346</td>\n",
       "      <td>-6.087042</td>\n",
       "      <td>1.462304</td>\n",
       "      <td>r/Canada</td>\n",
       "    </tr>\n",
       "    <tr>\n",
       "      <th>plea</th>\n",
       "      <td>1.0</td>\n",
       "      <td>7.0</td>\n",
       "      <td>-8.242493</td>\n",
       "      <td>-6.840814</td>\n",
       "      <td>1.401679</td>\n",
       "      <td>r/Canada</td>\n",
       "    </tr>\n",
       "    <tr>\n",
       "      <th>cigarett</th>\n",
       "      <td>1.0</td>\n",
       "      <td>7.0</td>\n",
       "      <td>-8.242493</td>\n",
       "      <td>-6.840814</td>\n",
       "      <td>1.401679</td>\n",
       "      <td>r/Canada</td>\n",
       "    </tr>\n",
       "    <tr>\n",
       "      <th>nl</th>\n",
       "      <td>0.0</td>\n",
       "      <td>3.0</td>\n",
       "      <td>-8.935640</td>\n",
       "      <td>-7.533961</td>\n",
       "      <td>1.401679</td>\n",
       "      <td>r/Canada</td>\n",
       "    </tr>\n",
       "    <tr>\n",
       "      <th>sanction</th>\n",
       "      <td>3.0</td>\n",
       "      <td>15.0</td>\n",
       "      <td>-7.549346</td>\n",
       "      <td>-6.147667</td>\n",
       "      <td>1.401679</td>\n",
       "      <td>r/Canada</td>\n",
       "    </tr>\n",
       "  </tbody>\n",
       "</table>\n",
       "</div>"
      ],
      "text/plain": [
       "            ogft_count  canada_count  ogft_log_prob  canada_log_prob  \\\n",
       "token                                                                  \n",
       "impair             0.0          16.0      -8.935640        -6.087042   \n",
       "meng               0.0          13.0      -8.935640        -6.281198   \n",
       "marineland         0.0          10.0      -8.935640        -6.522360   \n",
       "burger             1.0          21.0      -8.242493        -5.829213   \n",
       "disciplin          0.0           9.0      -8.935640        -6.617670   \n",
       "naturopath         0.0           8.0      -8.935640        -6.723031   \n",
       "telecommun         0.0           8.0      -8.935640        -6.723031   \n",
       "brazilian          0.0           8.0      -8.935640        -6.723031   \n",
       "taxi               0.0           8.0      -8.935640        -6.723031   \n",
       "xi                 0.0           8.0      -8.935640        -6.723031   \n",
       "egg                1.0          17.0      -8.242493        -6.029884   \n",
       "taiwan             1.0          16.0      -8.242493        -6.087042   \n",
       "huawei             5.0          48.0      -7.143881        -5.028435   \n",
       "dst                0.0           7.0      -8.935640        -6.840814   \n",
       "bond               0.0           7.0      -8.935640        -6.840814   \n",
       "aquarium           0.0           7.0      -8.935640        -6.840814   \n",
       "gb                 1.0          15.0      -8.242493        -6.147667   \n",
       "escal              0.0           6.0      -8.935640        -6.974345   \n",
       "captiv             0.0           6.0      -8.935640        -6.974345   \n",
       "realtor            0.0           6.0      -8.935640        -6.974345   \n",
       "launder            2.0          20.0      -7.837028        -5.875733   \n",
       "discount           1.0          12.0      -8.242493        -6.355306   \n",
       "wireless           0.0           5.0      -8.935640        -7.128496   \n",
       "nortel             0.0           5.0      -8.935640        -7.128496   \n",
       "transact           1.0          10.0      -8.242493        -6.522360   \n",
       "condo              3.0          21.0      -7.549346        -5.829213   \n",
       "tick               1.0           9.0      -8.242493        -6.617670   \n",
       "seal               1.0           9.0      -8.242493        -6.617670   \n",
       "beaver             1.0           9.0      -8.242493        -6.617670   \n",
       "monopoli           2.0          14.0      -7.837028        -6.212205   \n",
       "grad               1.0           9.0      -8.242493        -6.617670   \n",
       "gdp                3.0          19.0      -7.549346        -5.924523   \n",
       "unlimit            2.0          13.0      -7.837028        -6.281198   \n",
       "netflix            2.0          13.0      -7.837028        -6.281198   \n",
       "fentanyl           2.0          13.0      -7.837028        -6.281198   \n",
       "bridg              1.0           8.0      -8.242493        -6.723031   \n",
       "alaska             1.0           8.0      -8.242493        -6.723031   \n",
       "porn               1.0           8.0      -8.242493        -6.723031   \n",
       "obstruct           1.0           8.0      -8.242493        -6.723031   \n",
       "tangibl            1.0           8.0      -8.242493        -6.723031   \n",
       "dairi              1.0           8.0      -8.242493        -6.723031   \n",
       "starter            1.0           8.0      -8.242493        -6.723031   \n",
       "retain             1.0           8.0      -8.242493        -6.723031   \n",
       "lte                1.0           8.0      -8.242493        -6.723031   \n",
       "oligopoli          1.0           8.0      -8.242493        -6.723031   \n",
       "hydro              3.0          16.0      -7.549346        -6.087042   \n",
       "plea               1.0           7.0      -8.242493        -6.840814   \n",
       "cigarett           1.0           7.0      -8.242493        -6.840814   \n",
       "nl                 0.0           3.0      -8.935640        -7.533961   \n",
       "sanction           3.0          15.0      -7.549346        -6.147667   \n",
       "\n",
       "            odds_gap  favoured  \n",
       "token                           \n",
       "impair      2.848598  r/Canada  \n",
       "meng        2.654442  r/Canada  \n",
       "marineland  2.413280  r/Canada  \n",
       "burger      2.413280  r/Canada  \n",
       "disciplin   2.317970  r/Canada  \n",
       "naturopath  2.212609  r/Canada  \n",
       "telecommun  2.212609  r/Canada  \n",
       "brazilian   2.212609  r/Canada  \n",
       "taxi        2.212609  r/Canada  \n",
       "xi          2.212609  r/Canada  \n",
       "egg         2.212609  r/Canada  \n",
       "taiwan      2.155451  r/Canada  \n",
       "huawei      2.115446  r/Canada  \n",
       "dst         2.094826  r/Canada  \n",
       "bond        2.094826  r/Canada  \n",
       "aquarium    2.094826  r/Canada  \n",
       "gb          2.094826  r/Canada  \n",
       "escal       1.961295  r/Canada  \n",
       "captiv      1.961295  r/Canada  \n",
       "realtor     1.961295  r/Canada  \n",
       "launder     1.961295  r/Canada  \n",
       "discount    1.887187  r/Canada  \n",
       "wireless    1.807144  r/Canada  \n",
       "nortel      1.807144  r/Canada  \n",
       "transact    1.720133  r/Canada  \n",
       "condo       1.720133  r/Canada  \n",
       "tick        1.624823  r/Canada  \n",
       "seal        1.624823  r/Canada  \n",
       "beaver      1.624823  r/Canada  \n",
       "monopoli    1.624823  r/Canada  \n",
       "grad        1.624823  r/Canada  \n",
       "gdp         1.624823  r/Canada  \n",
       "unlimit     1.555830  r/Canada  \n",
       "netflix     1.555830  r/Canada  \n",
       "fentanyl    1.555830  r/Canada  \n",
       "bridg       1.519462  r/Canada  \n",
       "alaska      1.519462  r/Canada  \n",
       "porn        1.519462  r/Canada  \n",
       "obstruct    1.519462  r/Canada  \n",
       "tangibl     1.519462  r/Canada  \n",
       "dairi       1.519462  r/Canada  \n",
       "starter     1.519462  r/Canada  \n",
       "retain      1.519462  r/Canada  \n",
       "lte         1.519462  r/Canada  \n",
       "oligopoli   1.519462  r/Canada  \n",
       "hydro       1.462304  r/Canada  \n",
       "plea        1.401679  r/Canada  \n",
       "cigarett    1.401679  r/Canada  \n",
       "nl          1.401679  r/Canada  \n",
       "sanction    1.401679  r/Canada  "
      ]
     },
     "execution_count": 62,
     "metadata": {},
     "output_type": "execute_result"
    }
   ],
   "source": [
    "token_probs[token_probs['favoured']=='r/Canada'].sort_values('odds_gap', ascending=False).head(50)"
   ]
  },
  {
   "cell_type": "markdown",
   "metadata": {},
   "source": [
    "There's a few of these that can be sorted into categories."
   ]
  },
  {
   "cell_type": "markdown",
   "metadata": {},
   "source": [
    "The most skewed token by odds is **impair**. Apparently r/Canada is much more concerned about impaired driving issues than OnGuardForThee. A quick search reveals that they had a lot of discussion about impaired driving laws as relating to weed legalization.\n",
    "\n",
    "Issues to relating to China: \"meng\", (Meng Whenzhou), \"xi\" (Xi JingPing), \"huawei\" and \"taiwan\".\n",
    "\n",
    "\"marineland\" and \"aquarium\". Niagara's controversial aquarium.\n",
    "\n",
    "Telecommmunications: \"telecommun\", \"nortel\", \"wireless\", \"unlimit\" (probably). Complaining about the telecommunications cartel is a long standing Canadian pastime.\n",
    "\n",
    "Real estate: \"realtor\", \"launder\", \"condo\", \"transcat\".\n",
    "\n",
    "In general, our model thinks that r\\Canada likes talking about China-Canada relations and business issues."
   ]
  },
  {
   "cell_type": "markdown",
   "metadata": {},
   "source": [
    "I'm really not sure what's going on with the \"burger\" keyword, so let's do a quick search and see what they're talking about."
   ]
  },
  {
   "cell_type": "markdown",
   "metadata": {},
   "source": [
    "**Burger references in training data**"
   ]
  },
  {
   "cell_type": "code",
   "execution_count": 143,
   "metadata": {},
   "outputs": [
    {
     "name": "stdout",
     "output_type": "stream",
     "text": [
      "Something to be said for no cholesterol though I think.  I wish they'd pick a random group of non-insulin resistant people with normal cholesterol/body weight and give them some beyond burgers to eat and give a control group some beef burgers and then check out their cholesterol after a period of time.  It doesn't seem like it should be that difficult\n",
      " ______________________\n",
      "More like Canada’s most iconic brand has now decided to butcher hamburgers along with the rest of their terrible food.\n",
      " ______________________\n",
      "Gotta add pork fat or something or that is gonna be one dry burger.\n",
      "\n",
      "Plus fat is good for you.\n",
      " ______________________\n",
      "Ya'll can't toast and butter a bagel correctly. \n",
      "\n",
      "Why are you serving burgers and spicy Thai soup?\n",
      " ______________________\n",
      "I'll stick with A&amp;W for my beyond burgers.\n",
      " ______________________\n",
      "Eating beyond burgers is a political statement not a health choice. I wish they would advertise it that way and not confuse the public.\n",
      " ______________________\n",
      "The fact his coworkers reported his social media to CPS is the little piss pickle on top of this shitburger\n",
      " ______________________\n",
      "Maybe the oil workers who somehow think their jobs are going to magically appear again overnight won't have to hook for cheeseburgers now.\n",
      " ______________________\n",
      "The burger thinks it's clever\n",
      " ______________________\n",
      "the minute you can get frozen beyond burgers cheaper than frozen hamburgers is when you'll see a huge shift. When people are buying the cheapest meat they're not looking for quality, currently it probably already has a bunch of soy filler that they don't need to list as an ingredient (if less than 2% total protein they only need to put \"contains soy\").\n",
      "\n",
      "With this huge vegan/plant based shift all you hear is, \"this is bad for the dairy farmers\" or \"this is bad for the cattle farmers\". Meanwhile Canada is the largest producer of lentils in the world and most Canadians have never even eaten one.\n",
      "\n",
      "Plus, beyond meat is making no claims about being a healthier alternative. I mean, yes, you avoid the carcinogenic properties of red meat and heterocyclic amines and nitrates in processed meats, but you still have a patty loads in sodium and saturated fat. A lot of people are making the comparision of the beyond burger to a 90/10 burger when in reality it's more like a fast food burger. When you compare those options, yes, the beyond burger is \"healthier\" but still not something you should eat on a regular basis.\n",
      " ______________________\n",
      "One of the shitty popular Canadian branded coffee shops in my town brought in all TFW workers.  They reasoned that they couldn’t bring in Canadian workers because no one will work for their wages due to the oil patch and high cost of living.  The unfortunate thing is high school students applied and couldn’t or wouldn’t get hired by this manager.  The Canadian staff that was there left eventually because their hours dropped and they were treated poorly till they left.  Turns out the manager didn’t like the current staff telling the new staff things like labour laws and their rights.  The town became upset and people bitched but no one stopped lining up for shitty coffee and thawed from frozen doughnuts.  Several well known chains did this.  One family burger chain even had people stacked like sardines living in a shitty rental for a huge chunk of their pay cheque.  People that take advantage of foreign workers are such scum.\n",
      " ______________________\n",
      "Oh man I love Beyond Burgers and regular burgers, but Beyond gives me the most wicked burps\n",
      " ______________________\n",
      "As another option, the President’s choice original soy veggie burger is great, but the PC knockoff beyond meat is weird, tastes like TVP (very bland) and turns yellow when you cook it.\n",
      " ______________________\n",
      "But hey you can get a Junior burger at Harvey's for 2$, fill that up with all the veggies and there you have your good food you broke boy.\n",
      "\n",
      "Just kidding.\n",
      "\n",
      "All jokes aside eating well at home is becoming harder by the day. The price of good stuff goes up but the price of average stuff stagnates.\n",
      " ______________________\n",
      "“This burger isn’t even made from an animal and you still butchered it!”\n",
      "\n",
      "-Future Gordon Ramsay\n",
      " ______________________\n",
      "Although I'm interested in trying these on the bbq the MSRP of $7.49-7.99 for a pack of two 4oz burgers seems steep.\n",
      " ______________________\n",
      "I'm all for cutting down meat consumption, but food processed in such a way to resemble burgers/sausages/etc. can't be good for you.\n",
      " ______________________\n",
      "Tim Horton’s food is terrible. Those sandwiches are awful. I don’t see how a shitty burger will ruin them.\n",
      " ______________________\n",
      "The only issue with this story here is that it is a local event and tax law people say a charity cannot give human resources or resources to a political party or political entity or they could be in violation of income tax laws. The minister simply invited people to his event which was a local event. That means it has the freedom to have anyone there even those that you do know as local as they are for casual purposes. It is on WE if they forced people to attend an event for partisan reasons. For me, they have done many things which are eye-opening. Morneau may have told in the background people to attend and got an email from Kielburger, but I don't delve into conspiracies. People that sign NDAs should adhere to them or risk being sued.\n",
      " ______________________\n",
      "How are they cooking burgers with only a toaster and a microwave in the kitchen?\n",
      " ______________________\n",
      "Not my thing at all - but they seem to have struck the right chord in marketing.  \n",
      "\n",
      "&gt; \"Whether you're a hardcore carnivore or a strict vegan, you should be able to have our burgers, enjoy what you're eating and feel great afterward,\" said Brown, Beyond Meat's CEO.\n",
      "\n",
      "That's how you stay in your lane and don't produce backlash.\n",
      " ______________________\n",
      "I used to really like Harvey’s back in the 90s and 2000s. They closed a lot of locations in Ontario in the early 2000s, but luckily for me there was an on-campus location where I went to university.\n",
      "\n",
      "I haven’t been to one in ages. They’re almost nonexistent in the Vancouver area. A&amp;W and White Spot basically have the burger market cornered.\n",
      " ______________________\n",
      "k I read that as Five Guys  \n",
      "\n",
      "\n",
      "Like man I figured all that burger money was helping them diversify into intelligence services\n",
      " ______________________\n",
      "Ironic choice of words, since no butchering is actually going in to these burgers\n",
      "\n",
      "Can't argue with the sentiment though\n",
      " ______________________\n",
      "I actually made the dijon comparison to my bf yesterday (who is neither a big trudeau fan nor a big obama fan) and he said \"But who puts mustard on a burger, really?\" and then we walked to A&amp;W where they are currently featuring a bison burger with grainy mustard. It was a glorious coincidence. The burger was delicious.\n",
      " ______________________\n"
     ]
    }
   ],
   "source": [
    "mask=X_train.str.contains(\"burger\")\n",
    "\n",
    "for cmt in X_train[mask]:\n",
    "    print(cmt+\"\\n ______________________\")"
   ]
  },
  {
   "cell_type": "code",
   "execution_count": 139,
   "metadata": {
    "scrolled": true
   },
   "outputs": [
    {
     "data": {
      "text/html": [
       "<div>\n",
       "<style scoped>\n",
       "    .dataframe tbody tr th:only-of-type {\n",
       "        vertical-align: middle;\n",
       "    }\n",
       "\n",
       "    .dataframe tbody tr th {\n",
       "        vertical-align: top;\n",
       "    }\n",
       "\n",
       "    .dataframe thead th {\n",
       "        text-align: right;\n",
       "    }\n",
       "</style>\n",
       "<table border=\"1\" class=\"dataframe\">\n",
       "  <thead>\n",
       "    <tr style=\"text-align: right;\">\n",
       "      <th></th>\n",
       "      <th>body_processed</th>\n",
       "      <th>canada_prob</th>\n",
       "      <th>ogft_prob</th>\n",
       "      <th>subreddit</th>\n",
       "      <th>y_pred</th>\n",
       "      <th>y_true</th>\n",
       "      <th>correct</th>\n",
       "    </tr>\n",
       "  </thead>\n",
       "  <tbody>\n",
       "    <tr>\n",
       "      <th>17385</th>\n",
       "      <td>First order of business, eliminate the cheeseb...</td>\n",
       "      <td>0.623524</td>\n",
       "      <td>0.376476</td>\n",
       "      <td>r/canada</td>\n",
       "      <td>0</td>\n",
       "      <td>0</td>\n",
       "      <td>True</td>\n",
       "    </tr>\n",
       "    <tr>\n",
       "      <th>15938</th>\n",
       "      <td>I’m the opposite, I use regular ground beef an...</td>\n",
       "      <td>0.990242</td>\n",
       "      <td>0.009758</td>\n",
       "      <td>r/canada</td>\n",
       "      <td>0</td>\n",
       "      <td>0</td>\n",
       "      <td>True</td>\n",
       "    </tr>\n",
       "    <tr>\n",
       "      <th>16095</th>\n",
       "      <td>Tim Horton's was my first job too :)   Not sur...</td>\n",
       "      <td>0.994089</td>\n",
       "      <td>0.005911</td>\n",
       "      <td>r/canada</td>\n",
       "      <td>0</td>\n",
       "      <td>0</td>\n",
       "      <td>True</td>\n",
       "    </tr>\n",
       "    <tr>\n",
       "      <th>16104</th>\n",
       "      <td>It shocks me that anyone would eat at Tim Hort...</td>\n",
       "      <td>0.999866</td>\n",
       "      <td>0.000134</td>\n",
       "      <td>r/canada</td>\n",
       "      <td>0</td>\n",
       "      <td>0</td>\n",
       "      <td>True</td>\n",
       "    </tr>\n",
       "    <tr>\n",
       "      <th>2153</th>\n",
       "      <td>People get veggie burgers from supermarkets. S...</td>\n",
       "      <td>0.992743</td>\n",
       "      <td>0.007257</td>\n",
       "      <td>r/onguardforthee</td>\n",
       "      <td>0</td>\n",
       "      <td>1</td>\n",
       "      <td>False</td>\n",
       "    </tr>\n",
       "    <tr>\n",
       "      <th>6767</th>\n",
       "      <td>And the inevitable and necessary drop in servi...</td>\n",
       "      <td>0.878653</td>\n",
       "      <td>0.121347</td>\n",
       "      <td>r/onguardforthee</td>\n",
       "      <td>0</td>\n",
       "      <td>1</td>\n",
       "      <td>False</td>\n",
       "    </tr>\n",
       "    <tr>\n",
       "      <th>6795</th>\n",
       "      <td>real people: people that goto \"Fordfest\" for a...</td>\n",
       "      <td>0.981132</td>\n",
       "      <td>0.018868</td>\n",
       "      <td>r/onguardforthee</td>\n",
       "      <td>0</td>\n",
       "      <td>1</td>\n",
       "      <td>False</td>\n",
       "    </tr>\n",
       "    <tr>\n",
       "      <th>13811</th>\n",
       "      <td>I went to one last week and the Angus burger t...</td>\n",
       "      <td>0.996758</td>\n",
       "      <td>0.003242</td>\n",
       "      <td>r/canada</td>\n",
       "      <td>0</td>\n",
       "      <td>0</td>\n",
       "      <td>True</td>\n",
       "    </tr>\n",
       "  </tbody>\n",
       "</table>\n",
       "</div>"
      ],
      "text/plain": [
       "                                          body_processed  canada_prob  \\\n",
       "17385  First order of business, eliminate the cheeseb...     0.623524   \n",
       "15938  I’m the opposite, I use regular ground beef an...     0.990242   \n",
       "16095  Tim Horton's was my first job too :)   Not sur...     0.994089   \n",
       "16104  It shocks me that anyone would eat at Tim Hort...     0.999866   \n",
       "2153   People get veggie burgers from supermarkets. S...     0.992743   \n",
       "6767   And the inevitable and necessary drop in servi...     0.878653   \n",
       "6795   real people: people that goto \"Fordfest\" for a...     0.981132   \n",
       "13811  I went to one last week and the Angus burger t...     0.996758   \n",
       "\n",
       "       ogft_prob         subreddit  y_pred  y_true  correct  \n",
       "17385   0.376476          r/canada       0       0     True  \n",
       "15938   0.009758          r/canada       0       0     True  \n",
       "16095   0.005911          r/canada       0       0     True  \n",
       "16104   0.000134          r/canada       0       0     True  \n",
       "2153    0.007257  r/onguardforthee       0       1    False  \n",
       "6767    0.121347  r/onguardforthee       0       1    False  \n",
       "6795    0.018868  r/onguardforthee       0       1    False  \n",
       "13811   0.003242          r/canada       0       0     True  "
      ]
     },
     "execution_count": 139,
     "metadata": {},
     "output_type": "execute_result"
    }
   ],
   "source": [
    "mask=comment_probs['body_processed'].str.contains(\"burger\")\n",
    "\n",
    "comment_probs[mask]"
   ]
  },
  {
   "cell_type": "markdown",
   "metadata": {},
   "source": [
    "Burger chat was classified with an accuracy of 0.625%, so maybe it's on to something."
   ]
  },
  {
   "cell_type": "markdown",
   "metadata": {},
   "source": [
    "### r/OnGuardForThee"
   ]
  },
  {
   "cell_type": "code",
   "execution_count": 63,
   "metadata": {
    "scrolled": false
   },
   "outputs": [
    {
     "data": {
      "text/html": [
       "<div>\n",
       "<style scoped>\n",
       "    .dataframe tbody tr th:only-of-type {\n",
       "        vertical-align: middle;\n",
       "    }\n",
       "\n",
       "    .dataframe tbody tr th {\n",
       "        vertical-align: top;\n",
       "    }\n",
       "\n",
       "    .dataframe thead th {\n",
       "        text-align: right;\n",
       "    }\n",
       "</style>\n",
       "<table border=\"1\" class=\"dataframe\">\n",
       "  <thead>\n",
       "    <tr style=\"text-align: right;\">\n",
       "      <th></th>\n",
       "      <th>ogft_count</th>\n",
       "      <th>canada_count</th>\n",
       "      <th>ogft_log_prob</th>\n",
       "      <th>canada_log_prob</th>\n",
       "      <th>odds_gap</th>\n",
       "      <th>favoured</th>\n",
       "    </tr>\n",
       "    <tr>\n",
       "      <th>token</th>\n",
       "      <th></th>\n",
       "      <th></th>\n",
       "      <th></th>\n",
       "      <th></th>\n",
       "      <th></th>\n",
       "      <th></th>\n",
       "    </tr>\n",
       "  </thead>\n",
       "  <tbody>\n",
       "    <tr>\n",
       "      <th>metacanada</th>\n",
       "      <td>63.0</td>\n",
       "      <td>0.0</td>\n",
       "      <td>-4.776757</td>\n",
       "      <td>-8.920255</td>\n",
       "      <td>4.143498</td>\n",
       "      <td>r/OnGuardForThee</td>\n",
       "    </tr>\n",
       "    <tr>\n",
       "      <th>leftist</th>\n",
       "      <td>30.0</td>\n",
       "      <td>0.0</td>\n",
       "      <td>-5.501653</td>\n",
       "      <td>-8.920255</td>\n",
       "      <td>3.418602</td>\n",
       "      <td>r/OnGuardForThee</td>\n",
       "    </tr>\n",
       "    <tr>\n",
       "      <th>onguardforthe</th>\n",
       "      <td>18.0</td>\n",
       "      <td>0.0</td>\n",
       "      <td>-5.991201</td>\n",
       "      <td>-8.920255</td>\n",
       "      <td>2.929054</td>\n",
       "      <td>r/OnGuardForThee</td>\n",
       "    </tr>\n",
       "    <tr>\n",
       "      <th>mod</th>\n",
       "      <td>51.0</td>\n",
       "      <td>3.0</td>\n",
       "      <td>-4.984397</td>\n",
       "      <td>-7.533961</td>\n",
       "      <td>2.549564</td>\n",
       "      <td>r/OnGuardForThee</td>\n",
       "    </tr>\n",
       "    <tr>\n",
       "      <th>canadapolit</th>\n",
       "      <td>11.0</td>\n",
       "      <td>0.0</td>\n",
       "      <td>-6.450734</td>\n",
       "      <td>-8.920255</td>\n",
       "      <td>2.469522</td>\n",
       "      <td>r/OnGuardForThee</td>\n",
       "    </tr>\n",
       "    <tr>\n",
       "      <th>gavin</th>\n",
       "      <td>10.0</td>\n",
       "      <td>0.0</td>\n",
       "      <td>-6.537745</td>\n",
       "      <td>-8.920255</td>\n",
       "      <td>2.382510</td>\n",
       "      <td>r/OnGuardForThee</td>\n",
       "    </tr>\n",
       "    <tr>\n",
       "      <th>brigad</th>\n",
       "      <td>10.0</td>\n",
       "      <td>0.0</td>\n",
       "      <td>-6.537745</td>\n",
       "      <td>-8.920255</td>\n",
       "      <td>2.382510</td>\n",
       "      <td>r/OnGuardForThee</td>\n",
       "    </tr>\n",
       "    <tr>\n",
       "      <th>denier</th>\n",
       "      <td>9.0</td>\n",
       "      <td>0.0</td>\n",
       "      <td>-6.633055</td>\n",
       "      <td>-8.920255</td>\n",
       "      <td>2.287200</td>\n",
       "      <td>r/OnGuardForThee</td>\n",
       "    </tr>\n",
       "    <tr>\n",
       "      <th>levant</th>\n",
       "      <td>9.0</td>\n",
       "      <td>0.0</td>\n",
       "      <td>-6.633055</td>\n",
       "      <td>-8.920255</td>\n",
       "      <td>2.287200</td>\n",
       "      <td>r/OnGuardForThee</td>\n",
       "    </tr>\n",
       "    <tr>\n",
       "      <th>socialist</th>\n",
       "      <td>27.0</td>\n",
       "      <td>2.0</td>\n",
       "      <td>-5.603436</td>\n",
       "      <td>-7.821643</td>\n",
       "      <td>2.218207</td>\n",
       "      <td>r/OnGuardForThee</td>\n",
       "    </tr>\n",
       "    <tr>\n",
       "      <th>intoler</th>\n",
       "      <td>8.0</td>\n",
       "      <td>0.0</td>\n",
       "      <td>-6.738416</td>\n",
       "      <td>-8.920255</td>\n",
       "      <td>2.181840</td>\n",
       "      <td>r/OnGuardForThee</td>\n",
       "    </tr>\n",
       "    <tr>\n",
       "      <th>gop</th>\n",
       "      <td>8.0</td>\n",
       "      <td>0.0</td>\n",
       "      <td>-6.738416</td>\n",
       "      <td>-8.920255</td>\n",
       "      <td>2.181840</td>\n",
       "      <td>r/OnGuardForThee</td>\n",
       "    </tr>\n",
       "    <tr>\n",
       "      <th>lick</th>\n",
       "      <td>8.0</td>\n",
       "      <td>0.0</td>\n",
       "      <td>-6.738416</td>\n",
       "      <td>-8.920255</td>\n",
       "      <td>2.181840</td>\n",
       "      <td>r/OnGuardForThee</td>\n",
       "    </tr>\n",
       "    <tr>\n",
       "      <th>dougi</th>\n",
       "      <td>8.0</td>\n",
       "      <td>0.0</td>\n",
       "      <td>-6.738416</td>\n",
       "      <td>-8.920255</td>\n",
       "      <td>2.181840</td>\n",
       "      <td>r/OnGuardForThee</td>\n",
       "    </tr>\n",
       "    <tr>\n",
       "      <th>atheist</th>\n",
       "      <td>8.0</td>\n",
       "      <td>0.0</td>\n",
       "      <td>-6.738416</td>\n",
       "      <td>-8.920255</td>\n",
       "      <td>2.181840</td>\n",
       "      <td>r/OnGuardForThee</td>\n",
       "    </tr>\n",
       "    <tr>\n",
       "      <th>alabama</th>\n",
       "      <td>8.0</td>\n",
       "      <td>0.0</td>\n",
       "      <td>-6.738416</td>\n",
       "      <td>-8.920255</td>\n",
       "      <td>2.181840</td>\n",
       "      <td>r/OnGuardForThee</td>\n",
       "    </tr>\n",
       "    <tr>\n",
       "      <th>viewpoint</th>\n",
       "      <td>16.0</td>\n",
       "      <td>1.0</td>\n",
       "      <td>-6.102427</td>\n",
       "      <td>-8.227108</td>\n",
       "      <td>2.124681</td>\n",
       "      <td>r/OnGuardForThee</td>\n",
       "    </tr>\n",
       "    <tr>\n",
       "      <th>bigot</th>\n",
       "      <td>41.0</td>\n",
       "      <td>4.0</td>\n",
       "      <td>-5.197971</td>\n",
       "      <td>-7.310818</td>\n",
       "      <td>2.112847</td>\n",
       "      <td>r/OnGuardForThee</td>\n",
       "    </tr>\n",
       "    <tr>\n",
       "      <th>passion</th>\n",
       "      <td>14.0</td>\n",
       "      <td>1.0</td>\n",
       "      <td>-6.227590</td>\n",
       "      <td>-8.227108</td>\n",
       "      <td>1.999518</td>\n",
       "      <td>r/OnGuardForThee</td>\n",
       "    </tr>\n",
       "    <tr>\n",
       "      <th>andi</th>\n",
       "      <td>14.0</td>\n",
       "      <td>1.0</td>\n",
       "      <td>-6.227590</td>\n",
       "      <td>-8.227108</td>\n",
       "      <td>1.999518</td>\n",
       "      <td>r/OnGuardForThee</td>\n",
       "    </tr>\n",
       "    <tr>\n",
       "      <th>misogynist</th>\n",
       "      <td>13.0</td>\n",
       "      <td>1.0</td>\n",
       "      <td>-6.296583</td>\n",
       "      <td>-8.227108</td>\n",
       "      <td>1.930525</td>\n",
       "      <td>r/OnGuardForThee</td>\n",
       "    </tr>\n",
       "    <tr>\n",
       "      <th>mmp</th>\n",
       "      <td>6.0</td>\n",
       "      <td>0.0</td>\n",
       "      <td>-6.989730</td>\n",
       "      <td>-8.920255</td>\n",
       "      <td>1.930525</td>\n",
       "      <td>r/OnGuardForThee</td>\n",
       "    </tr>\n",
       "    <tr>\n",
       "      <th>mcinn</th>\n",
       "      <td>6.0</td>\n",
       "      <td>0.0</td>\n",
       "      <td>-6.989730</td>\n",
       "      <td>-8.920255</td>\n",
       "      <td>1.930525</td>\n",
       "      <td>r/OnGuardForThee</td>\n",
       "    </tr>\n",
       "    <tr>\n",
       "      <th>misogyni</th>\n",
       "      <td>13.0</td>\n",
       "      <td>1.0</td>\n",
       "      <td>-6.296583</td>\n",
       "      <td>-8.227108</td>\n",
       "      <td>1.930525</td>\n",
       "      <td>r/OnGuardForThee</td>\n",
       "    </tr>\n",
       "    <tr>\n",
       "      <th>alt</th>\n",
       "      <td>61.0</td>\n",
       "      <td>8.0</td>\n",
       "      <td>-4.808506</td>\n",
       "      <td>-6.723031</td>\n",
       "      <td>1.914525</td>\n",
       "      <td>r/OnGuardForThee</td>\n",
       "    </tr>\n",
       "    <tr>\n",
       "      <th>yellow</th>\n",
       "      <td>40.0</td>\n",
       "      <td>5.0</td>\n",
       "      <td>-5.222068</td>\n",
       "      <td>-7.128496</td>\n",
       "      <td>1.906428</td>\n",
       "      <td>r/OnGuardForThee</td>\n",
       "    </tr>\n",
       "    <tr>\n",
       "      <th>redneck</th>\n",
       "      <td>12.0</td>\n",
       "      <td>1.0</td>\n",
       "      <td>-6.370691</td>\n",
       "      <td>-8.227108</td>\n",
       "      <td>1.856417</td>\n",
       "      <td>r/OnGuardForThee</td>\n",
       "    </tr>\n",
       "    <tr>\n",
       "      <th>jewish</th>\n",
       "      <td>12.0</td>\n",
       "      <td>1.0</td>\n",
       "      <td>-6.370691</td>\n",
       "      <td>-8.227108</td>\n",
       "      <td>1.856417</td>\n",
       "      <td>r/OnGuardForThee</td>\n",
       "    </tr>\n",
       "    <tr>\n",
       "      <th>incel</th>\n",
       "      <td>18.0</td>\n",
       "      <td>2.0</td>\n",
       "      <td>-5.991201</td>\n",
       "      <td>-7.821643</td>\n",
       "      <td>1.830442</td>\n",
       "      <td>r/OnGuardForThee</td>\n",
       "    </tr>\n",
       "    <tr>\n",
       "      <th>peterson</th>\n",
       "      <td>29.0</td>\n",
       "      <td>4.0</td>\n",
       "      <td>-5.534443</td>\n",
       "      <td>-7.310818</td>\n",
       "      <td>1.776375</td>\n",
       "      <td>r/OnGuardForThee</td>\n",
       "    </tr>\n",
       "    <tr>\n",
       "      <th>tori</th>\n",
       "      <td>29.0</td>\n",
       "      <td>4.0</td>\n",
       "      <td>-5.534443</td>\n",
       "      <td>-7.310818</td>\n",
       "      <td>1.776375</td>\n",
       "      <td>r/OnGuardForThee</td>\n",
       "    </tr>\n",
       "    <tr>\n",
       "      <th>harbour</th>\n",
       "      <td>5.0</td>\n",
       "      <td>0.0</td>\n",
       "      <td>-7.143881</td>\n",
       "      <td>-8.920255</td>\n",
       "      <td>1.776375</td>\n",
       "      <td>r/OnGuardForThee</td>\n",
       "    </tr>\n",
       "    <tr>\n",
       "      <th>string</th>\n",
       "      <td>5.0</td>\n",
       "      <td>0.0</td>\n",
       "      <td>-7.143881</td>\n",
       "      <td>-8.920255</td>\n",
       "      <td>1.776375</td>\n",
       "      <td>r/OnGuardForThee</td>\n",
       "    </tr>\n",
       "    <tr>\n",
       "      <th>vest</th>\n",
       "      <td>40.0</td>\n",
       "      <td>6.0</td>\n",
       "      <td>-5.222068</td>\n",
       "      <td>-6.974345</td>\n",
       "      <td>1.752277</td>\n",
       "      <td>r/OnGuardForThee</td>\n",
       "    </tr>\n",
       "    <tr>\n",
       "      <th>shithol</th>\n",
       "      <td>10.0</td>\n",
       "      <td>1.0</td>\n",
       "      <td>-6.537745</td>\n",
       "      <td>-8.227108</td>\n",
       "      <td>1.689363</td>\n",
       "      <td>r/OnGuardForThee</td>\n",
       "    </tr>\n",
       "    <tr>\n",
       "      <th>forgotten</th>\n",
       "      <td>10.0</td>\n",
       "      <td>1.0</td>\n",
       "      <td>-6.537745</td>\n",
       "      <td>-8.227108</td>\n",
       "      <td>1.689363</td>\n",
       "      <td>r/OnGuardForThee</td>\n",
       "    </tr>\n",
       "    <tr>\n",
       "      <th>shill</th>\n",
       "      <td>10.0</td>\n",
       "      <td>1.0</td>\n",
       "      <td>-6.537745</td>\n",
       "      <td>-8.227108</td>\n",
       "      <td>1.689363</td>\n",
       "      <td>r/OnGuardForThee</td>\n",
       "    </tr>\n",
       "    <tr>\n",
       "      <th>jordan</th>\n",
       "      <td>15.0</td>\n",
       "      <td>2.0</td>\n",
       "      <td>-6.163052</td>\n",
       "      <td>-7.821643</td>\n",
       "      <td>1.658592</td>\n",
       "      <td>r/OnGuardForThee</td>\n",
       "    </tr>\n",
       "    <tr>\n",
       "      <th>denial</th>\n",
       "      <td>15.0</td>\n",
       "      <td>2.0</td>\n",
       "      <td>-6.163052</td>\n",
       "      <td>-7.821643</td>\n",
       "      <td>1.658592</td>\n",
       "      <td>r/OnGuardForThee</td>\n",
       "    </tr>\n",
       "    <tr>\n",
       "      <th>maga</th>\n",
       "      <td>15.0</td>\n",
       "      <td>2.0</td>\n",
       "      <td>-6.163052</td>\n",
       "      <td>-7.821643</td>\n",
       "      <td>1.658592</td>\n",
       "      <td>r/OnGuardForThee</td>\n",
       "    </tr>\n",
       "    <tr>\n",
       "      <th>subreddit</th>\n",
       "      <td>56.0</td>\n",
       "      <td>10.0</td>\n",
       "      <td>-4.892589</td>\n",
       "      <td>-6.522360</td>\n",
       "      <td>1.629771</td>\n",
       "      <td>r/OnGuardForThee</td>\n",
       "    </tr>\n",
       "    <tr>\n",
       "      <th>republican</th>\n",
       "      <td>35.0</td>\n",
       "      <td>6.0</td>\n",
       "      <td>-5.352121</td>\n",
       "      <td>-6.974345</td>\n",
       "      <td>1.622224</td>\n",
       "      <td>r/OnGuardForThee</td>\n",
       "    </tr>\n",
       "    <tr>\n",
       "      <th>rabbit</th>\n",
       "      <td>9.0</td>\n",
       "      <td>1.0</td>\n",
       "      <td>-6.633055</td>\n",
       "      <td>-8.227108</td>\n",
       "      <td>1.594053</td>\n",
       "      <td>r/OnGuardForThee</td>\n",
       "    </tr>\n",
       "    <tr>\n",
       "      <th>shadow</th>\n",
       "      <td>9.0</td>\n",
       "      <td>1.0</td>\n",
       "      <td>-6.633055</td>\n",
       "      <td>-8.227108</td>\n",
       "      <td>1.594053</td>\n",
       "      <td>r/OnGuardForThee</td>\n",
       "    </tr>\n",
       "    <tr>\n",
       "      <th>conscious</th>\n",
       "      <td>9.0</td>\n",
       "      <td>1.0</td>\n",
       "      <td>-6.633055</td>\n",
       "      <td>-8.227108</td>\n",
       "      <td>1.594053</td>\n",
       "      <td>r/OnGuardForThee</td>\n",
       "    </tr>\n",
       "    <tr>\n",
       "      <th>persecut</th>\n",
       "      <td>9.0</td>\n",
       "      <td>1.0</td>\n",
       "      <td>-6.633055</td>\n",
       "      <td>-8.227108</td>\n",
       "      <td>1.594053</td>\n",
       "      <td>r/OnGuardForThee</td>\n",
       "    </tr>\n",
       "    <tr>\n",
       "      <th>rag</th>\n",
       "      <td>9.0</td>\n",
       "      <td>1.0</td>\n",
       "      <td>-6.633055</td>\n",
       "      <td>-8.227108</td>\n",
       "      <td>1.594053</td>\n",
       "      <td>r/OnGuardForThee</td>\n",
       "    </tr>\n",
       "    <tr>\n",
       "      <th>allianc</th>\n",
       "      <td>9.0</td>\n",
       "      <td>1.0</td>\n",
       "      <td>-6.633055</td>\n",
       "      <td>-8.227108</td>\n",
       "      <td>1.594053</td>\n",
       "      <td>r/OnGuardForThee</td>\n",
       "    </tr>\n",
       "    <tr>\n",
       "      <th>museum</th>\n",
       "      <td>9.0</td>\n",
       "      <td>1.0</td>\n",
       "      <td>-6.633055</td>\n",
       "      <td>-8.227108</td>\n",
       "      <td>1.594053</td>\n",
       "      <td>r/OnGuardForThee</td>\n",
       "    </tr>\n",
       "    <tr>\n",
       "      <th>contrast</th>\n",
       "      <td>9.0</td>\n",
       "      <td>1.0</td>\n",
       "      <td>-6.633055</td>\n",
       "      <td>-8.227108</td>\n",
       "      <td>1.594053</td>\n",
       "      <td>r/OnGuardForThee</td>\n",
       "    </tr>\n",
       "  </tbody>\n",
       "</table>\n",
       "</div>"
      ],
      "text/plain": [
       "               ogft_count  canada_count  ogft_log_prob  canada_log_prob  \\\n",
       "token                                                                     \n",
       "metacanada           63.0           0.0      -4.776757        -8.920255   \n",
       "leftist              30.0           0.0      -5.501653        -8.920255   \n",
       "onguardforthe        18.0           0.0      -5.991201        -8.920255   \n",
       "mod                  51.0           3.0      -4.984397        -7.533961   \n",
       "canadapolit          11.0           0.0      -6.450734        -8.920255   \n",
       "gavin                10.0           0.0      -6.537745        -8.920255   \n",
       "brigad               10.0           0.0      -6.537745        -8.920255   \n",
       "denier                9.0           0.0      -6.633055        -8.920255   \n",
       "levant                9.0           0.0      -6.633055        -8.920255   \n",
       "socialist            27.0           2.0      -5.603436        -7.821643   \n",
       "intoler               8.0           0.0      -6.738416        -8.920255   \n",
       "gop                   8.0           0.0      -6.738416        -8.920255   \n",
       "lick                  8.0           0.0      -6.738416        -8.920255   \n",
       "dougi                 8.0           0.0      -6.738416        -8.920255   \n",
       "atheist               8.0           0.0      -6.738416        -8.920255   \n",
       "alabama               8.0           0.0      -6.738416        -8.920255   \n",
       "viewpoint            16.0           1.0      -6.102427        -8.227108   \n",
       "bigot                41.0           4.0      -5.197971        -7.310818   \n",
       "passion              14.0           1.0      -6.227590        -8.227108   \n",
       "andi                 14.0           1.0      -6.227590        -8.227108   \n",
       "misogynist           13.0           1.0      -6.296583        -8.227108   \n",
       "mmp                   6.0           0.0      -6.989730        -8.920255   \n",
       "mcinn                 6.0           0.0      -6.989730        -8.920255   \n",
       "misogyni             13.0           1.0      -6.296583        -8.227108   \n",
       "alt                  61.0           8.0      -4.808506        -6.723031   \n",
       "yellow               40.0           5.0      -5.222068        -7.128496   \n",
       "redneck              12.0           1.0      -6.370691        -8.227108   \n",
       "jewish               12.0           1.0      -6.370691        -8.227108   \n",
       "incel                18.0           2.0      -5.991201        -7.821643   \n",
       "peterson             29.0           4.0      -5.534443        -7.310818   \n",
       "tori                 29.0           4.0      -5.534443        -7.310818   \n",
       "harbour               5.0           0.0      -7.143881        -8.920255   \n",
       "string                5.0           0.0      -7.143881        -8.920255   \n",
       "vest                 40.0           6.0      -5.222068        -6.974345   \n",
       "shithol              10.0           1.0      -6.537745        -8.227108   \n",
       "forgotten            10.0           1.0      -6.537745        -8.227108   \n",
       "shill                10.0           1.0      -6.537745        -8.227108   \n",
       "jordan               15.0           2.0      -6.163052        -7.821643   \n",
       "denial               15.0           2.0      -6.163052        -7.821643   \n",
       "maga                 15.0           2.0      -6.163052        -7.821643   \n",
       "subreddit            56.0          10.0      -4.892589        -6.522360   \n",
       "republican           35.0           6.0      -5.352121        -6.974345   \n",
       "rabbit                9.0           1.0      -6.633055        -8.227108   \n",
       "shadow                9.0           1.0      -6.633055        -8.227108   \n",
       "conscious             9.0           1.0      -6.633055        -8.227108   \n",
       "persecut              9.0           1.0      -6.633055        -8.227108   \n",
       "rag                   9.0           1.0      -6.633055        -8.227108   \n",
       "allianc               9.0           1.0      -6.633055        -8.227108   \n",
       "museum                9.0           1.0      -6.633055        -8.227108   \n",
       "contrast              9.0           1.0      -6.633055        -8.227108   \n",
       "\n",
       "               odds_gap          favoured  \n",
       "token                                      \n",
       "metacanada     4.143498  r/OnGuardForThee  \n",
       "leftist        3.418602  r/OnGuardForThee  \n",
       "onguardforthe  2.929054  r/OnGuardForThee  \n",
       "mod            2.549564  r/OnGuardForThee  \n",
       "canadapolit    2.469522  r/OnGuardForThee  \n",
       "gavin          2.382510  r/OnGuardForThee  \n",
       "brigad         2.382510  r/OnGuardForThee  \n",
       "denier         2.287200  r/OnGuardForThee  \n",
       "levant         2.287200  r/OnGuardForThee  \n",
       "socialist      2.218207  r/OnGuardForThee  \n",
       "intoler        2.181840  r/OnGuardForThee  \n",
       "gop            2.181840  r/OnGuardForThee  \n",
       "lick           2.181840  r/OnGuardForThee  \n",
       "dougi          2.181840  r/OnGuardForThee  \n",
       "atheist        2.181840  r/OnGuardForThee  \n",
       "alabama        2.181840  r/OnGuardForThee  \n",
       "viewpoint      2.124681  r/OnGuardForThee  \n",
       "bigot          2.112847  r/OnGuardForThee  \n",
       "passion        1.999518  r/OnGuardForThee  \n",
       "andi           1.999518  r/OnGuardForThee  \n",
       "misogynist     1.930525  r/OnGuardForThee  \n",
       "mmp            1.930525  r/OnGuardForThee  \n",
       "mcinn          1.930525  r/OnGuardForThee  \n",
       "misogyni       1.930525  r/OnGuardForThee  \n",
       "alt            1.914525  r/OnGuardForThee  \n",
       "yellow         1.906428  r/OnGuardForThee  \n",
       "redneck        1.856417  r/OnGuardForThee  \n",
       "jewish         1.856417  r/OnGuardForThee  \n",
       "incel          1.830442  r/OnGuardForThee  \n",
       "peterson       1.776375  r/OnGuardForThee  \n",
       "tori           1.776375  r/OnGuardForThee  \n",
       "harbour        1.776375  r/OnGuardForThee  \n",
       "string         1.776375  r/OnGuardForThee  \n",
       "vest           1.752277  r/OnGuardForThee  \n",
       "shithol        1.689363  r/OnGuardForThee  \n",
       "forgotten      1.689363  r/OnGuardForThee  \n",
       "shill          1.689363  r/OnGuardForThee  \n",
       "jordan         1.658592  r/OnGuardForThee  \n",
       "denial         1.658592  r/OnGuardForThee  \n",
       "maga           1.658592  r/OnGuardForThee  \n",
       "subreddit      1.629771  r/OnGuardForThee  \n",
       "republican     1.622224  r/OnGuardForThee  \n",
       "rabbit         1.594053  r/OnGuardForThee  \n",
       "shadow         1.594053  r/OnGuardForThee  \n",
       "conscious      1.594053  r/OnGuardForThee  \n",
       "persecut       1.594053  r/OnGuardForThee  \n",
       "rag            1.594053  r/OnGuardForThee  \n",
       "allianc        1.594053  r/OnGuardForThee  \n",
       "museum         1.594053  r/OnGuardForThee  \n",
       "contrast       1.594053  r/OnGuardForThee  "
      ]
     },
     "execution_count": 63,
     "metadata": {},
     "output_type": "execute_result"
    }
   ],
   "source": [
    "token_probs[token_probs['favoured']=='r/OnGuardForThee'].sort_values('odds_gap', ascending=False).head(50)"
   ]
  },
  {
   "cell_type": "markdown",
   "metadata": {},
   "source": [
    "The most skewed token for r/OGFT is **metacanada**. This is the name of an alt-right Canadian subreddit. In general, this list is full of tokens related to metacommentary about other aspects of reddit. \"onguardforthe\", \"mod\", \"canadapolit\", and \"subreddit\" are all tokens related to commentary on reddit itself, or other reddit communities.\n",
    "\n",
    "Without exception, ever token on this list that's related to a person's name is a loud, online conservative media commentator. \"levant\" (Ezra Levant), \"gavin\" \"mcinn\" (Gavin McInnes), \"jordan\" \"peterson\" (Jordan Peterson).\n",
    "\n",
    "Loaded language that's characteristic of leftist online social discussion. \"denier/denial\", \"bigot\", \"intoler\", \"lick\" (typically as in bootlicker), \"misognyis/misogynist\", \"shill\", \"rag\", \"redneck\", \"incel\".\n",
    "\n",
    "Left wing keywords like \"leftist\" and \"socialist\".\n",
    "\n",
    "References to conservative groups: \"maga\", \"republican\", \"yellow\", \"vest\""
   ]
  },
  {
   "cell_type": "markdown",
   "metadata": {},
   "source": [
    "In other words, the model is pretty sure that if you're criticizing/discussing some other subreddit or conservative group, you're probably making an r/OnGuardForThee post."
   ]
  },
  {
   "cell_type": "markdown",
   "metadata": {},
   "source": [
    "Note: Keywords complaining about conservative issues takes up far more of this leaderboard than tokens relating to leftist policy. So does meta-discussion about more right wing Canadian subreddits. This could be evidence towards the pretty common anecdotal complaint that online left wing discussion spends more time hate reading/discussing things they don't like than on policy goals."
   ]
  },
  {
   "cell_type": "markdown",
   "metadata": {},
   "source": [
    "These are kind of outliers, though. Many of these are words that just weren't seen in the comment set of one subreddit or the other. What about more common words?"
   ]
  },
  {
   "cell_type": "markdown",
   "metadata": {},
   "source": [
    "## Skewed Common Words"
   ]
  },
  {
   "cell_type": "markdown",
   "metadata": {},
   "source": [
    "Let's look at tokens with a large odds gap that appeared in at least 100 comments in each subreddit in the training set."
   ]
  },
  {
   "cell_type": "code",
   "execution_count": 64,
   "metadata": {},
   "outputs": [
    {
     "data": {
      "text/html": [
       "<div>\n",
       "<style scoped>\n",
       "    .dataframe tbody tr th:only-of-type {\n",
       "        vertical-align: middle;\n",
       "    }\n",
       "\n",
       "    .dataframe tbody tr th {\n",
       "        vertical-align: top;\n",
       "    }\n",
       "\n",
       "    .dataframe thead th {\n",
       "        text-align: right;\n",
       "    }\n",
       "</style>\n",
       "<table border=\"1\" class=\"dataframe\">\n",
       "  <thead>\n",
       "    <tr style=\"text-align: right;\">\n",
       "      <th></th>\n",
       "      <th>ogft_count</th>\n",
       "      <th>canada_count</th>\n",
       "      <th>ogft_log_prob</th>\n",
       "      <th>canada_log_prob</th>\n",
       "      <th>odds_gap</th>\n",
       "      <th>favoured</th>\n",
       "    </tr>\n",
       "    <tr>\n",
       "      <th>token</th>\n",
       "      <th></th>\n",
       "      <th></th>\n",
       "      <th></th>\n",
       "      <th></th>\n",
       "      <th></th>\n",
       "      <th></th>\n",
       "    </tr>\n",
       "  </thead>\n",
       "  <tbody>\n",
       "    <tr>\n",
       "      <th>buy</th>\n",
       "      <td>111.0</td>\n",
       "      <td>184.0</td>\n",
       "      <td>-4.217141</td>\n",
       "      <td>-3.699900</td>\n",
       "      <td>0.517242</td>\n",
       "      <td>r/Canada</td>\n",
       "    </tr>\n",
       "    <tr>\n",
       "      <th>hous</th>\n",
       "      <td>101.0</td>\n",
       "      <td>162.0</td>\n",
       "      <td>-4.310668</td>\n",
       "      <td>-3.826505</td>\n",
       "      <td>0.484162</td>\n",
       "      <td>r/Canada</td>\n",
       "    </tr>\n",
       "    <tr>\n",
       "      <th>cost</th>\n",
       "      <td>128.0</td>\n",
       "      <td>191.0</td>\n",
       "      <td>-4.075828</td>\n",
       "      <td>-3.662760</td>\n",
       "      <td>0.413068</td>\n",
       "      <td>r/Canada</td>\n",
       "    </tr>\n",
       "    <tr>\n",
       "      <th>month</th>\n",
       "      <td>102.0</td>\n",
       "      <td>151.0</td>\n",
       "      <td>-4.300911</td>\n",
       "      <td>-3.896375</td>\n",
       "      <td>0.404536</td>\n",
       "      <td>r/Canada</td>\n",
       "    </tr>\n",
       "    <tr>\n",
       "      <th>compani</th>\n",
       "      <td>146.0</td>\n",
       "      <td>192.0</td>\n",
       "      <td>-3.945208</td>\n",
       "      <td>-3.657565</td>\n",
       "      <td>0.287643</td>\n",
       "      <td>r/Canada</td>\n",
       "    </tr>\n",
       "    <tr>\n",
       "      <th>home</th>\n",
       "      <td>130.0</td>\n",
       "      <td>170.0</td>\n",
       "      <td>-4.060443</td>\n",
       "      <td>-3.778592</td>\n",
       "      <td>0.281851</td>\n",
       "      <td>r/Canada</td>\n",
       "    </tr>\n",
       "    <tr>\n",
       "      <th>ask</th>\n",
       "      <td>139.0</td>\n",
       "      <td>178.0</td>\n",
       "      <td>-3.993998</td>\n",
       "      <td>-3.732870</td>\n",
       "      <td>0.261128</td>\n",
       "      <td>r/Canada</td>\n",
       "    </tr>\n",
       "    <tr>\n",
       "      <th>law</th>\n",
       "      <td>170.0</td>\n",
       "      <td>217.0</td>\n",
       "      <td>-3.793977</td>\n",
       "      <td>-3.535760</td>\n",
       "      <td>0.258216</td>\n",
       "      <td>r/Canada</td>\n",
       "    </tr>\n",
       "    <tr>\n",
       "      <th>lol</th>\n",
       "      <td>106.0</td>\n",
       "      <td>135.0</td>\n",
       "      <td>-4.262811</td>\n",
       "      <td>-4.007601</td>\n",
       "      <td>0.255211</td>\n",
       "      <td>r/Canada</td>\n",
       "    </tr>\n",
       "    <tr>\n",
       "      <th>legal</th>\n",
       "      <td>122.0</td>\n",
       "      <td>155.0</td>\n",
       "      <td>-4.123456</td>\n",
       "      <td>-3.870399</td>\n",
       "      <td>0.253057</td>\n",
       "      <td>r/Canada</td>\n",
       "    </tr>\n",
       "    <tr>\n",
       "      <th>money</th>\n",
       "      <td>266.0</td>\n",
       "      <td>330.0</td>\n",
       "      <td>-3.348392</td>\n",
       "      <td>-3.118137</td>\n",
       "      <td>0.230255</td>\n",
       "      <td>r/Canada</td>\n",
       "    </tr>\n",
       "    <tr>\n",
       "      <th>day</th>\n",
       "      <td>233.0</td>\n",
       "      <td>289.0</td>\n",
       "      <td>-3.480319</td>\n",
       "      <td>-3.250374</td>\n",
       "      <td>0.229945</td>\n",
       "      <td>r/Canada</td>\n",
       "    </tr>\n",
       "    <tr>\n",
       "      <th>less</th>\n",
       "      <td>167.0</td>\n",
       "      <td>203.0</td>\n",
       "      <td>-3.811676</td>\n",
       "      <td>-3.602135</td>\n",
       "      <td>0.209541</td>\n",
       "      <td>r/Canada</td>\n",
       "    </tr>\n",
       "    <tr>\n",
       "      <th>big</th>\n",
       "      <td>132.0</td>\n",
       "      <td>160.0</td>\n",
       "      <td>-4.045291</td>\n",
       "      <td>-3.838851</td>\n",
       "      <td>0.206440</td>\n",
       "      <td>r/Canada</td>\n",
       "    </tr>\n",
       "    <tr>\n",
       "      <th>case</th>\n",
       "      <td>133.0</td>\n",
       "      <td>160.0</td>\n",
       "      <td>-4.037801</td>\n",
       "      <td>-3.838851</td>\n",
       "      <td>0.198949</td>\n",
       "      <td>r/Canada</td>\n",
       "    </tr>\n",
       "    <tr>\n",
       "      <th>yes</th>\n",
       "      <td>168.0</td>\n",
       "      <td>200.0</td>\n",
       "      <td>-3.805742</td>\n",
       "      <td>-3.616951</td>\n",
       "      <td>0.188791</td>\n",
       "      <td>r/Canada</td>\n",
       "    </tr>\n",
       "    <tr>\n",
       "      <th>year</th>\n",
       "      <td>450.0</td>\n",
       "      <td>532.0</td>\n",
       "      <td>-2.824173</td>\n",
       "      <td>-2.641734</td>\n",
       "      <td>0.182439</td>\n",
       "      <td>r/Canada</td>\n",
       "    </tr>\n",
       "    <tr>\n",
       "      <th>time</th>\n",
       "      <td>509.0</td>\n",
       "      <td>584.0</td>\n",
       "      <td>-2.701230</td>\n",
       "      <td>-2.548644</td>\n",
       "      <td>0.152586</td>\n",
       "      <td>r/Canada</td>\n",
       "    </tr>\n",
       "    <tr>\n",
       "      <th>next</th>\n",
       "      <td>130.0</td>\n",
       "      <td>149.0</td>\n",
       "      <td>-4.060443</td>\n",
       "      <td>-3.909620</td>\n",
       "      <td>0.150823</td>\n",
       "      <td>r/Canada</td>\n",
       "    </tr>\n",
       "    <tr>\n",
       "      <th>great</th>\n",
       "      <td>140.0</td>\n",
       "      <td>159.0</td>\n",
       "      <td>-3.986880</td>\n",
       "      <td>-3.845082</td>\n",
       "      <td>0.141799</td>\n",
       "      <td>r/Canada</td>\n",
       "    </tr>\n",
       "    <tr>\n",
       "      <th>may</th>\n",
       "      <td>126.0</td>\n",
       "      <td>143.0</td>\n",
       "      <td>-4.091453</td>\n",
       "      <td>-3.950442</td>\n",
       "      <td>0.141011</td>\n",
       "      <td>r/Canada</td>\n",
       "    </tr>\n",
       "    <tr>\n",
       "      <th>pay</th>\n",
       "      <td>280.0</td>\n",
       "      <td>316.0</td>\n",
       "      <td>-3.297286</td>\n",
       "      <td>-3.161354</td>\n",
       "      <td>0.135932</td>\n",
       "      <td>r/Canada</td>\n",
       "    </tr>\n",
       "    <tr>\n",
       "      <th>tax</th>\n",
       "      <td>206.0</td>\n",
       "      <td>232.0</td>\n",
       "      <td>-3.602922</td>\n",
       "      <td>-3.469217</td>\n",
       "      <td>0.133705</td>\n",
       "      <td>r/Canada</td>\n",
       "    </tr>\n",
       "    <tr>\n",
       "      <th>anoth</th>\n",
       "      <td>127.0</td>\n",
       "      <td>143.0</td>\n",
       "      <td>-4.083610</td>\n",
       "      <td>-3.950442</td>\n",
       "      <td>0.133168</td>\n",
       "      <td>r/Canada</td>\n",
       "    </tr>\n",
       "    <tr>\n",
       "      <th>govern</th>\n",
       "      <td>408.0</td>\n",
       "      <td>456.0</td>\n",
       "      <td>-2.921925</td>\n",
       "      <td>-2.795572</td>\n",
       "      <td>0.126353</td>\n",
       "      <td>r/Canada</td>\n",
       "    </tr>\n",
       "  </tbody>\n",
       "</table>\n",
       "</div>"
      ],
      "text/plain": [
       "         ogft_count  canada_count  ogft_log_prob  canada_log_prob  odds_gap  \\\n",
       "token                                                                         \n",
       "buy           111.0         184.0      -4.217141        -3.699900  0.517242   \n",
       "hous          101.0         162.0      -4.310668        -3.826505  0.484162   \n",
       "cost          128.0         191.0      -4.075828        -3.662760  0.413068   \n",
       "month         102.0         151.0      -4.300911        -3.896375  0.404536   \n",
       "compani       146.0         192.0      -3.945208        -3.657565  0.287643   \n",
       "home          130.0         170.0      -4.060443        -3.778592  0.281851   \n",
       "ask           139.0         178.0      -3.993998        -3.732870  0.261128   \n",
       "law           170.0         217.0      -3.793977        -3.535760  0.258216   \n",
       "lol           106.0         135.0      -4.262811        -4.007601  0.255211   \n",
       "legal         122.0         155.0      -4.123456        -3.870399  0.253057   \n",
       "money         266.0         330.0      -3.348392        -3.118137  0.230255   \n",
       "day           233.0         289.0      -3.480319        -3.250374  0.229945   \n",
       "less          167.0         203.0      -3.811676        -3.602135  0.209541   \n",
       "big           132.0         160.0      -4.045291        -3.838851  0.206440   \n",
       "case          133.0         160.0      -4.037801        -3.838851  0.198949   \n",
       "yes           168.0         200.0      -3.805742        -3.616951  0.188791   \n",
       "year          450.0         532.0      -2.824173        -2.641734  0.182439   \n",
       "time          509.0         584.0      -2.701230        -2.548644  0.152586   \n",
       "next          130.0         149.0      -4.060443        -3.909620  0.150823   \n",
       "great         140.0         159.0      -3.986880        -3.845082  0.141799   \n",
       "may           126.0         143.0      -4.091453        -3.950442  0.141011   \n",
       "pay           280.0         316.0      -3.297286        -3.161354  0.135932   \n",
       "tax           206.0         232.0      -3.602922        -3.469217  0.133705   \n",
       "anoth         127.0         143.0      -4.083610        -3.950442  0.133168   \n",
       "govern        408.0         456.0      -2.921925        -2.795572  0.126353   \n",
       "\n",
       "         favoured  \n",
       "token              \n",
       "buy      r/Canada  \n",
       "hous     r/Canada  \n",
       "cost     r/Canada  \n",
       "month    r/Canada  \n",
       "compani  r/Canada  \n",
       "home     r/Canada  \n",
       "ask      r/Canada  \n",
       "law      r/Canada  \n",
       "lol      r/Canada  \n",
       "legal    r/Canada  \n",
       "money    r/Canada  \n",
       "day      r/Canada  \n",
       "less     r/Canada  \n",
       "big      r/Canada  \n",
       "case     r/Canada  \n",
       "yes      r/Canada  \n",
       "year     r/Canada  \n",
       "time     r/Canada  \n",
       "next     r/Canada  \n",
       "great    r/Canada  \n",
       "may      r/Canada  \n",
       "pay      r/Canada  \n",
       "tax      r/Canada  \n",
       "anoth    r/Canada  \n",
       "govern   r/Canada  "
      ]
     },
     "execution_count": 64,
     "metadata": {},
     "output_type": "execute_result"
    }
   ],
   "source": [
    "mask=(token_probs['favoured']=='r/Canada') & (token_probs['ogft_count'] >= 100) & (token_probs['canada_count'] >= 100)\n",
    "\n",
    "token_probs[mask].sort_values('odds_gap', ascending=False).head(25)"
   ]
  },
  {
   "cell_type": "markdown",
   "metadata": {},
   "source": [
    "Common economic words seem to be more strongly weighted to r/Canada."
   ]
  },
  {
   "cell_type": "code",
   "execution_count": 65,
   "metadata": {},
   "outputs": [
    {
     "data": {
      "text/html": [
       "<div>\n",
       "<style scoped>\n",
       "    .dataframe tbody tr th:only-of-type {\n",
       "        vertical-align: middle;\n",
       "    }\n",
       "\n",
       "    .dataframe tbody tr th {\n",
       "        vertical-align: top;\n",
       "    }\n",
       "\n",
       "    .dataframe thead th {\n",
       "        text-align: right;\n",
       "    }\n",
       "</style>\n",
       "<table border=\"1\" class=\"dataframe\">\n",
       "  <thead>\n",
       "    <tr style=\"text-align: right;\">\n",
       "      <th></th>\n",
       "      <th>ogft_count</th>\n",
       "      <th>canada_count</th>\n",
       "      <th>ogft_log_prob</th>\n",
       "      <th>canada_log_prob</th>\n",
       "      <th>odds_gap</th>\n",
       "      <th>favoured</th>\n",
       "    </tr>\n",
       "    <tr>\n",
       "      <th>token</th>\n",
       "      <th></th>\n",
       "      <th></th>\n",
       "      <th></th>\n",
       "      <th></th>\n",
       "      <th></th>\n",
       "      <th></th>\n",
       "    </tr>\n",
       "  </thead>\n",
       "  <tbody>\n",
       "    <tr>\n",
       "      <th>conserv</th>\n",
       "      <td>507.0</td>\n",
       "      <td>169.0</td>\n",
       "      <td>-2.705159</td>\n",
       "      <td>-3.784457</td>\n",
       "      <td>1.079298</td>\n",
       "      <td>r/OnGuardForThee</td>\n",
       "    </tr>\n",
       "    <tr>\n",
       "      <th>vote</th>\n",
       "      <td>401.0</td>\n",
       "      <td>189.0</td>\n",
       "      <td>-2.939188</td>\n",
       "      <td>-3.673231</td>\n",
       "      <td>0.734043</td>\n",
       "      <td>r/OnGuardForThee</td>\n",
       "    </tr>\n",
       "    <tr>\n",
       "      <th>elect</th>\n",
       "      <td>293.0</td>\n",
       "      <td>160.0</td>\n",
       "      <td>-3.252061</td>\n",
       "      <td>-3.838851</td>\n",
       "      <td>0.586790</td>\n",
       "      <td>r/OnGuardForThee</td>\n",
       "    </tr>\n",
       "    <tr>\n",
       "      <th>left</th>\n",
       "      <td>187.0</td>\n",
       "      <td>103.0</td>\n",
       "      <td>-3.699198</td>\n",
       "      <td>-4.275865</td>\n",
       "      <td>0.576666</td>\n",
       "      <td>r/OnGuardForThee</td>\n",
       "    </tr>\n",
       "    <tr>\n",
       "      <th>post</th>\n",
       "      <td>242.0</td>\n",
       "      <td>145.0</td>\n",
       "      <td>-3.442579</td>\n",
       "      <td>-3.936649</td>\n",
       "      <td>0.494070</td>\n",
       "      <td>r/OnGuardForThee</td>\n",
       "    </tr>\n",
       "    <tr>\n",
       "      <th>power</th>\n",
       "      <td>168.0</td>\n",
       "      <td>102.0</td>\n",
       "      <td>-3.805742</td>\n",
       "      <td>-4.285526</td>\n",
       "      <td>0.479785</td>\n",
       "      <td>r/OnGuardForThee</td>\n",
       "    </tr>\n",
       "    <tr>\n",
       "      <th>liber</th>\n",
       "      <td>294.0</td>\n",
       "      <td>180.0</td>\n",
       "      <td>-3.248665</td>\n",
       "      <td>-3.721758</td>\n",
       "      <td>0.473093</td>\n",
       "      <td>r/OnGuardForThee</td>\n",
       "    </tr>\n",
       "    <tr>\n",
       "      <th>social</th>\n",
       "      <td>175.0</td>\n",
       "      <td>108.0</td>\n",
       "      <td>-3.765156</td>\n",
       "      <td>-4.228908</td>\n",
       "      <td>0.463751</td>\n",
       "      <td>r/OnGuardForThee</td>\n",
       "    </tr>\n",
       "    <tr>\n",
       "      <th>support</th>\n",
       "      <td>267.0</td>\n",
       "      <td>165.0</td>\n",
       "      <td>-3.344653</td>\n",
       "      <td>-3.808268</td>\n",
       "      <td>0.463614</td>\n",
       "      <td>r/OnGuardForThee</td>\n",
       "    </tr>\n",
       "    <tr>\n",
       "      <th>polit</th>\n",
       "      <td>300.0</td>\n",
       "      <td>186.0</td>\n",
       "      <td>-3.228530</td>\n",
       "      <td>-3.689147</td>\n",
       "      <td>0.460617</td>\n",
       "      <td>r/OnGuardForThee</td>\n",
       "    </tr>\n",
       "    <tr>\n",
       "      <th>parti</th>\n",
       "      <td>317.0</td>\n",
       "      <td>197.0</td>\n",
       "      <td>-3.173589</td>\n",
       "      <td>-3.631988</td>\n",
       "      <td>0.458399</td>\n",
       "      <td>r/OnGuardForThee</td>\n",
       "    </tr>\n",
       "    <tr>\n",
       "      <th>alberta</th>\n",
       "      <td>201.0</td>\n",
       "      <td>132.0</td>\n",
       "      <td>-3.627373</td>\n",
       "      <td>-4.029906</td>\n",
       "      <td>0.402534</td>\n",
       "      <td>r/OnGuardForThee</td>\n",
       "    </tr>\n",
       "    <tr>\n",
       "      <th>right</th>\n",
       "      <td>707.0</td>\n",
       "      <td>468.0</td>\n",
       "      <td>-2.373196</td>\n",
       "      <td>-2.769653</td>\n",
       "      <td>0.396456</td>\n",
       "      <td>r/OnGuardForThee</td>\n",
       "    </tr>\n",
       "    <tr>\n",
       "      <th>news</th>\n",
       "      <td>184.0</td>\n",
       "      <td>122.0</td>\n",
       "      <td>-3.715285</td>\n",
       "      <td>-4.108071</td>\n",
       "      <td>0.392787</td>\n",
       "      <td>r/OnGuardForThee</td>\n",
       "    </tr>\n",
       "    <tr>\n",
       "      <th>kind</th>\n",
       "      <td>170.0</td>\n",
       "      <td>113.0</td>\n",
       "      <td>-3.793977</td>\n",
       "      <td>-4.184057</td>\n",
       "      <td>0.390080</td>\n",
       "      <td>r/OnGuardForThee</td>\n",
       "    </tr>\n",
       "    <tr>\n",
       "      <th>alway</th>\n",
       "      <td>196.0</td>\n",
       "      <td>132.0</td>\n",
       "      <td>-3.652437</td>\n",
       "      <td>-4.029906</td>\n",
       "      <td>0.377470</td>\n",
       "      <td>r/OnGuardForThee</td>\n",
       "    </tr>\n",
       "    <tr>\n",
       "      <th>shit</th>\n",
       "      <td>300.0</td>\n",
       "      <td>203.0</td>\n",
       "      <td>-3.228530</td>\n",
       "      <td>-3.602135</td>\n",
       "      <td>0.373605</td>\n",
       "      <td>r/OnGuardForThee</td>\n",
       "    </tr>\n",
       "    <tr>\n",
       "      <th>believ</th>\n",
       "      <td>212.0</td>\n",
       "      <td>144.0</td>\n",
       "      <td>-3.574348</td>\n",
       "      <td>-3.943522</td>\n",
       "      <td>0.369174</td>\n",
       "      <td>r/OnGuardForThee</td>\n",
       "    </tr>\n",
       "    <tr>\n",
       "      <th>comment</th>\n",
       "      <td>182.0</td>\n",
       "      <td>124.0</td>\n",
       "      <td>-3.726154</td>\n",
       "      <td>-4.091942</td>\n",
       "      <td>0.365787</td>\n",
       "      <td>r/OnGuardForThee</td>\n",
       "    </tr>\n",
       "    <tr>\n",
       "      <th>https</th>\n",
       "      <td>178.0</td>\n",
       "      <td>123.0</td>\n",
       "      <td>-3.748255</td>\n",
       "      <td>-4.099974</td>\n",
       "      <td>0.351719</td>\n",
       "      <td>r/OnGuardForThee</td>\n",
       "    </tr>\n",
       "    <tr>\n",
       "      <th>old</th>\n",
       "      <td>145.0</td>\n",
       "      <td>101.0</td>\n",
       "      <td>-3.952034</td>\n",
       "      <td>-4.295283</td>\n",
       "      <td>0.343249</td>\n",
       "      <td>r/OnGuardForThee</td>\n",
       "    </tr>\n",
       "    <tr>\n",
       "      <th>ontario</th>\n",
       "      <td>190.0</td>\n",
       "      <td>133.0</td>\n",
       "      <td>-3.683367</td>\n",
       "      <td>-4.022416</td>\n",
       "      <td>0.339049</td>\n",
       "      <td>r/OnGuardForThee</td>\n",
       "    </tr>\n",
       "    <tr>\n",
       "      <th>feel</th>\n",
       "      <td>224.0</td>\n",
       "      <td>161.0</td>\n",
       "      <td>-3.519540</td>\n",
       "      <td>-3.832659</td>\n",
       "      <td>0.313119</td>\n",
       "      <td>r/OnGuardForThee</td>\n",
       "    </tr>\n",
       "    <tr>\n",
       "      <th>person</th>\n",
       "      <td>322.0</td>\n",
       "      <td>234.0</td>\n",
       "      <td>-3.157988</td>\n",
       "      <td>-3.460670</td>\n",
       "      <td>0.302682</td>\n",
       "      <td>r/OnGuardForThee</td>\n",
       "    </tr>\n",
       "    <tr>\n",
       "      <th>provinc</th>\n",
       "      <td>162.0</td>\n",
       "      <td>120.0</td>\n",
       "      <td>-3.841890</td>\n",
       "      <td>-4.124465</td>\n",
       "      <td>0.282575</td>\n",
       "      <td>r/OnGuardForThee</td>\n",
       "    </tr>\n",
       "  </tbody>\n",
       "</table>\n",
       "</div>"
      ],
      "text/plain": [
       "         ogft_count  canada_count  ogft_log_prob  canada_log_prob  odds_gap  \\\n",
       "token                                                                         \n",
       "conserv       507.0         169.0      -2.705159        -3.784457  1.079298   \n",
       "vote          401.0         189.0      -2.939188        -3.673231  0.734043   \n",
       "elect         293.0         160.0      -3.252061        -3.838851  0.586790   \n",
       "left          187.0         103.0      -3.699198        -4.275865  0.576666   \n",
       "post          242.0         145.0      -3.442579        -3.936649  0.494070   \n",
       "power         168.0         102.0      -3.805742        -4.285526  0.479785   \n",
       "liber         294.0         180.0      -3.248665        -3.721758  0.473093   \n",
       "social        175.0         108.0      -3.765156        -4.228908  0.463751   \n",
       "support       267.0         165.0      -3.344653        -3.808268  0.463614   \n",
       "polit         300.0         186.0      -3.228530        -3.689147  0.460617   \n",
       "parti         317.0         197.0      -3.173589        -3.631988  0.458399   \n",
       "alberta       201.0         132.0      -3.627373        -4.029906  0.402534   \n",
       "right         707.0         468.0      -2.373196        -2.769653  0.396456   \n",
       "news          184.0         122.0      -3.715285        -4.108071  0.392787   \n",
       "kind          170.0         113.0      -3.793977        -4.184057  0.390080   \n",
       "alway         196.0         132.0      -3.652437        -4.029906  0.377470   \n",
       "shit          300.0         203.0      -3.228530        -3.602135  0.373605   \n",
       "believ        212.0         144.0      -3.574348        -3.943522  0.369174   \n",
       "comment       182.0         124.0      -3.726154        -4.091942  0.365787   \n",
       "https         178.0         123.0      -3.748255        -4.099974  0.351719   \n",
       "old           145.0         101.0      -3.952034        -4.295283  0.343249   \n",
       "ontario       190.0         133.0      -3.683367        -4.022416  0.339049   \n",
       "feel          224.0         161.0      -3.519540        -3.832659  0.313119   \n",
       "person        322.0         234.0      -3.157988        -3.460670  0.302682   \n",
       "provinc       162.0         120.0      -3.841890        -4.124465  0.282575   \n",
       "\n",
       "                 favoured  \n",
       "token                      \n",
       "conserv  r/OnGuardForThee  \n",
       "vote     r/OnGuardForThee  \n",
       "elect    r/OnGuardForThee  \n",
       "left     r/OnGuardForThee  \n",
       "post     r/OnGuardForThee  \n",
       "power    r/OnGuardForThee  \n",
       "liber    r/OnGuardForThee  \n",
       "social   r/OnGuardForThee  \n",
       "support  r/OnGuardForThee  \n",
       "polit    r/OnGuardForThee  \n",
       "parti    r/OnGuardForThee  \n",
       "alberta  r/OnGuardForThee  \n",
       "right    r/OnGuardForThee  \n",
       "news     r/OnGuardForThee  \n",
       "kind     r/OnGuardForThee  \n",
       "alway    r/OnGuardForThee  \n",
       "shit     r/OnGuardForThee  \n",
       "believ   r/OnGuardForThee  \n",
       "comment  r/OnGuardForThee  \n",
       "https    r/OnGuardForThee  \n",
       "old      r/OnGuardForThee  \n",
       "ontario  r/OnGuardForThee  \n",
       "feel     r/OnGuardForThee  \n",
       "person   r/OnGuardForThee  \n",
       "provinc  r/OnGuardForThee  "
      ]
     },
     "execution_count": 65,
     "metadata": {},
     "output_type": "execute_result"
    }
   ],
   "source": [
    "mask=(token_probs['favoured']=='r/OnGuardForThee') & (token_probs['ogft_count'] >= 100) & (token_probs['canada_count'] >= 100)\n",
    "\n",
    "token_probs[mask].sort_values('odds_gap', ascending=False).head(25)"
   ]
  },
  {
   "cell_type": "markdown",
   "metadata": {},
   "source": [
    "Well, we can see that I messed up the regex removing URL's."
   ]
  },
  {
   "cell_type": "markdown",
   "metadata": {},
   "source": [
    " Other than that, we can see a stronger tendence towards specifically political/regional discussion. Lots of political keywords, lots of names of provinces.\n",
    " \n",
    "We can also see that the odds gaps for favoured OnGuardForThee words is larger than those of r/Canada. E.g., the top 50 gaps with no filter range from 4.15-1.59 , while for r/Canada they range from 2.84-1.40. Similarly, when adding a minimum token count threshold, the largest 25 gaps in favour of OnGuardForThee range from 1.08-0.28, while the largest 25 in favour of r/Canada range from 0.53-0.13.\n",
    "\n",
    "I find this interesting, because the model overall favours r/Canada -- recall that it assigned 60% of posts to r/Canada. Despite this, the keywords that are associated to be favoured by OnGuardForThee seem to be assigned a more significant weight."
   ]
  },
  {
   "cell_type": "code",
   "execution_count": 66,
   "metadata": {
    "scrolled": true
   },
   "outputs": [
    {
     "data": {
      "text/plain": [
       "r/OnGuardForThee    2057\n",
       "r/Canada            1943\n",
       "Name: favoured, dtype: int64"
      ]
     },
     "execution_count": 66,
     "metadata": {},
     "output_type": "execute_result"
    }
   ],
   "source": [
    "token_probs['favoured'].value_counts()"
   ]
  },
  {
   "cell_type": "markdown",
   "metadata": {},
   "source": [
    "There's more tokens that are classified as more strongly weighted for OnGuardForThee, too! However, now let's look at some statistics aggregated by sum."
   ]
  },
  {
   "cell_type": "code",
   "execution_count": 67,
   "metadata": {},
   "outputs": [
    {
     "data": {
      "text/html": [
       "<div>\n",
       "<style scoped>\n",
       "    .dataframe tbody tr th:only-of-type {\n",
       "        vertical-align: middle;\n",
       "    }\n",
       "\n",
       "    .dataframe tbody tr th {\n",
       "        vertical-align: top;\n",
       "    }\n",
       "\n",
       "    .dataframe thead th {\n",
       "        text-align: right;\n",
       "    }\n",
       "</style>\n",
       "<table border=\"1\" class=\"dataframe\">\n",
       "  <thead>\n",
       "    <tr style=\"text-align: right;\">\n",
       "      <th></th>\n",
       "      <th>ogft_count</th>\n",
       "      <th>canada_count</th>\n",
       "      <th>ogft_log_prob</th>\n",
       "      <th>canada_log_prob</th>\n",
       "    </tr>\n",
       "    <tr>\n",
       "      <th>favoured</th>\n",
       "      <th></th>\n",
       "      <th></th>\n",
       "      <th></th>\n",
       "      <th></th>\n",
       "    </tr>\n",
       "  </thead>\n",
       "  <tbody>\n",
       "    <tr>\n",
       "      <th>r/Canada</th>\n",
       "      <td>43704.0</td>\n",
       "      <td>55946.0</td>\n",
       "      <td>-12616.586240</td>\n",
       "      <td>-11844.073700</td>\n",
       "    </tr>\n",
       "    <tr>\n",
       "      <th>r/OnGuardForThee</th>\n",
       "      <td>77243.0</td>\n",
       "      <td>56138.0</td>\n",
       "      <td>-12151.230407</td>\n",
       "      <td>-13124.613989</td>\n",
       "    </tr>\n",
       "  </tbody>\n",
       "</table>\n",
       "</div>"
      ],
      "text/plain": [
       "                  ogft_count  canada_count  ogft_log_prob  canada_log_prob\n",
       "favoured                                                                  \n",
       "r/Canada             43704.0       55946.0  -12616.586240    -11844.073700\n",
       "r/OnGuardForThee     77243.0       56138.0  -12151.230407    -13124.613989"
      ]
     },
     "execution_count": 67,
     "metadata": {},
     "output_type": "execute_result"
    }
   ],
   "source": [
    "token_probs[['ogft_count','canada_count', 'ogft_log_prob', 'canada_log_prob','favoured']].groupby('favoured').sum()"
   ]
  },
  {
   "cell_type": "markdown",
   "metadata": {},
   "source": [
    "This is a little hard to interpret (and yes, I tried histograms, but it was mostly too minute to visualize). But it appears to show that over all r/canada favoured words, the sums of the canada_log_probs are larger than the sum of the otfg log probabilities of the onguardforthee favoured tokens. That is, despite OGFT having the more noticible gaps in probability weights, the total sum of probabilities of words that skew towards r/Canada is higher."
   ]
  },
  {
   "cell_type": "code",
   "execution_count": 132,
   "metadata": {},
   "outputs": [
    {
     "name": "stderr",
     "output_type": "stream",
     "text": [
      "C:\\Users\\Patrick Dornian\\AppData\\Roaming\\Python\\Python38\\site-packages\\seaborn\\distributions.py:2551: FutureWarning: `distplot` is a deprecated function and will be removed in a future version. Please adapt your code to use either `displot` (a figure-level function with similar flexibility) or `histplot` (an axes-level function for histograms).\n",
      "  warnings.warn(msg, FutureWarning)\n",
      "C:\\Users\\Patrick Dornian\\AppData\\Roaming\\Python\\Python38\\site-packages\\seaborn\\distributions.py:2551: FutureWarning: `distplot` is a deprecated function and will be removed in a future version. Please adapt your code to use either `displot` (a figure-level function with similar flexibility) or `histplot` (an axes-level function for histograms).\n",
      "  warnings.warn(msg, FutureWarning)\n"
     ]
    },
    {
     "data": {
      "text/plain": [
       "Text(0.5, 0, 'Log Odds')"
      ]
     },
     "execution_count": 132,
     "metadata": {},
     "output_type": "execute_result"
    },
    {
     "data": {
      "image/png": "[encoded data removed]",
      "text/plain": [
       "<Figure size 1080x720 with 1 Axes>"
      ]
     },
     "metadata": {},
     "output_type": "display_data"
    }
   ],
   "source": [
    "fig, ax=plt.subplots(figsize=(15,10))\n",
    "sns.set_theme()\n",
    "sns.distplot(token_probs['ogft_log_prob'])\n",
    "sns.distplot(token_probs['canada_log_prob'])\n",
    "ax.legend(['r\\OnGuardForThee', 'r\\Canada'])\n",
    "plt.xlabel(\"Log Odds\")\n"
   ]
  },
  {
   "cell_type": "markdown",
   "metadata": {},
   "source": [
    "# Conclusions\n",
    "\n",
    "The final model chosen was a Bernoulli naive Bayes binary classifer, using 4000 features learned from the training set.\n",
    "\n",
    "We evaluated the model on a test set using standard classification metrics. Additionally, results were recorded for the classification performance of the test set partitioned into comments of greater than 20 words (long comments), and comments 20 or less words (short comments).\n",
    "\n",
    "|                                  | All comments | Long Comments (>20 words) | Short Comments (<=20 words) |\n",
    "|---------------------------------:|:------------:|:-------------------------:|:---------------------------:|\n",
    "|                   Total Comments |     5016     |            2822           |             2204            |\n",
    "|          Actual r/OnGuardForThee |     2533     |            1456           |             1127            |\n",
    "|                  Actual r/Canada |     2493     |            1366           |             1077            |\n",
    "|       Predicted r/OnGuardForThee |     2018     |            1443           |             575             |\n",
    "|               Predicted r/Canada |     3008     |            1337           |             1629            |\n",
    "|                   Accuracy Score |    0.6146    |           0.6389          |            0.5835           |\n",
    "|                     Recall Score |    0.5160    |           0.6456          |            0.3708           |\n",
    "|                Specificity Score |    0.7148    |           0.6318          |            0.8154           |\n",
    "| Precision (OnGuardForThee) Score |    0.6477    |           0.6514          |            0.6383           |\n",
    "|         Precision (Canada) Score |    0.5924    |           0.6258          |            0.5641           |\n",
    "|                         F1 Score |    0.5744    |           0.6485          |            0.4443           |"
   ]
  },
  {
   "cell_type": "markdown",
   "metadata": {},
   "source": [
    "These conclusions imply that the model would be best used for classifying long comments-- it has adequate performance within that category. \n",
    "\n",
    "The model's performance on short comments is highly skewed towards classifying things to be in r/Canada. Though it's accuracy is still above baseline, it's bias makes me recommend against using it to classify such comments.\n",
    "\n",
    "Though the model is not particularly accurate, this is an inherently messy classification subject. I think that if used heuristically and with an understanding of it's limitations, it could still prove to be a useful classifier."
   ]
  },
  {
   "cell_type": "markdown",
   "metadata": {},
   "source": [
    "# Epilogue \n",
    "\n",
    "Testing functions for putting this online."
   ]
  },
  {
   "cell_type": "code",
   "execution_count": 20,
   "metadata": {},
   "outputs": [],
   "source": [
    "sample_post=\"I hate conservatives they are dumb bithces\""
   ]
  },
  {
   "cell_type": "code",
   "execution_count": 29,
   "metadata": {
    "scrolled": false
   },
   "outputs": [
    {
     "data": {
      "text/plain": [
       "array([1], dtype=int64)"
      ]
     },
     "execution_count": 29,
     "metadata": {},
     "output_type": "execute_result"
    }
   ],
   "source": [
    "bnb_final.predict([sample_post])"
   ]
  },
  {
   "cell_type": "code",
   "execution_count": 26,
   "metadata": {},
   "outputs": [
    {
     "data": {
      "text/plain": [
       "0.2481948964306757"
      ]
     },
     "execution_count": 26,
     "metadata": {},
     "output_type": "execute_result"
    }
   ],
   "source": [
    "bnb_final.predict_proba([sample_post])[0,0]"
   ]
  },
  {
   "cell_type": "code",
   "execution_count": 30,
   "metadata": {},
   "outputs": [],
   "source": [
    "def pred_post(text, model):\n",
    "    label_map=['r/Canada', 'r/OnGuardForThee']\n",
    "    post=[text]\n",
    "    prediction=model.predict([text])[0]\n",
    "    pred_text=label_map[prediction]\n",
    "    pred_prob=round(model.predict_proba([text])[0,prediction] * 100, 1)\n",
    "    return f\"The model thinks this seems like an {pred_text} post with {pred_prob}% certainty\""
   ]
  },
  {
   "cell_type": "code",
   "execution_count": 32,
   "metadata": {},
   "outputs": [
    {
     "data": {
      "text/plain": [
       "'The model thinks this is a r/OnGuardForThee post with 75.2% certainty'"
      ]
     },
     "execution_count": 32,
     "metadata": {},
     "output_type": "execute_result"
    }
   ],
   "source": [
    "pred_post(sample_post, bnb_final)"
   ]
  }
 ],
 "metadata": {
  "kernelspec": {
   "display_name": "Python 3",
   "language": "python",
   "name": "python3"
  },
  "language_info": {
   "codemirror_mode": {
    "name": "ipython",
    "version": 3
   },
   "file_extension": ".py",
   "mimetype": "text/x-python",
   "name": "python",
   "nbconvert_exporter": "python",
   "pygments_lexer": "ipython3",
   "version": "3.8.5"
  }
 },
 "nbformat": 4,
 "nbformat_minor": 4
}

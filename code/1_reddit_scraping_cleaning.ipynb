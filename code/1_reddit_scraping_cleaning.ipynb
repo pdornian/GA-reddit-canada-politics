{
 "cells": [
  {
   "cell_type": "code",
   "execution_count": 9,
   "metadata": {},
   "outputs": [],
   "source": [
    "import pandas as pd\n",
    "import numpy as np\n",
    "import requests\n",
    "import time"
   ]
  },
  {
   "cell_type": "code",
   "execution_count": 3,
   "metadata": {},
   "outputs": [],
   "source": [
    "#base URLS for using pushshift to query submissions and comments.\n",
    "\n",
    "sub_url= \"https://api.pushshift.io/reddit/search/submission/\"\n",
    "com_url= \"https://api.pushshift.io/reddit/search/comment/\""
   ]
  },
  {
   "cell_type": "markdown",
   "metadata": {},
   "source": [
    " Let's look at submitted comments with a score of at least 50. I want to focus on comments rather than posts, as the bulk of posts are just links -- I think there will be more opinionated text to analyze in comments.\n",
    "\n"
   ]
  },
  {
   "cell_type": "markdown",
   "metadata": {},
   "source": [
    "PushShift only lets you grab 100 records at a time. Let's get timestamps of weeks for the two years, and then make calls for each of them. The timestamp for Sept 30, 2020, 11:59 PM is 1601510399"
   ]
  },
  {
   "cell_type": "code",
   "execution_count": 4,
   "metadata": {},
   "outputs": [
    {
     "data": {
      "text/plain": [
       "604800"
      ]
     },
     "execution_count": 4,
     "metadata": {},
     "output_type": "execute_result"
    }
   ],
   "source": [
    "#let's calculate the seconds in a week.\n",
    "secs=60*60*24*7\n",
    "secs"
   ]
  },
  {
   "cell_type": "code",
   "execution_count": 5,
   "metadata": {},
   "outputs": [],
   "source": [
    "weekly_timestamps=[]\n",
    "x= 1601510399\n",
    "for i in range(105):\n",
    "    weekly_timestamps.append(x)\n",
    "    x-=secs"
   ]
  },
  {
   "cell_type": "code",
   "execution_count": 6,
   "metadata": {},
   "outputs": [],
   "source": [
    "#this is a list of 104 timestamp pairs -- the week end, and the week beginning\n",
    "timestamp_pairs= [(weekly_timestamps[i], weekly_timestamps[i+1]) for i in range(104)] "
   ]
  },
  {
   "cell_type": "code",
   "execution_count": 7,
   "metadata": {},
   "outputs": [
    {
     "data": {
      "text/plain": [
       "[(1601510399, 1600905599),\n",
       " (1600905599, 1600300799),\n",
       " (1600300799, 1599695999),\n",
       " (1599695999, 1599091199),\n",
       " (1599091199, 1598486399),\n",
       " (1598486399, 1597881599),\n",
       " (1597881599, 1597276799),\n",
       " (1597276799, 1596671999),\n",
       " (1596671999, 1596067199),\n",
       " (1596067199, 1595462399),\n",
       " (1595462399, 1594857599),\n",
       " (1594857599, 1594252799),\n",
       " (1594252799, 1593647999),\n",
       " (1593647999, 1593043199),\n",
       " (1593043199, 1592438399),\n",
       " (1592438399, 1591833599),\n",
       " (1591833599, 1591228799),\n",
       " (1591228799, 1590623999),\n",
       " (1590623999, 1590019199),\n",
       " (1590019199, 1589414399),\n",
       " (1589414399, 1588809599),\n",
       " (1588809599, 1588204799),\n",
       " (1588204799, 1587599999),\n",
       " (1587599999, 1586995199),\n",
       " (1586995199, 1586390399),\n",
       " (1586390399, 1585785599),\n",
       " (1585785599, 1585180799),\n",
       " (1585180799, 1584575999),\n",
       " (1584575999, 1583971199),\n",
       " (1583971199, 1583366399),\n",
       " (1583366399, 1582761599),\n",
       " (1582761599, 1582156799),\n",
       " (1582156799, 1581551999),\n",
       " (1581551999, 1580947199),\n",
       " (1580947199, 1580342399),\n",
       " (1580342399, 1579737599),\n",
       " (1579737599, 1579132799),\n",
       " (1579132799, 1578527999),\n",
       " (1578527999, 1577923199),\n",
       " (1577923199, 1577318399),\n",
       " (1577318399, 1576713599),\n",
       " (1576713599, 1576108799),\n",
       " (1576108799, 1575503999),\n",
       " (1575503999, 1574899199),\n",
       " (1574899199, 1574294399),\n",
       " (1574294399, 1573689599),\n",
       " (1573689599, 1573084799),\n",
       " (1573084799, 1572479999),\n",
       " (1572479999, 1571875199),\n",
       " (1571875199, 1571270399),\n",
       " (1571270399, 1570665599),\n",
       " (1570665599, 1570060799),\n",
       " (1570060799, 1569455999),\n",
       " (1569455999, 1568851199),\n",
       " (1568851199, 1568246399),\n",
       " (1568246399, 1567641599),\n",
       " (1567641599, 1567036799),\n",
       " (1567036799, 1566431999),\n",
       " (1566431999, 1565827199),\n",
       " (1565827199, 1565222399),\n",
       " (1565222399, 1564617599),\n",
       " (1564617599, 1564012799),\n",
       " (1564012799, 1563407999),\n",
       " (1563407999, 1562803199),\n",
       " (1562803199, 1562198399),\n",
       " (1562198399, 1561593599),\n",
       " (1561593599, 1560988799),\n",
       " (1560988799, 1560383999),\n",
       " (1560383999, 1559779199),\n",
       " (1559779199, 1559174399),\n",
       " (1559174399, 1558569599),\n",
       " (1558569599, 1557964799),\n",
       " (1557964799, 1557359999),\n",
       " (1557359999, 1556755199),\n",
       " (1556755199, 1556150399),\n",
       " (1556150399, 1555545599),\n",
       " (1555545599, 1554940799),\n",
       " (1554940799, 1554335999),\n",
       " (1554335999, 1553731199),\n",
       " (1553731199, 1553126399),\n",
       " (1553126399, 1552521599),\n",
       " (1552521599, 1551916799),\n",
       " (1551916799, 1551311999),\n",
       " (1551311999, 1550707199),\n",
       " (1550707199, 1550102399),\n",
       " (1550102399, 1549497599),\n",
       " (1549497599, 1548892799),\n",
       " (1548892799, 1548287999),\n",
       " (1548287999, 1547683199),\n",
       " (1547683199, 1547078399),\n",
       " (1547078399, 1546473599),\n",
       " (1546473599, 1545868799),\n",
       " (1545868799, 1545263999),\n",
       " (1545263999, 1544659199),\n",
       " (1544659199, 1544054399),\n",
       " (1544054399, 1543449599),\n",
       " (1543449599, 1542844799),\n",
       " (1542844799, 1542239999),\n",
       " (1542239999, 1541635199),\n",
       " (1541635199, 1541030399),\n",
       " (1541030399, 1540425599),\n",
       " (1540425599, 1539820799),\n",
       " (1539820799, 1539215999),\n",
       " (1539215999, 1538611199)]"
      ]
     },
     "execution_count": 7,
     "metadata": {},
     "output_type": "execute_result"
    }
   ],
   "source": [
    "timestamp_pairs"
   ]
  },
  {
   "cell_type": "code",
   "execution_count": 8,
   "metadata": {
    "scrolled": false
   },
   "outputs": [
    {
     "name": "stdout",
     "output_type": "stream",
     "text": [
      "(1601510399, 1600905599)\n",
      "(1600905599, 1600300799)\n",
      "(1600300799, 1599695999)\n",
      "(1599695999, 1599091199)\n",
      "(1599091199, 1598486399)\n",
      "(1598486399, 1597881599)\n",
      "(1597881599, 1597276799)\n",
      "(1597276799, 1596671999)\n"
     ]
    },
    {
     "ename": "KeyboardInterrupt",
     "evalue": "",
     "output_type": "error",
     "traceback": [
      "\u001b[1;31m---------------------------------------------------------------------------\u001b[0m",
      "\u001b[1;31mKeyboardInterrupt\u001b[0m                         Traceback (most recent call last)",
      "\u001b[1;32m<ipython-input-8-b18a57cc3eec>\u001b[0m in \u001b[0;36m<module>\u001b[1;34m\u001b[0m\n\u001b[0;32m     15\u001b[0m         \u001b[0mreq_ogft\u001b[0m\u001b[1;33m=\u001b[0m\u001b[0mrequests\u001b[0m\u001b[1;33m.\u001b[0m\u001b[0mget\u001b[0m\u001b[1;33m(\u001b[0m\u001b[0mcom_url\u001b[0m\u001b[1;33m,\u001b[0m \u001b[0mparams\u001b[0m\u001b[1;33m=\u001b[0m\u001b[0mogft_params\u001b[0m\u001b[1;33m)\u001b[0m\u001b[1;33m\u001b[0m\u001b[1;33m\u001b[0m\u001b[0m\n\u001b[0;32m     16\u001b[0m     \u001b[0mall_weeks_ogft\u001b[0m\u001b[1;33m.\u001b[0m\u001b[0mappend\u001b[0m\u001b[1;33m(\u001b[0m\u001b[0mreq_ogft\u001b[0m\u001b[1;33m.\u001b[0m\u001b[0mjson\u001b[0m\u001b[1;33m(\u001b[0m\u001b[1;33m)\u001b[0m\u001b[1;33m)\u001b[0m\u001b[1;33m\u001b[0m\u001b[1;33m\u001b[0m\u001b[0m\n\u001b[1;32m---> 17\u001b[1;33m     \u001b[0mtime\u001b[0m\u001b[1;33m.\u001b[0m\u001b[0msleep\u001b[0m\u001b[1;33m(\u001b[0m\u001b[1;36m2\u001b[0m\u001b[1;33m)\u001b[0m\u001b[1;33m\u001b[0m\u001b[1;33m\u001b[0m\u001b[0m\n\u001b[0m",
      "\u001b[1;31mKeyboardInterrupt\u001b[0m: "
     ]
    }
   ],
   "source": [
    "\n",
    "\n",
    "all_weeks_ogft=[]\n",
    "for pair in timestamp_pairs:\n",
    "    before_ts=pair[0]\n",
    "    after_ts=pair[1]\n",
    "    ogft_params={'subreddit':'onguardforthee',\n",
    "           'after': after_ts,\n",
    "           'before':before_ts,\n",
    "            'sort_type': 'score',\n",
    "            'sort':'desc',\n",
    "            'size':100}\n",
    "    req_ogft=requests.get(com_url, params=ogft_params)\n",
    "    print(pair)\n",
    "    while req_ogft.status_code != 200:\n",
    "        time.sleep(5)\n",
    "        req_ogft=requests.get(com_url, params=ogft_params)\n",
    "    all_weeks_ogft.append(req_ogft.json())\n",
    "    time.sleep(2)"
   ]
  },
  {
   "cell_type": "code",
   "execution_count": null,
   "metadata": {},
   "outputs": [],
   "source": [
    "x=0\n",
    "for week in all_weeks_ogft:\n",
    "    if len(week['data']) != 100:\n",
    "        print(f\"week {x} incomplete\")\n",
    "        x+=1"
   ]
  },
  {
   "cell_type": "code",
   "execution_count": null,
   "metadata": {},
   "outputs": [],
   "source": [
    "\n",
    "all_weeks_can=[]\n",
    "for pair in timestamp_pairs:\n",
    "    before_ts=pair[0]\n",
    "    after_ts=pair[1]\n",
    "    can_params={'subreddit':'canada',\n",
    "           'after': after_ts,\n",
    "           'before':before_ts,\n",
    "            'sort_type': 'score',\n",
    "            'sort':'desc',\n",
    "            'size':100}\n",
    "    req_can=requests.get(com_url, params=can_params)\n",
    "    print(pair)\n",
    "    while req_can.status_code != 200:\n",
    "        time.sleep(5)\n",
    "        req_can=requests.get(sub_url, params=can_params)\n",
    "    all_weeks_can.append(req_can.json())\n",
    "    time.sleep(2)"
   ]
  },
  {
   "cell_type": "code",
   "execution_count": null,
   "metadata": {},
   "outputs": [],
   "source": [
    "x=0\n",
    "for week in all_weeks_can:\n",
    "    if len(week['data']) != 100:\n",
    "        print(f\"week {x} incomplete\")\n",
    "        x+=1"
   ]
  },
  {
   "cell_type": "markdown",
   "metadata": {},
   "source": [
    "Disclaimer: I was hoping to do some score based filtering on the comments. However, putting anything in the score filter for the API produced unexpected results."
   ]
  },
  {
   "cell_type": "code",
   "execution_count": null,
   "metadata": {},
   "outputs": [],
   "source": [
    "all_weeks_ogft.extend(all_weeks_can)"
   ]
  },
  {
   "cell_type": "code",
   "execution_count": null,
   "metadata": {},
   "outputs": [],
   "source": [
    "all_weeks=all_weeks_ogft"
   ]
  },
  {
   "cell_type": "code",
   "execution_count": null,
   "metadata": {},
   "outputs": [],
   "source": [
    "len(all_weeks)"
   ]
  },
  {
   "cell_type": "code",
   "execution_count": null,
   "metadata": {},
   "outputs": [],
   "source": [
    "all_weeks_dfs=[pd.DataFrame(week['data']) for week in all_weeks]"
   ]
  },
  {
   "cell_type": "code",
   "execution_count": null,
   "metadata": {},
   "outputs": [],
   "source": [
    "all_weeks_dfs[0]['author'].value_counts()"
   ]
  },
  {
   "cell_type": "code",
   "execution_count": null,
   "metadata": {},
   "outputs": [],
   "source": [
    "reddit_df=pd.concat(all_weeks_dfs)"
   ]
  },
  {
   "cell_type": "code",
   "execution_count": null,
   "metadata": {},
   "outputs": [],
   "source": [
    "reddit_df.columns"
   ]
  },
  {
   "cell_type": "markdown",
   "metadata": {},
   "source": [
    "We can toss away most of this information. Things that we want. Mostly we just need 'subreddit' and 'body'. But let's also pull in score, controversiality, and created_utc for some explanatory stats."
   ]
  },
  {
   "cell_type": "code",
   "execution_count": null,
   "metadata": {},
   "outputs": [],
   "source": [
    "canada_df=reddit_df[['subreddit','author','created_utc','score','controversiality', 'body']].copy()"
   ]
  },
  {
   "cell_type": "code",
   "execution_count": null,
   "metadata": {},
   "outputs": [],
   "source": [
    "# fix the busted indices\n",
    "canada_df.reset_index(drop=True, inplace=True)"
   ]
  },
  {
   "cell_type": "code",
   "execution_count": null,
   "metadata": {},
   "outputs": [],
   "source": [
    "#on second thought, controversiality isn't doing anthing for us.\n",
    "canada_df.drop(columns=['controversiality'], inplace=True)"
   ]
  },
  {
   "cell_type": "code",
   "execution_count": null,
   "metadata": {
    "scrolled": false
   },
   "outputs": [],
   "source": [
    "canada_df['body'].value_counts()"
   ]
  },
  {
   "cell_type": "markdown",
   "metadata": {},
   "source": [
    "Let's get rid of deleted or removed messages."
   ]
  },
  {
   "cell_type": "code",
   "execution_count": null,
   "metadata": {},
   "outputs": [],
   "source": [
    "mask = (canada_df['body']==f'[removed]') | (canada_df['body']==f'[deleted]')"
   ]
  },
  {
   "cell_type": "code",
   "execution_count": null,
   "metadata": {},
   "outputs": [],
   "source": [
    "canada_df.drop(canada_df[mask].index, inplace=True)"
   ]
  },
  {
   "cell_type": "code",
   "execution_count": null,
   "metadata": {},
   "outputs": [],
   "source": [
    "canada_df[canada_df['body'].str.contains('Thank you for your submission')]"
   ]
  },
  {
   "cell_type": "code",
   "execution_count": null,
   "metadata": {},
   "outputs": [],
   "source": [
    "mask= canada_df['body'].str.contains('Thank you for your submission')\n",
    "canada_df.drop(canada_df[mask].index, inplace=True)"
   ]
  },
  {
   "cell_type": "code",
   "execution_count": 13,
   "metadata": {},
   "outputs": [],
   "source": [
    "mask= canada_df['author']=='AutoModerator'\n",
    "canada_df.drop(canada_df[mask].index, inplace=True)"
   ]
  },
  {
   "cell_type": "code",
   "execution_count": 14,
   "metadata": {},
   "outputs": [],
   "source": [
    "canada_df.reset_index(drop=True, inplace=True)"
   ]
  },
  {
   "cell_type": "code",
   "execution_count": 15,
   "metadata": {},
   "outputs": [
    {
     "data": {
      "text/plain": [
       "(20102, 7)"
      ]
     },
     "execution_count": 15,
     "metadata": {},
     "output_type": "execute_result"
    }
   ],
   "source": [
    "canada_df.shape"
   ]
  },
  {
   "cell_type": "code",
   "execution_count": 16,
   "metadata": {},
   "outputs": [
    {
     "data": {
      "text/plain": [
       "onguardforthee    0.50388\n",
       "canada            0.49612\n",
       "Name: subreddit, dtype: float64"
      ]
     },
     "execution_count": 16,
     "metadata": {},
     "output_type": "execute_result"
    }
   ],
   "source": [
    "canada_df['subreddit'].value_counts(normalize=True)"
   ]
  },
  {
   "cell_type": "markdown",
   "metadata": {},
   "source": [
    "I think we're about ready to process this. Let's export the data and proceed to the next notebook."
   ]
  },
  {
   "cell_type": "code",
   "execution_count": 17,
   "metadata": {},
   "outputs": [],
   "source": [
    "canada_df.to_csv('..\\data\\canada_subreddit_comments.csv', index=False)"
   ]
  }
 ],
 "metadata": {
  "kernelspec": {
   "display_name": "Python 3",
   "language": "python",
   "name": "python3"
  },
  "language_info": {
   "codemirror_mode": {
    "name": "ipython",
    "version": 3
   },
   "file_extension": ".py",
   "mimetype": "text/x-python",
   "name": "python",
   "nbconvert_exporter": "python",
   "pygments_lexer": "ipython3",
   "version": "3.8.5"
  }
 },
 "nbformat": 4,
 "nbformat_minor": 4
}
